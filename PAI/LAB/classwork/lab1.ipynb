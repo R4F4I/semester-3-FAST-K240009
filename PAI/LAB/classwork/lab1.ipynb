{
 "cells": [
  {
   "cell_type": "markdown",
   "id": "b813b8da",
   "metadata": {},
   "source": [
    "# hello"
   ]
  },
  {
   "cell_type": "code",
   "execution_count": null,
   "id": "5ebf4aa6",
   "metadata": {
    "vscode": {
     "languageId": "plaintext"
    }
   },
   "outputs": [],
   "source": [
    "print(\"hello\")"
   ]
  }
 ],
 "metadata": {
  "language_info": {
   "name": "python"
  }
 },
 "nbformat": 4,
 "nbformat_minor": 5
}
