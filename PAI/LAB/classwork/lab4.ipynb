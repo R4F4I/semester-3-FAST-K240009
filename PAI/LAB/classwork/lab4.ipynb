{
  "nbformat": 4,
  "nbformat_minor": 0,
  "metadata": {
    "colab": {
      "provenance": [],
      "authorship_tag": "ABX9TyOTyXPZy1RDUCReWJoKK4G1"
    },
    "kernelspec": {
      "name": "python3",
      "display_name": "Python 3"
    },
    "language_info": {
      "name": "python"
    }
  },
  "cells": [
    {
      "cell_type": "markdown",
      "source": [],
      "metadata": {
        "id": "_3id_idtvTOm"
      }
    },
    {
      "cell_type": "markdown",
      "source": [
        "# OOP in python"
      ],
      "metadata": {
        "id": "JmRA8sMOvlwu"
      }
    },
    {
      "cell_type": "markdown",
      "source": [
        "## tasks\n",
        "\n",
        "1. Create a Bus child class that inherits from the Vehicle class. The default fare charge of any vehicle\n",
        "is seating capacity * 100. If Vehicle is Bus instance, we need to add an extra 10% on full fare as a\n",
        "maintenance charge. So total fare for bus instance will become the final amount = total fare + 10%\n",
        "of the total fare.\n"
      ],
      "metadata": {
        "id": "-vtDXNqTv9Le"
      }
    },
    {
      "cell_type": "code",
      "source": [
        "class Vehicle:\n",
        "    def __init__(self, name, seating_capacity):\n",
        "        self.name = name\n",
        "        self.seating_capacity = seating_capacity\n",
        "\n",
        "    def fare(self):\n",
        "        return self.seating_capacity * 100\n",
        "\n",
        "class Bus(Vehicle):\n",
        "    def fare(self):\n",
        "        total_fare = super().fare()\n",
        "        maintenance_charge = total_fare * 0.10\n",
        "        return total_fare + maintenance_charge\n",
        "\n",
        "# Example usage:\n",
        "bus = Bus(\"School Bus\", 50)\n",
        "print(f\"The fare for the {bus.name} with {bus.seating_capacity} seats is: {bus.fare()}\")"
      ],
      "metadata": {
        "id": "9idnA9GWws2w"
      },
      "execution_count": null,
      "outputs": []
    },
    {
      "cell_type": "markdown",
      "source": [
        "\n",
        "2. Create abstract base class \"shape\" that has abstract method \"area\". Inherit rectangle, triangle and\n",
        "square class from shape class and provide implementation of \"area\" method for each derived\n",
        "class. Finally print area of rectangle, triangle and square.\n",
        "\n"
      ],
      "metadata": {
        "id": "h5QUUMfHwYJX"
      }
    },
    {
      "cell_type": "code",
      "source": [
        "from abc import ABC, abstractmethod\n",
        "\n",
        "class Shape(ABC):\n",
        "    @abstractmethod\n",
        "    def area(self):\n",
        "        pass\n",
        "\n",
        "class Rectangle(Shape):\n",
        "    def __init__(self, width, height):\n",
        "        self.width = width\n",
        "        self.height = height\n",
        "\n",
        "    def area(self):\n",
        "        return self.width * self.height\n",
        "\n",
        "class Triangle(Shape):\n",
        "    def __init__(self, base, height):\n",
        "        self.base = base\n",
        "        self.height = height\n",
        "\n",
        "    def area(self):\n",
        "        return 0.5 * self.base * self.height\n",
        "\n",
        "class Square(Shape):\n",
        "    def __init__(self, side):\n",
        "        self.side = side\n",
        "\n",
        "    def area(self):\n",
        "        return self.side * self.side\n",
        "\n",
        "# Example usage:\n",
        "rectangle = Rectangle(5, 10)\n",
        "triangle = Triangle(6, 8)\n",
        "square = Square(7)\n",
        "\n",
        "print(f\"Area of Rectangle: {rectangle.area()}\")\n",
        "print(f\"Area of Triangle: {triangle.area()}\")\n",
        "print(f\"Area of Square: {square.area()}\")"
      ],
      "metadata": {
        "colab": {
          "base_uri": "https://localhost:8080/"
        },
        "id": "CdxBa-MMwuLo",
        "outputId": "dcb6f1ae-456c-41a5-f56c-4a9690c2d3c6"
      },
      "execution_count": null,
      "outputs": [
        {
          "output_type": "stream",
          "name": "stdout",
          "text": [
            "Area of Rectangle: 50\n",
            "Area of Triangle: 24.0\n",
            "Area of Square: 49\n"
          ]
        }
      ]
    },
    {
      "cell_type": "markdown",
      "source": [
        "3. Write a program in which a class named Account has private member variables named\n",
        "account_no ,account_bal ,security_code. Use a public function to initialize the variables and print\n",
        "all data.\n"
      ],
      "metadata": {
        "id": "dXmZhJS3waYP"
      }
    },
    {
      "cell_type": "code",
      "source": [
        "class Account:\n",
        "    def __init__(self, account_no, account_bal, security_code):\n",
        "        self.__account_no = account_no\n",
        "        self.__account_bal = account_bal\n",
        "        self.__security_code = security_code\n",
        "\n",
        "    def display_account_info(self):\n",
        "        print(\"Account Information:\")\n",
        "        print(f\"Account Number: {self.__account_no}\")\n",
        "        print(f\"Account Balance: {self.__account_bal}\")\n",
        "        print(f\"Security Code: {self.__security_code}\")\n",
        "\n",
        "# Example usage:\n",
        "account1 = Account(\"123456789\", 1000.50, \"abcde\")\n",
        "account1.display_account_info()"
      ],
      "metadata": {
        "colab": {
          "base_uri": "https://localhost:8080/"
        },
        "id": "uzWKILgFwuoI",
        "outputId": "806c5864-3cf8-4172-868b-253fbea35e3c"
      },
      "execution_count": null,
      "outputs": [
        {
          "output_type": "stream",
          "name": "stdout",
          "text": [
            "Account Information:\n",
            "Account Number: 123456789\n",
            "Account Balance: 1000.5\n",
            "Security Code: abcde\n"
          ]
        }
      ]
    },
    {
      "cell_type": "markdown",
      "source": [
        "\n",
        "4. A university is deciding to upgrade its system. In order to upgrade, you need to implement the\n",
        "following scenario: Note the following:\n",
        "- The class student has a function that displays information about the student i.e. id and\n",
        "name.\n",
        "- Class marks is derived from class student and has a function that displays all the marks\n",
        "obtained in the courses by the students. i.e. marks_algo, marks_dataScience,\n",
        "marks_calculus.\n",
        "- Class result is derived from class marks. This class has a function that calculates the total\n",
        "marks and then calculates the average marks. It then displays both the total and the\n",
        "average marks.\n",
        "In the main function you are required to do the following:\n",
        "- Create an object of the result class.\n",
        "- Then display the student details, the marks obtained in each courses and the total and the\n",
        "average marks.\n"
      ],
      "metadata": {
        "id": "YTSDYp2FwcHg"
      }
    },
    {
      "cell_type": "code",
      "source": [
        "class Student:\n",
        "    def __init__(self, student_id, name):\n",
        "        self.student_id = student_id\n",
        "        self.name = name\n",
        "\n",
        "    def display_student_info(self):\n",
        "        print(f\"Student ID: {self.student_id}\")\n",
        "        print(f\"Name: {self.name}\")\n",
        "\n",
        "class Marks(Student):\n",
        "    def __init__(self, student_id, name, marks_algo, marks_dataScience, marks_calculus):\n",
        "        super().__init__(student_id, name)\n",
        "        self.marks_algo = marks_algo\n",
        "        self.marks_dataScience = marks_dataScience\n",
        "        self.marks_calculus = marks_calculus\n",
        "\n",
        "    def display_marks(self):\n",
        "        print(\"Marks Obtained:\")\n",
        "        print(f\"Algorithm: {self.marks_algo}\")\n",
        "        print(f\"Data Science: {self.marks_dataScience}\")\n",
        "        print(f\"Calculus: {self.marks_calculus}\")\n",
        "\n",
        "class Result(Marks):\n",
        "    def __init__(self, student_id, name, marks_algo, marks_dataScience, marks_calculus):\n",
        "        super().__init__(student_id, name, marks_algo, marks_dataScience, marks_calculus)\n",
        "\n",
        "    def calculate_and_display_result(self):\n",
        "        total_marks = self.marks_algo + self.marks_dataScience + self.marks_calculus\n",
        "        average_marks = total_marks / 3\n",
        "        print(\"Result:\")\n",
        "        print(f\"Total Marks: {total_marks}\")\n",
        "        print(f\"Average Marks: {average_marks}\")\n",
        "\n",
        "# Main function:\n",
        "# Create an object of the result class.\n",
        "student_result = Result(\"U12345\", \"John Doe\", 85, 90, 78)\n",
        "\n",
        "# Display the student details, the marks obtained, and the total and average marks.\n",
        "student_result.display_student_info()\n",
        "student_result.display_marks()\n",
        "student_result.calculate_and_display_result()"
      ],
      "metadata": {
        "colab": {
          "base_uri": "https://localhost:8080/"
        },
        "id": "7tfC0IamwvJ4",
        "outputId": "0e77c002-cab0-4884-81ad-e57f18b4eed6"
      },
      "execution_count": null,
      "outputs": [
        {
          "output_type": "stream",
          "name": "stdout",
          "text": [
            "Student ID: U12345\n",
            "Name: John Doe\n",
            "Marks Obtained:\n",
            "Algorithm: 85\n",
            "Data Science: 90\n",
            "Calculus: 78\n",
            "Result:\n",
            "Total Marks: 253\n",
            "Average Marks: 84.33333333333333\n"
          ]
        }
      ]
    },
    {
      "cell_type": "markdown",
      "source": [
        "\n",
        "5. You are tasked with developing a software system to manage vehicle rentals for a car rental\n",
        "company. The company offers different types of vehicles for rent, including cars, SUVs, and trucks.\n",
        "Each vehicle has attributes like the make, model, rental price, and availability status.\n",
        "- Design a class hierarchy to represent different types of vehicles (e.g., Car, SUV, Truck).\n",
        "- Implement methods within each vehicle class to check availability, calculate the total\n",
        "rental cost for a given period, and display vehicle details. Ensure that the availability\n",
        "status changes when a vehicle is rented or returned.\n",
        "- Create a class for managing rental reservations (e.g., RentalReservation) that connects a\n",
        "customer to a rented vehicle. This class should include details like the rental start date,\n",
        "end date, and the customer renting the vehicle.\n",
        "- Design a customer class (e.g., Customer) to store information about renters, including\n",
        "name, contact information, and rented vehicles. Implement a method to display a\n",
        "customer's rental history.\n",
        "- Demonstrate polymorphism by creating a function or method that can display the details\n",
        "of any vehicle (Car, SUV, Truck) or rental reservation (RentalReservation).\n",
        "- Incorporate encapsulation principles to protect sensitive information like rental prices\n",
        "and customer contact details.\n"
      ],
      "metadata": {
        "id": "tmf5Qr_Hwd-o"
      }
    },
    {
      "cell_type": "code",
      "source": [
        "class Vehicle:\n",
        "    def __init__(self, make, model, rental_price_per_day):\n",
        "        self._make = make  # Protected attribute\n",
        "        self._model = model # Protected attribute\n",
        "        self.__rental_price_per_day = rental_price_per_day # Private attribute\n",
        "        self._is_available = True # Protected attribute\n",
        "\n",
        "    def check_availability(self):\n",
        "        return self._is_available\n",
        "\n",
        "    def rent(self):\n",
        "        if self._is_available:\n",
        "            self._is_available = False\n",
        "            return True\n",
        "        else:\n",
        "            return False\n",
        "\n",
        "    def return_vehicle(self):\n",
        "        self._is_available = True\n",
        "\n",
        "    def calculate_rental_cost(self, num_days):\n",
        "        return self.__rental_price_per_day * num_days\n",
        "\n",
        "    def display_details(self):\n",
        "        print(f\"Make: {self._make}, Model: {self._model}, Available: {self._is_available}\")\n",
        "\n",
        "    # Public getter for rental price (demonstrating controlled access)\n",
        "    def get_rental_price_per_day(self):\n",
        "        return self.__rental_price_per_day\n",
        "\n",
        "\n",
        "class Car(Vehicle):\n",
        "    def __init__(self, make, model, rental_price_per_day, num_doors):\n",
        "        super().__init__(make, model, rental_price_per_day)\n",
        "        self.num_doors = num_doors\n",
        "\n",
        "    def display_details(self):\n",
        "        super().display_details()\n",
        "        print(f\"Type: Car, Number of Doors: {self.num_doors}\")\n",
        "\n",
        "\n",
        "class SUV(Vehicle):\n",
        "    def __init__(self, make, model, rental_price_per_day, seating_capacity):\n",
        "        super().__init__(make, model, rental_price_per_day)\n",
        "        self.seating_capacity = seating_capacity\n",
        "\n",
        "    def display_details(self):\n",
        "        super().display_details()\n",
        "        print(f\"Type: SUV, Seating Capacity: {self.seating_capacity}\")\n",
        "\n",
        "\n",
        "class Truck(Vehicle):\n",
        "    def __init__(self, make, model, rental_price_per_day, cargo_capacity):\n",
        "        super().__init__(make, model, rental_price_per_day)\n",
        "        self.cargo_capacity = cargo_capacity\n",
        "\n",
        "    def display_details(self):\n",
        "        super().display_details()\n",
        "        print(f\"Type: Truck, Cargo Capacity: {self.cargo_capacity} lbs\")\n",
        "\n",
        "\n",
        "class Customer:\n",
        "    def __init__(self, name, contact_info):\n",
        "        self.name = name\n",
        "        self.__contact_info = contact_info  # Private attribute\n",
        "        self.rented_vehicles = []\n",
        "\n",
        "    def rent_vehicle(self, vehicle):\n",
        "        if vehicle.rent():\n",
        "            self.rented_vehicles.append(vehicle)\n",
        "            print(f\"{self.name} rented {vehicle._make} {vehicle._model}\")\n",
        "            return True\n",
        "        else:\n",
        "            print(f\"{vehicle._make} {vehicle._model} is not available.\")\n",
        "            return False\n",
        "\n",
        "    def return_vehicle(self, vehicle):\n",
        "        if vehicle in self.rented_vehicles:\n",
        "            vehicle.return_vehicle()\n",
        "            self.rented_vehicles.remove(vehicle)\n",
        "            print(f\"{self.name} returned {vehicle._make} {vehicle._model}\")\n",
        "        else:\n",
        "            print(f\"{self.name} did not rent this vehicle.\")\n",
        "\n",
        "    def display_rental_history(self):\n",
        "        print(f\"\\nRental History for {self.name}:\")\n",
        "        if self.rented_vehicles:\n",
        "            for vehicle in self.rented_vehicles:\n",
        "                vehicle.display_details()\n",
        "        else:\n",
        "            print(\"No rental history.\")\n",
        "\n",
        "    # Public getter for contact info (demonstrating controlled access)\n",
        "    def get_contact_info(self):\n",
        "        return self.__contact_info\n",
        "\n",
        "\n",
        "class RentalReservation:\n",
        "    def __init__(self, customer, vehicle, start_date, end_date):\n",
        "        self.customer = customer\n",
        "        self.vehicle = vehicle\n",
        "        self.start_date = start_date\n",
        "        self.end_date = end_date\n",
        "\n",
        "    def display_reservation_details(self):\n",
        "        print(\"\\n--- Rental Reservation Details ---\")\n",
        "        print(f\"Customer: {self.customer.name}\")\n",
        "        print(\"Vehicle:\")\n",
        "        self.vehicle.display_details()\n",
        "        print(f\"Rental Period: {self.start_date} to {self.end_date}\")\n",
        "        # Calculate and display estimated cost (demonstrating using vehicle's method)\n",
        "        # Assuming start and end dates are datetime objects or similar for duration calculation\n",
        "        # For simplicity, let's assume a fixed duration for demonstration\n",
        "        num_days = 5 # Example number of days\n",
        "        estimated_cost = self.vehicle.calculate_rental_cost(num_days)\n",
        "        print(f\"Estimated Cost ({num_days} days): ${estimated_cost:.2f}\")\n",
        "        print(\"----------------------------------\")\n",
        "\n",
        "# Function to demonstrate polymorphism\n",
        "def display_details_polymorphic(item):\n",
        "    if hasattr(item, 'display_details'):\n",
        "        item.display_details()\n",
        "    elif hasattr(item, 'display_reservation_details'):\n",
        "        item.display_reservation_details()\n",
        "    else:\n",
        "        print(\"Item details cannot be displayed.\")\n",
        "\n",
        "# --- Example Usage ---\n",
        "\n",
        "# Create some vehicles\n",
        "car1 = Car(\"Honda\", \"Civic\", 50, 4)\n",
        "suv1 = SUV(\"Toyota\", \"RAV4\", 70, 5)\n",
        "truck1 = Truck(\"Ford\", \"F-150\", 100, 1500)\n",
        "\n",
        "# Create a customer\n",
        "customer1 = Customer(\"Alice Smith\", \"alice.smith@email.com\")\n",
        "\n",
        "# Display initial vehicle availability\n",
        "print(\"Initial Vehicle Availability:\")\n",
        "display_details_polymorphic(car1)\n",
        "display_details_polymorphic(suv1)\n",
        "display_details_polymorphic(truck1)\n",
        "\n",
        "# Customer rents a car\n",
        "customer1.rent_vehicle(car1)\n",
        "\n",
        "# Display vehicle availability after renting\n",
        "print(\"\\nVehicle Availability After Rental:\")\n",
        "display_details_polymorphic(car1)\n",
        "\n",
        "# Create a rental reservation\n",
        "from datetime import date\n",
        "reservation1 = RentalReservation(customer1, car1, date(2023, 10, 26), date(2023, 10, 31))\n",
        "\n",
        "# Display reservation details\n",
        "display_details_polymorphic(reservation1)\n",
        "\n",
        "# Display customer rental history\n",
        "customer1.display_rental_history()\n",
        "\n",
        "# Customer returns the car\n",
        "customer1.return_vehicle(car1)\n",
        "\n",
        "# Display vehicle availability after returning\n",
        "print(\"\\nVehicle Availability After Return:\")\n",
        "display_details_polymorphic(car1)\n",
        "\n",
        "# Display customer rental history after returning\n",
        "customer1.display_rental_history()\n",
        "\n",
        "# Attempt to rent an unavailable vehicle\n",
        "customer1.rent_vehicle(car1)"
      ],
      "metadata": {
        "colab": {
          "base_uri": "https://localhost:8080/"
        },
        "id": "UoRaEI-IwvyY",
        "outputId": "dd95421d-aa32-41b2-f570-f34dc886bfd3"
      },
      "execution_count": null,
      "outputs": [
        {
          "output_type": "stream",
          "name": "stdout",
          "text": [
            "Initial Vehicle Availability:\n",
            "Make: Honda, Model: Civic, Available: True\n",
            "Type: Car, Number of Doors: 4\n",
            "Make: Toyota, Model: RAV4, Available: True\n",
            "Type: SUV, Seating Capacity: 5\n",
            "Make: Ford, Model: F-150, Available: True\n",
            "Type: Truck, Cargo Capacity: 1500 lbs\n",
            "Alice Smith rented Honda Civic\n",
            "\n",
            "Vehicle Availability After Rental:\n",
            "Make: Honda, Model: Civic, Available: False\n",
            "Type: Car, Number of Doors: 4\n",
            "\n",
            "--- Rental Reservation Details ---\n",
            "Customer: Alice Smith\n",
            "Vehicle:\n",
            "Make: Honda, Model: Civic, Available: False\n",
            "Type: Car, Number of Doors: 4\n",
            "Rental Period: 2023-10-26 to 2023-10-31\n",
            "Estimated Cost (5 days): $250.00\n",
            "----------------------------------\n",
            "\n",
            "Rental History for Alice Smith:\n",
            "Make: Honda, Model: Civic, Available: False\n",
            "Type: Car, Number of Doors: 4\n",
            "Alice Smith returned Honda Civic\n",
            "\n",
            "Vehicle Availability After Return:\n",
            "Make: Honda, Model: Civic, Available: True\n",
            "Type: Car, Number of Doors: 4\n",
            "\n",
            "Rental History for Alice Smith:\n",
            "No rental history.\n",
            "Alice Smith rented Honda Civic\n"
          ]
        },
        {
          "output_type": "execute_result",
          "data": {
            "text/plain": [
              "True"
            ]
          },
          "metadata": {},
          "execution_count": 8
        }
      ]
    },
    {
      "cell_type": "markdown",
      "source": [
        "\n",
        "6. Create a class called \"Employee\" with properties \"name\" and \"salary\". Add a method called\n",
        "\"calculateBonus\" that calculates a bonus amount based on the employee's salary. Managers get a\n",
        "bonus equal to 20% of their salary, while developers get a bonus equal to 10% of their salary.\n",
        "Then, create two subclasses called \"Manager\" and \"Developer\" that inherit from the Employee\n",
        "class. The Manager class should have a method called \"hire\" that logs a message indicating that\n",
        "the manager is hiring someone, while the Developer class should have a method called\n",
        "\"writeCode\" that logs a message indicating that the developer is writing code. Finally, create a\n",
        "subclass called \"SeniorManager\" that inherits from the Manager class and that should have the\n",
        "\"calculateBonus\" method to give senior managers a bonus equal to 30% of their salary. [3 marks]"
      ],
      "metadata": {
        "id": "CNpFR--_wf3o"
      }
    },
    {
      "cell_type": "code",
      "metadata": {
        "colab": {
          "base_uri": "https://localhost:8080/"
        },
        "id": "082e9bb7",
        "outputId": "d6b56a09-3bdb-460b-e01b-3cfa76e637f1"
      },
      "source": [
        "class Employee:\n",
        "    def __init__(self, name, salary):\n",
        "        self.name = name\n",
        "        self.salary = salary\n",
        "\n",
        "    def calculateBonus(self):\n",
        "        # Default bonus calculation (can be overridden by subclasses)\n",
        "        return 0\n",
        "\n",
        "class Manager(Employee):\n",
        "    def calculateBonus(self):\n",
        "        return self.salary * 0.20  # 20% bonus for managers\n",
        "\n",
        "    def hire(self):\n",
        "        print(f\"{self.name} is hiring someone.\")\n",
        "\n",
        "class Developer(Employee):\n",
        "    def calculateBonus(self):\n",
        "        return self.salary * 0.10  # 10% bonus for developers\n",
        "\n",
        "    def writeCode(self):\n",
        "        print(f\"{self.name} is writing code.\")\n",
        "\n",
        "class SeniorManager(Manager):\n",
        "    def calculateBonus(self):\n",
        "        return self.salary * 0.30  # 30% bonus for senior managers\n",
        "\n",
        "# Example usage:\n",
        "manager1 = Manager(\"Alice\", 60000)\n",
        "developer1 = Developer(\"Bob\", 50000)\n",
        "senior_manager1 = SeniorManager(\"Charlie\", 80000)\n",
        "\n",
        "print(f\"{manager1.name}'s bonus: ${manager1.calculateBonus():.2f}\")\n",
        "manager1.hire()\n",
        "\n",
        "print(f\"{developer1.name}'s bonus: ${developer1.calculateBonus():.2f}\")\n",
        "developer1.writeCode()\n",
        "\n",
        "print(f\"{senior_manager1.name}'s bonus: ${senior_manager1.calculateBonus():.2f}\")\n",
        "senior_manager1.hire() # SeniorManager inherits hire method from Manager"
      ],
      "execution_count": null,
      "outputs": [
        {
          "output_type": "stream",
          "name": "stdout",
          "text": [
            "Alice's bonus: $12000.00\n",
            "Alice is hiring someone.\n",
            "Bob's bonus: $5000.00\n",
            "Bob is writing code.\n",
            "Charlie's bonus: $24000.00\n",
            "Charlie is hiring someone.\n"
          ]
        }
      ]
    }
  ]
}