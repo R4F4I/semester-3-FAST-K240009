{
 "cells": [
  {
   "cell_type": "markdown",
   "id": "2b78c620",
   "metadata": {},
   "source": [
    "this is there"
   ]
  }
 ],
 "metadata": {
  "language_info": {
   "name": "python"
  }
 },
 "nbformat": 4,
 "nbformat_minor": 5
}
