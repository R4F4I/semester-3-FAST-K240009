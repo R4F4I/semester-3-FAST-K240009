{
  "cells": [
    {
      "cell_type": "markdown",
      "metadata": {
        "id": "view-in-github",
        "colab_type": "text"
      },
      "source": [
        "<a href=\"https://colab.research.google.com/github/R4F4I/semester-3-FAST-K240009/blob/master/PAI/LAB/lab2.ipynb\" target=\"_parent\"><img src=\"https://colab.research.google.com/assets/colab-badge.svg\" alt=\"Open In Colab\"/></a>"
      ]
    },
    {
      "cell_type": "markdown",
      "id": "b813b8da",
      "metadata": {
        "id": "b813b8da"
      },
      "source": [
        "# if statement\n",
        "\n",
        "- using `if` in python"
      ]
    },
    {
      "cell_type": "code",
      "execution_count": 3,
      "id": "5ebf4aa6",
      "metadata": {
        "vscode": {
          "languageId": "plaintext"
        },
        "id": "5ebf4aa6",
        "outputId": "2293739d-3b69-436a-e4c2-51615ab66371",
        "colab": {
          "base_uri": "https://localhost:8080/"
        }
      },
      "outputs": [
        {
          "output_type": "stream",
          "name": "stdout",
          "text": [
            "false\n"
          ]
        }
      ],
      "source": [
        "condition = False\n",
        "\n",
        "if condition:\n",
        "  print(\"true\")\n",
        "else:\n",
        "  print(\"false\")\n",
        ""
      ]
    },
    {
      "cell_type": "markdown",
      "source": [
        "# task\n",
        "\n",
        "- grading system , GPA"
      ],
      "metadata": {
        "id": "PM2m1_BXdCU_"
      },
      "id": "PM2m1_BXdCU_"
    },
    {
      "cell_type": "code",
      "source": [
        "GPA = float(input(\"Enter your GPA: \"))\n",
        "\n",
        "if GPA<1:\n",
        "  print(\"F\")\n",
        "elif GPA<2:\n",
        "  print(\"D\")\n",
        "elif GPA<3:\n",
        "  print(\"C\")\n",
        "elif GPA<4:\n",
        "  print(\"B\")\n",
        "else:\n",
        "  print(\"A\")\n"
      ],
      "metadata": {
        "id": "3nXTSUNQdBfx",
        "outputId": "778ad555-8cd8-4665-8d69-be0eeb065872",
        "colab": {
          "base_uri": "https://localhost:8080/"
        }
      },
      "id": "3nXTSUNQdBfx",
      "execution_count": 8,
      "outputs": [
        {
          "output_type": "stream",
          "name": "stdout",
          "text": [
            "Enter your GPA: 2.3\n",
            "C\n"
          ]
        }
      ]
    },
    {
      "cell_type": "markdown",
      "source": [
        "- if it uses `elif` then it executes the first true condition only"
      ],
      "metadata": {
        "id": "vOHV5IWMfiw_"
      },
      "id": "vOHV5IWMfiw_"
    },
    {
      "cell_type": "code",
      "source": [
        "GPA = 3\n",
        "# despite the first 2 being true\n",
        "# rather than printing both F and D it will only print F\n",
        "# as its the first true condition\n",
        "if GPA>1:\n",
        "  print(\"F\")\n",
        "elif GPA>2:\n",
        "  print(\"D\")\n",
        "elif GPA>3:\n",
        "  print(\"C\")\n",
        "elif GPA>4:\n",
        "  print(\"B\")\n",
        "else:\n",
        "  print(\"A\")\n"
      ],
      "metadata": {
        "id": "PGFdzpZNfmKP",
        "outputId": "83225f0c-8b6f-467a-bb15-d9bb03a205e3",
        "colab": {
          "base_uri": "https://localhost:8080/"
        }
      },
      "id": "PGFdzpZNfmKP",
      "execution_count": 7,
      "outputs": [
        {
          "output_type": "stream",
          "name": "stdout",
          "text": [
            "F\n"
          ]
        }
      ]
    },
    {
      "cell_type": "markdown",
      "source": [
        "# single line if-else (shorthand if else)\n",
        "\n",
        "- doing `if` `else` in a single line\n",
        "- no `elif`"
      ],
      "metadata": {
        "id": "yEkq2Q5ShQ7C"
      },
      "id": "yEkq2Q5ShQ7C"
    },
    {
      "cell_type": "code",
      "source": [
        "GPA = float(input(\"Enter your GPA: \"))\n",
        "\n",
        "print(\"F\") if GPA<1 else print(\"A\")\n"
      ],
      "metadata": {
        "id": "X_d6X-rMhdHC",
        "outputId": "26dcc4e3-ecf0-4dae-c1df-97373ff89c0e",
        "colab": {
          "base_uri": "https://localhost:8080/"
        }
      },
      "id": "X_d6X-rMhdHC",
      "execution_count": 11,
      "outputs": [
        {
          "output_type": "stream",
          "name": "stdout",
          "text": [
            "Enter your GPA: 2\n",
            "A\n"
          ]
        }
      ]
    },
    {
      "cell_type": "markdown",
      "source": [
        "# logical operators\n",
        "\n",
        "- OR, AND, NOT"
      ],
      "metadata": {
        "id": "gTYahJ5liTPp"
      },
      "id": "gTYahJ5liTPp"
    },
    {
      "cell_type": "code",
      "source": [
        "a = 20\n",
        "b = 50\n",
        "c = 30"
      ],
      "metadata": {
        "id": "58BfxAoyiYVZ"
      },
      "id": "58BfxAoyiYVZ",
      "execution_count": 12,
      "outputs": []
    },
    {
      "cell_type": "code",
      "source": [
        "if a<b or a>c:\n",
        "  print(\"true\")\n",
        "else:\n",
        "  print(\"false\")"
      ],
      "metadata": {
        "id": "IkmFq9D4icoB",
        "outputId": "560b63aa-fdd0-47df-9999-b9598fe8c6bd",
        "colab": {
          "base_uri": "https://localhost:8080/"
        }
      },
      "id": "IkmFq9D4icoB",
      "execution_count": 13,
      "outputs": [
        {
          "output_type": "stream",
          "name": "stdout",
          "text": [
            "true\n"
          ]
        }
      ]
    },
    {
      "cell_type": "code",
      "source": [
        "if a<b and a>c:\n",
        "  print(\"true\")\n",
        "else:\n",
        "  print(\"false\")"
      ],
      "metadata": {
        "id": "ZPtWVAFTigmA",
        "outputId": "761d9ed7-735b-404e-8f8a-8248b9369d06",
        "colab": {
          "base_uri": "https://localhost:8080/"
        }
      },
      "id": "ZPtWVAFTigmA",
      "execution_count": 15,
      "outputs": [
        {
          "output_type": "stream",
          "name": "stdout",
          "text": [
            "false\n"
          ]
        }
      ]
    },
    {
      "cell_type": "code",
      "source": [
        "if not True:\n",
        "  print(\"true\")\n",
        "else:\n",
        "  print(\"false\")"
      ],
      "metadata": {
        "id": "ia3-cOsAioR4",
        "outputId": "5d288703-dbb3-4a92-fc88-edeb5b053db7",
        "colab": {
          "base_uri": "https://localhost:8080/"
        }
      },
      "id": "ia3-cOsAioR4",
      "execution_count": 18,
      "outputs": [
        {
          "output_type": "stream",
          "name": "stdout",
          "text": [
            "false\n"
          ]
        }
      ]
    },
    {
      "cell_type": "markdown",
      "source": [
        "# nested `if`\n"
      ],
      "metadata": {
        "id": "gvBKbc9Yi85L"
      },
      "id": "gvBKbc9Yi85L"
    },
    {
      "cell_type": "code",
      "source": [
        "cond1 = True\n",
        "cond2 = False\n",
        "\n",
        "if cond1:\n",
        "  if cond2:\n",
        "    print(\"both true\")\n",
        "  else:\n",
        "    print('cond2 false')\n",
        "  print('cond1 true')\n",
        "else:\n",
        "  print('cond1 false')"
      ],
      "metadata": {
        "id": "1zwLDqiDjApR",
        "outputId": "4dc320bb-3491-4fc2-8b82-5b1f88d0a246",
        "colab": {
          "base_uri": "https://localhost:8080/"
        }
      },
      "id": "1zwLDqiDjApR",
      "execution_count": 20,
      "outputs": [
        {
          "output_type": "stream",
          "name": "stdout",
          "text": [
            "cond2 false\n",
            "cond1 true\n"
          ]
        }
      ]
    },
    {
      "cell_type": "code",
      "source": [
        "ID = 123\n",
        "password = 1234\n",
        "\n",
        "if ID == int(input(\"enter id: \")):\n",
        "  if password == int(input(\"enter password: \")):\n",
        "    print(\"logged in\")\n",
        "  else:\n",
        "    print(\"wrong password\")\n",
        "else:\n",
        "  print(\"wrong ID\")"
      ],
      "metadata": {
        "id": "fduJB1i1jbAt",
        "outputId": "690e9176-78cc-4690-e5af-cd500cb7330e",
        "colab": {
          "base_uri": "https://localhost:8080/"
        }
      },
      "id": "fduJB1i1jbAt",
      "execution_count": 25,
      "outputs": [
        {
          "output_type": "stream",
          "name": "stdout",
          "text": [
            "enter id: 123\n",
            "enter password: 12\n",
            "wrong password\n"
          ]
        }
      ]
    },
    {
      "cell_type": "markdown",
      "source": [
        "# `for` loops"
      ],
      "metadata": {
        "id": "FFBeYN4lmQXT"
      },
      "id": "FFBeYN4lmQXT"
    },
    {
      "cell_type": "code",
      "source": [
        "array = [1, \"apple\", True, 2, \"banana\", False, 3 , \"cherry\", True]\n",
        "\n",
        "for item in array:\n",
        "  if not item:\n",
        "    break\n",
        "  print(item)"
      ],
      "metadata": {
        "id": "oXa9nd7cmT7C",
        "outputId": "64d30730-6470-4c6c-bfd0-6d3117504bb5",
        "colab": {
          "base_uri": "https://localhost:8080/"
        }
      },
      "id": "oXa9nd7cmT7C",
      "execution_count": 27,
      "outputs": [
        {
          "output_type": "stream",
          "name": "stdout",
          "text": [
            "1\n",
            "apple\n",
            "True\n",
            "2\n",
            "banana\n"
          ]
        }
      ]
    },
    {
      "cell_type": "code",
      "source": [
        "array = [\"A\",\"B\",\"C\",\"D\",\"F\",\"G\",\"H\",\"I\"]\n",
        "\n",
        "for item in array:\n",
        "  if item == \"C\" or item == 'F': # `if item == \"C\" or 'F':` does not work because 'F: is not a condition\n",
        "    continue\n",
        "  print(item)"
      ],
      "metadata": {
        "id": "O6YDvyCOobVM",
        "outputId": "f687b4b6-17d0-44dd-b09d-c98df0b02265",
        "colab": {
          "base_uri": "https://localhost:8080/"
        }
      },
      "id": "O6YDvyCOobVM",
      "execution_count": 40,
      "outputs": [
        {
          "output_type": "stream",
          "name": "stdout",
          "text": [
            "A\n",
            "B\n",
            "D\n",
            "G\n",
            "H\n",
            "I\n"
          ]
        }
      ]
    },
    {
      "cell_type": "markdown",
      "source": [
        "## `range` function for `for` loops\n",
        "\n",
        "- does not create an `array` of numbers"
      ],
      "metadata": {
        "id": "qhLKlJI0pzfa"
      },
      "id": "qhLKlJI0pzfa"
    },
    {
      "cell_type": "code",
      "source": [
        "arr = [0,1,2,3,4]\n",
        "some = range(5)\n",
        "\n",
        "print(type(arr))\n",
        "print(type(some))\n",
        "\n",
        "if arr == some:\n",
        "  print(\"true\")\n",
        "else:\n",
        "  print(\"false\")"
      ],
      "metadata": {
        "id": "8OqPKRQ3qCl5",
        "outputId": "bbd951c6-f188-47d9-cd0e-6e3dab878d0b",
        "colab": {
          "base_uri": "https://localhost:8080/"
        }
      },
      "id": "8OqPKRQ3qCl5",
      "execution_count": 45,
      "outputs": [
        {
          "output_type": "stream",
          "name": "stdout",
          "text": [
            "<class 'list'>\n",
            "<class 'range'>\n",
            "false\n"
          ]
        }
      ]
    },
    {
      "cell_type": "code",
      "source": [
        "# using it in for loops\n",
        "for i in range(10):\n",
        "  print(i)"
      ],
      "metadata": {
        "id": "1Dj3XXOwp8GD",
        "outputId": "107f31bd-811b-4d0b-c48c-26baabee33e3",
        "colab": {
          "base_uri": "https://localhost:8080/"
        }
      },
      "id": "1Dj3XXOwp8GD",
      "execution_count": 41,
      "outputs": [
        {
          "output_type": "stream",
          "name": "stdout",
          "text": [
            "0\n",
            "1\n",
            "2\n",
            "3\n",
            "4\n",
            "5\n",
            "6\n",
            "7\n",
            "8\n",
            "9\n"
          ]
        }
      ]
    },
    {
      "cell_type": "markdown",
      "source": [
        "# Tasks"
      ],
      "metadata": {
        "id": "OLSNPJgqrmCt"
      },
      "id": "OLSNPJgqrmCt"
    },
    {
      "cell_type": "markdown",
      "source": [
        "## task 1\n",
        "1. Create a program that checks whether a given string is a valid password:\n",
        "- At least 8 characters long\n",
        "- Contains both letters and digits\n",
        "- Contains at least one special character (@, #, $, %)"
      ],
      "metadata": {
        "id": "5ZPAHWSFyOhW"
      },
      "id": "5ZPAHWSFyOhW"
    },
    {
      "cell_type": "code",
      "source": [
        "password = input(\"enter password: \")\n",
        "specialChars = '@#$%'\n",
        "letters = \"qwertyuiopasdfghjklzxcvbnmQWERTYUIOPASDFGHJKLZXCVBNM\"\n",
        "numbers = \"1234567890\"\n",
        "\n",
        "if len(password) < 8:\n",
        "  print(\"password must be at least 8 characters long\")\n",
        "else:\n",
        "  has_letter = False\n",
        "  has_digit = False\n",
        "  has_special = False\n",
        "  for char in password:\n",
        "    if char in specialChars:\n",
        "      has_special = True\n",
        "    if char in letters:\n",
        "      has_letter = True\n",
        "    if char in numbers:\n",
        "      has_digit = True\n",
        "  if has_special and has_digit and has_letter:\n",
        "    print(\"password is valid\")\n",
        "  else:\n",
        "    print(\"password is invalid\")"
      ],
      "metadata": {
        "id": "R_5G89NrygMl",
        "outputId": "a3570217-3100-411c-8650-adb05ae22218",
        "colab": {
          "base_uri": "https://localhost:8080/"
        }
      },
      "id": "R_5G89NrygMl",
      "execution_count": 62,
      "outputs": [
        {
          "output_type": "stream",
          "name": "stdout",
          "text": [
            "enter password: asdlfhkjsdfh893247@\n",
            "password is valid\n"
          ]
        }
      ]
    },
    {
      "cell_type": "markdown",
      "source": [
        "## task 2\n",
        "3. Given a list of student records stored as tuples `(name, marks)` write a program to:\n",
        "- Sort students by marks in descending order\n",
        "- Print the top 3 students"
      ],
      "metadata": {
        "id": "sX5QDRJj0scL"
      },
      "id": "sX5QDRJj0scL"
    },
    {
      "cell_type": "code",
      "source": [
        "records = (\n",
        "    ('a', 60),\n",
        "    ('b', 90),\n",
        "    ('c', 85),\n",
        "    ('d', 23),\n",
        "    ('e', 45),\n",
        "    ('f', 143),\n",
        "    ('g', 13),\n",
        "    ('h', 113),\n",
        ")\n",
        "\n",
        "myList = list(records)\n",
        "myList.sort(reverse=True)\n",
        "#records=tuple(myList)\n",
        "\n",
        "for i in range(3):\n",
        "  print(myList[i])\n",
        "\n",
        "\n"
      ],
      "metadata": {
        "id": "Uy0syl2o0zhz",
        "outputId": "608cd89f-09c4-4eb9-a519-2a7aa206ba60",
        "colab": {
          "base_uri": "https://localhost:8080/",
          "height": 211
        }
      },
      "id": "Uy0syl2o0zhz",
      "execution_count": 77,
      "outputs": [
        {
          "output_type": "error",
          "ename": "TypeError",
          "evalue": "'tuple' object is not callable",
          "traceback": [
            "\u001b[0;31m---------------------------------------------------------------------------\u001b[0m",
            "\u001b[0;31mTypeError\u001b[0m                                 Traceback (most recent call last)",
            "\u001b[0;32m/tmp/ipython-input-355334457.py\u001b[0m in \u001b[0;36m<cell line: 0>\u001b[0;34m()\u001b[0m\n\u001b[1;32m     10\u001b[0m )\n\u001b[1;32m     11\u001b[0m \u001b[0;34m\u001b[0m\u001b[0m\n\u001b[0;32m---> 12\u001b[0;31m \u001b[0mmyList\u001b[0m \u001b[0;34m=\u001b[0m \u001b[0mlist\u001b[0m\u001b[0;34m(\u001b[0m\u001b[0mrecords\u001b[0m\u001b[0;34m)\u001b[0m\u001b[0;34m\u001b[0m\u001b[0;34m\u001b[0m\u001b[0m\n\u001b[0m\u001b[1;32m     13\u001b[0m \u001b[0mmyList\u001b[0m\u001b[0;34m.\u001b[0m\u001b[0msort\u001b[0m\u001b[0;34m(\u001b[0m\u001b[0mreverse\u001b[0m\u001b[0;34m=\u001b[0m\u001b[0;32mTrue\u001b[0m\u001b[0;34m)\u001b[0m\u001b[0;34m\u001b[0m\u001b[0;34m\u001b[0m\u001b[0m\n\u001b[1;32m     14\u001b[0m \u001b[0;31m#records=tuple(myList)\u001b[0m\u001b[0;34m\u001b[0m\u001b[0;34m\u001b[0m\u001b[0m\n",
            "\u001b[0;31mTypeError\u001b[0m: 'tuple' object is not callable"
          ]
        }
      ]
    },
    {
      "cell_type": "markdown",
      "source": [
        "## task 3\n",
        "4. Write a program that finds the pair of numbers in a tuple whose sum is closest\n",
        "to zero."
      ],
      "metadata": {
        "id": "w33eEUKw3RGK"
      },
      "id": "w33eEUKw3RGK"
    },
    {
      "cell_type": "code",
      "source": [
        "tuple = (\n",
        "    (4,3),\n",
        "    (1,2),\n",
        "    (3,4),\n",
        "    (5,6),\n",
        "    (7,8),\n",
        ")\n",
        "\n",
        "# tuple with least sum\n",
        "least = 999999\n",
        "for list in tuple:\n",
        "  sum = list[0] + list[1]\n",
        "\n",
        "  if sum < least:\n",
        "    least = sum\n",
        "    pair = list\n",
        "\n",
        "# final smallest pair will be printed\n",
        "\n",
        "print(pair)\n",
        "\n"
      ],
      "metadata": {
        "id": "m5rCfqJ33Qzq",
        "outputId": "079fe07f-ed7f-4436-9cf0-68a7eed302b7",
        "colab": {
          "base_uri": "https://localhost:8080/"
        }
      },
      "id": "m5rCfqJ33Qzq",
      "execution_count": 69,
      "outputs": [
        {
          "output_type": "stream",
          "name": "stdout",
          "text": [
            "(1, 2)\n"
          ]
        }
      ]
    }
  ],
  "metadata": {
    "language_info": {
      "name": "python"
    },
    "colab": {
      "provenance": [],
      "toc_visible": true,
      "include_colab_link": true
    },
    "kernelspec": {
      "name": "python3",
      "display_name": "Python 3"
    }
  },
  "nbformat": 4,
  "nbformat_minor": 5
}