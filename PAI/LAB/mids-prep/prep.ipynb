{
  "cells": [
    {
      "cell_type": "code",
      "execution_count": 6,
      "id": "7fdfb5de",
      "metadata": {
        "vscode": {
          "languageId": "plaintext"
        },
        "colab": {
          "base_uri": "https://localhost:8080/"
        },
        "id": "7fdfb5de",
        "outputId": "76b7d572-2351-447f-9c0d-54ce2d294aa6"
      },
      "outputs": [
        {
          "output_type": "stream",
          "name": "stdout",
          "text": [
            "rwo\n"
          ]
        }
      ],
      "source": [
        "# for function unknown keyword arguments\n",
        "def function(**args):\n",
        "    print(args['lname'])\n",
        "\n",
        "function(fname=\"jds\", lname=\"rwo\")"
      ]
    },
    {
      "cell_type": "markdown",
      "source": [
        "## zip function"
      ],
      "metadata": {
        "id": "W8HImBDs_5VR"
      },
      "id": "W8HImBDs_5VR"
    },
    {
      "cell_type": "code",
      "source": [
        "a = (\"a1\",\"a2\",\"a3\",\"a4\",\"a5\")\n",
        "b = (\"b1\",\"b2\",\"b3\",\"b4\",\"b5\")\n",
        "\n",
        "z= list(zip(a,b))\n",
        "\n",
        "print(z)"
      ],
      "metadata": {
        "colab": {
          "base_uri": "https://localhost:8080/"
        },
        "id": "ROC7hzIm_4zb",
        "outputId": "a4ab02d4-e6ee-4e2c-d07b-51a819daf783"
      },
      "id": "ROC7hzIm_4zb",
      "execution_count": 5,
      "outputs": [
        {
          "output_type": "stream",
          "name": "stdout",
          "text": [
            "[('a1', 'b1'), ('a2', 'b2'), ('a3', 'b3'), ('a4', 'b4'), ('a5', 'b5')]\n"
          ]
        }
      ]
    },
    {
      "cell_type": "markdown",
      "source": [
        "## anonymous functions"
      ],
      "metadata": {
        "id": "le8x1HdcAIvU"
      },
      "id": "le8x1HdcAIvU"
    },
    {
      "cell_type": "code",
      "source": [],
      "metadata": {
        "id": "a6KnMsyTAIba"
      },
      "id": "a6KnMsyTAIba",
      "execution_count": null,
      "outputs": []
    },
    {
      "cell_type": "code",
      "metadata": {
        "colab": {
          "base_uri": "https://localhost:8080/"
        },
        "id": "edb7b73c",
        "outputId": "f470e504-59a7-4d57-9e5f-df6ea42f098e"
      },
      "source": [
        "numbers = [1, 2, 3, 4, 5, 6, 7, 8, 9, 10]\n",
        "\n",
        "# Using a regular function with filter()\n",
        "def is_even(x):\n",
        "  return x % 2 == 0\n",
        "\n",
        "even_numbers_regular = list(filter(is_even, numbers))\n",
        "print(\"Using a regular function:\", even_numbers_regular)\n",
        "\n",
        "# Using a lambda function with filter()\n",
        "even_numbers_lambda = list(filter(lambda x: x % 2 == 0, numbers))\n",
        "print(\"Using a lambda function:\", even_numbers_lambda)"
      ],
      "id": "edb7b73c",
      "execution_count": 11,
      "outputs": [
        {
          "output_type": "stream",
          "name": "stdout",
          "text": [
            "Using a regular function: [2, 4, 6, 8, 10]\n",
            "Using a lambda function: [2, 4, 6, 8, 10]\n"
          ]
        }
      ]
    },
    {
      "cell_type": "code",
      "metadata": {
        "colab": {
          "base_uri": "https://localhost:8080/"
        },
        "id": "5388c38c",
        "outputId": "252c6a09-05c9-43eb-c2b5-a1ba813c07c1"
      },
      "source": [
        "numbers = [1, 2, 3, 4, 5]\n",
        "\n",
        "# Using a regular function with map()\n",
        "def square(x):\n",
        "  return x**2\n",
        "\n",
        "squared_numbers_regular = list(map(square, numbers))\n",
        "print(\"Using a regular function:\", squared_numbers_regular)\n",
        "\n",
        "# Using a lambda function with map()\n",
        "squared_numbers_lambda = list(map(lambda x: x**2, numbers))\n",
        "print(\"Using a lambda function:\", squared_numbers_lambda)"
      ],
      "id": "5388c38c",
      "execution_count": 12,
      "outputs": [
        {
          "output_type": "stream",
          "name": "stdout",
          "text": [
            "Using a regular function: [1, 4, 9, 16, 25]\n",
            "Using a lambda function: [1, 4, 9, 16, 25]\n"
          ]
        }
      ]
    },
    {
      "cell_type": "markdown",
      "metadata": {
        "id": "8ae9ba9b"
      },
      "source": [
        "Anonymous functions, also known as lambda functions, are small, single-expression functions that don't have a formal name. They are typically used for short operations where a full function definition would be overly verbose. In Python, they are defined using the `lambda` keyword.\n",
        "\n",
        "The basic syntax is:"
      ],
      "id": "8ae9ba9b"
    },
    {
      "cell_type": "code",
      "metadata": {
        "colab": {
          "base_uri": "https://localhost:8080/"
        },
        "id": "40815fa0",
        "outputId": "3699fb00-05e2-4c83-9336-dc27ee07b858"
      },
      "source": [
        "# A simple lambda function that adds two numbers\n",
        "add = lambda x, y: x + y\n",
        "print(add(5, 3))\n"
      ],
      "id": "40815fa0",
      "execution_count": 7,
      "outputs": [
        {
          "output_type": "stream",
          "name": "stdout",
          "text": [
            "8\n"
          ]
        }
      ]
    },
    {
      "cell_type": "markdown",
      "metadata": {
        "id": "07522d58"
      },
      "source": [
        "Anonymous functions are often used in conjunction with built-in functions like `map()`, `filter()`, and `sorted()` where a small function is needed for a specific operation on an iterable.\n",
        "\n",
        "Here's an example using `map()` to square each element in a list:"
      ],
      "id": "07522d58"
    },
    {
      "cell_type": "code",
      "metadata": {
        "colab": {
          "base_uri": "https://localhost:8080/"
        },
        "id": "58fa43ca",
        "outputId": "887bb2b7-6129-421d-b67e-fd3fd1a38bbe"
      },
      "source": [
        "numbers = [1, 2, 3, 4, 5]\n",
        "squared_numbers = list(map(lambda x: x**2, numbers))\n",
        "print(squared_numbers)"
      ],
      "id": "58fa43ca",
      "execution_count": 8,
      "outputs": [
        {
          "output_type": "stream",
          "name": "stdout",
          "text": [
            "[1, 4, 9, 16, 25]\n"
          ]
        }
      ]
    },
    {
      "cell_type": "markdown",
      "metadata": {
        "id": "d80e6473"
      },
      "source": [
        "And here's an example using `filter()` to keep only the even numbers from a list:"
      ],
      "id": "d80e6473"
    },
    {
      "cell_type": "code",
      "metadata": {
        "colab": {
          "base_uri": "https://localhost:8080/"
        },
        "id": "a7307223",
        "outputId": "fa482490-38da-4e17-d485-7f0994d983c1"
      },
      "source": [
        "numbers = [1, 2, 3, 4, 5, 6, 7, 8, 9, 10]\n",
        "even_numbers = list(filter(lambda x: x % 2 == 0, numbers))\n",
        "print(even_numbers)"
      ],
      "id": "a7307223",
      "execution_count": 9,
      "outputs": [
        {
          "output_type": "stream",
          "name": "stdout",
          "text": [
            "[2, 4, 6, 8, 10]\n"
          ]
        }
      ]
    },
    {
      "cell_type": "markdown",
      "metadata": {
        "id": "ff4b5872"
      },
      "source": [
        "Finally, here's an example using `sorted()` to sort a list of tuples based on the second element:"
      ],
      "id": "ff4b5872"
    },
    {
      "cell_type": "code",
      "metadata": {
        "colab": {
          "base_uri": "https://localhost:8080/",
          "height": 138
        },
        "id": "7f75fa71",
        "outputId": "a431c378-6568-4f00-8ddc-d4f0a633d776"
      },
      "source": [
        "pairs = [(1, 'one'), (2, 'two'), (3, 'three'), (4, 'four')]\n",
        "\n",
        "# Using a lambda function with sorted()\n",
        "sorted_pairs_lambda = sorted(pairs, key=lambda pair: pair[1])\n",
        "print(\"Using a lambda function:\", sorted_pairs_lambda)\n",
        "\n",
        "# Using a regular function with sorted()\n",
        "def get_second_element(pair):\n",
        "  return (pair[1])\n",
        "\n",
        "sorted_pairs_regular = sorted(pairs, key=get_second_element)\n",
        "print(\"Using a regular function:\", sorted_pairs_regular)\n",
        "get_second_element"
      ],
      "id": "7f75fa71",
      "execution_count": 20,
      "outputs": [
        {
          "output_type": "stream",
          "name": "stdout",
          "text": [
            "Using a lambda function: [(4, 'four'), (1, 'one'), (3, 'three'), (2, 'two')]\n",
            "Using a regular function: [(4, 'four'), (1, 'one'), (3, 'three'), (2, 'two')]\n"
          ]
        },
        {
          "output_type": "execute_result",
          "data": {
            "text/plain": [
              "<function __main__.get_second_element(pair)>"
            ],
            "text/html": [
              "<div style=\"max-width:800px; border: 1px solid var(--colab-border-color);\"><style>\n",
              "      pre.function-repr-contents {\n",
              "        overflow-x: auto;\n",
              "        padding: 8px 12px;\n",
              "        max-height: 500px;\n",
              "      }\n",
              "\n",
              "      pre.function-repr-contents.function-repr-contents-collapsed {\n",
              "        cursor: pointer;\n",
              "        max-height: 100px;\n",
              "      }\n",
              "    </style>\n",
              "    <pre style=\"white-space: initial; background:\n",
              "         var(--colab-secondary-surface-color); padding: 8px 12px;\n",
              "         border-bottom: 1px solid var(--colab-border-color);\"><b>get_second_element</b><br/>def get_second_element(pair)</pre><pre class=\"function-repr-contents function-repr-contents-collapsed\" style=\"\"><a class=\"filepath\" style=\"display:none\" href=\"#\">/tmp/ipython-input-2486276658.py</a>&lt;no docstring&gt;</pre></div>"
            ]
          },
          "metadata": {},
          "execution_count": 20
        }
      ]
    },
    {
      "cell_type": "markdown",
      "metadata": {
        "id": "44dbdf3e"
      },
      "source": [
        "### Deep Dive into `sorted()` and the `key` argument\n",
        "\n",
        "The `sorted()` function sorts the items of an iterable in ascending order by default. The `key` argument allows you to customize the sorting process by providing a function that is applied to each item in the iterable *before* comparisons are made. The sorting is then performed based on the return values of this `key` function, but the original items are what are included in the final sorted list.\n",
        "\n",
        "Essentially, for each item `x` in the input `iterable`, `sorted()` calculates `key(x)`. It then uses these calculated values to determine the order of the original `x` values in the output list.\n",
        "\n",
        "Consider our `pairs` example: `[(1, 'one'), (2, 'two'), (3, 'three'), (4, 'four')]`.\n",
        "\n",
        "When you use `key=lambda pair: pair[1]` or a function like `def get_second_element(pair): return pair[1]`, the `key` function is applied to each tuple:\n",
        "\n",
        "*   For `(1, 'one')`, the key function returns `'one'`.\n",
        "*   For `(2, 'two')`, the key function returns `'two'`.\n",
        "*   For `(3, 'three')`, the key function returns `'three'`.\n",
        "*   For `(4, 'four')`, the key function returns `'four'`.\n",
        "\n",
        "The `sorted()` function then sorts the original tuples based on the alphabetical order of `'one'`, `'two'`, `'three'`, and `'four'`. The alphabetical order is `'four'`, `'one'`, `'three'`, `'two'`. Therefore, the resulting sorted list of the original tuples is `[(4, 'four'), (1, 'one'), (3, 'three'), (2, 'two')]`.\n",
        "\n",
        "If you were to sort *without* the `key` argument, `sorted()` would compare the tuples directly. Tuples are compared element by element. So, `(1, 'one')` would be compared to `(2, 'two')` by first comparing `1` and `2`. Since `1` is less than `2`, `(1, 'one')` comes before `(2, 'two')`. This would result in the list being sorted by the first element, then the second if the first elements are equal.\n",
        "\n",
        "Let's add a code cell to demonstrate sorting the `pairs` list without a `key` to see the default behavior."
      ],
      "id": "44dbdf3e"
    },
    {
      "cell_type": "code",
      "metadata": {
        "colab": {
          "base_uri": "https://localhost:8080/"
        },
        "id": "9985eb04",
        "outputId": "327bfcbf-671a-490b-fd18-4570d41d33b0"
      },
      "source": [
        "numbers = [1, 2, 3, 4, 5, 6, 7, 8, 9, 10]\n",
        "\n",
        "# Pipeline using filter() and map()\n",
        "even_then_squared_funcs = list(map(lambda x: x**2, filter(lambda x: x % 2 == 0, numbers)))\n",
        "\n",
        "print(even_then_squared_funcs)\n",
        "print(\"Using filter() and map():\", even_then_squared_funcs)\n",
        "\n",
        "# Pipeline using a list comprehension\n",
        "even_then_squared_comp = [x**2 for x in numbers if x % 2 == 0]\n",
        "print(\"Using a list comprehension:\", even_then_squared_comp)"
      ],
      "id": "9985eb04",
      "execution_count": 23,
      "outputs": [
        {
          "output_type": "stream",
          "name": "stdout",
          "text": [
            "[4, 16, 36, 64, 100]\n",
            "Using filter() and map(): [4, 16, 36, 64, 100]\n",
            "Using a list comprehension: [4, 16, 36, 64, 100]\n"
          ]
        }
      ]
    },
    {
      "cell_type": "code",
      "source": [
        "print(5*'X')"
      ],
      "metadata": {
        "colab": {
          "base_uri": "https://localhost:8080/"
        },
        "id": "BbqWaUEgpUf3",
        "outputId": "ee60c5f2-530d-4d46-a034-d0dfb65bf467"
      },
      "id": "BbqWaUEgpUf3",
      "execution_count": 24,
      "outputs": [
        {
          "output_type": "stream",
          "name": "stdout",
          "text": [
            "XXXXX\n"
          ]
        }
      ]
    },
    {
      "cell_type": "markdown",
      "metadata": {
        "id": "ced5118e"
      },
      "source": [
        "Here's how you can create a pipeline by storing functions in a list and applying them sequentially:"
      ],
      "id": "ced5118e"
    },
    {
      "cell_type": "code",
      "metadata": {
        "colab": {
          "base_uri": "https://localhost:8080/"
        },
        "id": "3b333248",
        "outputId": "bc0f579b-c591-4759-9ae5-0a50162b464f"
      },
      "source": [
        "numbers = [1, 2, 3, 4, 5, 6, 7, 8, 9, 10]\n",
        "\n",
        "# Define the pipeline as a list of functions\n",
        "pipeline = [\n",
        "    lambda data: list(filter(lambda x: x % 2 == 0, data)),  # Step 1: Filter for even numbers\n",
        "    lambda data: list(map(lambda x: x**2, data))          # Step 2: Square the numbers\n",
        "]\n",
        "\n",
        "# Apply the pipeline to the data\n",
        "result = numbers\n",
        "for step in pipeline:\n",
        "  result = step(result)\n",
        "\n",
        "print(\"Pipeline result:\", result)"
      ],
      "id": "3b333248",
      "execution_count": 25,
      "outputs": [
        {
          "output_type": "stream",
          "name": "stdout",
          "text": [
            "Pipeline result: [4, 16, 36, 64, 100]\n"
          ]
        }
      ]
    },
    {
      "cell_type": "markdown",
      "metadata": {
        "id": "d494518b"
      },
      "source": [
        "In this approach:\n",
        "1.  We define `pipeline` as a list where each element is a lambda function representing a step in the process.\n",
        "2.  We initialize `result` with the original data (`numbers`).\n",
        "3.  We loop through the `pipeline` list. In each iteration, we apply the current `step` function to the `result` from the previous step (or the initial data) and update `result`.\n",
        "\n",
        "This allows you to easily define, modify, and reuse pipelines by manipulating the list of functions."
      ],
      "id": "d494518b"
    }
  ],
  "metadata": {
    "language_info": {
      "name": "python"
    },
    "colab": {
      "provenance": []
    },
    "kernelspec": {
      "name": "python3",
      "display_name": "Python 3"
    }
  },
  "nbformat": 4,
  "nbformat_minor": 5
}