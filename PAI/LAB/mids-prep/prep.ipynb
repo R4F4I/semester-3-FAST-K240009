{
 "cells": [
  {
   "cell_type": "code",
   "execution_count": null,
   "id": "7fdfb5de",
   "metadata": {
    "vscode": {
     "languageId": "plaintext"
    }
   },
   "outputs": [],
   "source": [
    "# for function unknown keyword arguments\n",
    "def function(**args):\n",
    "    print(args['lname'])\n",
    "\n",
    "function(fname=\"jds\", lname=\"rwo\")"
   ]
  }
 ],
 "metadata": {
  "language_info": {
   "name": "python"
  }
 },
 "nbformat": 4,
 "nbformat_minor": 5
}
