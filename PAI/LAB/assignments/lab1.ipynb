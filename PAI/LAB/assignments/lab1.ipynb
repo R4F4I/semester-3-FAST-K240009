{
  "nbformat": 4,
  "nbformat_minor": 0,
  "metadata": {
    "colab": {
      "provenance": [],
      "authorship_tag": "ABX9TyMwqjwePZzzvnf3xwjYfLmr"
    },
    "kernelspec": {
      "name": "python3",
      "display_name": "Python 3"
    },
    "language_info": {
      "name": "python"
    }
  },
  "cells": [
    {
      "cell_type": "markdown",
      "metadata": {
        "id": "5097b210"
      },
      "source": [
        "## Tasks:\n",
        "\n",
        "**1. Number Transformation and Divisibility Check**\n",
        "\n",
        "*   Take a number as input from the user.\n",
        "*   Store it in a variable.\n",
        "*   Convert it to float, string, and complex type using casting.\n",
        "*   Print the type of each transformation.\n",
        "*   **Twist:** Check if the number is divisible by 2 without using the modulo operator `%`. (Hint: use subtraction or floor division creatively).\n",
        "\n",
        "**2. String Manipulation**\n",
        "\n",
        "Given a string `s = \"Artificial Intelligence\"`, perform the following:\n",
        "\n",
        "*   Print \"Intel\" using slicing only.\n",
        "*   Reverse the string without using loops.\n",
        "*   Print every 2nd character of the string.\n",
        "*   **Challenge:** Extract the word \"Art\" without directly using the index `0:3`. (Hint: use negative indexing smartly).\n",
        "\n",
        "**3. Number Encryption (Without Libraries)**\n",
        "\n",
        "*   Take a 4-digit integer from the user.\n",
        "*   Swap the 1st and 4th digits, and the 2nd and 3rd digits.\n",
        "*   Add 7 to each digit, then take modulo 10.\n",
        "*   Print the encrypted number.\n",
        "*   *Uses variables, arithmetic operators, type casting, and slicing (if treated as string).*\n",
        "\n",
        "**4. Variable Chain Puzzle**\n",
        "\n",
        "*   Assign `x = 5`.\n",
        "*   Without reassigning `x` directly, create `y`, `z`, `w` such that:\n",
        "    *   `y` is twice `x`,\n",
        "    *   `z` is the cube of `y`,\n",
        "    *   `w` is the square root of `z`.\n",
        "*   Print all in a single line using f-string formatting.\n",
        "*   *Forces casting, operators, and order of evaluation.*\n",
        "\n",
        "**5. Strong Password Generator (Logic-Only)**\n",
        "\n",
        "*   Input a user’s name and birth year.\n",
        "*   Generate a password:\n",
        "    *   Take the first 3 letters of name (random case).\n",
        "    *   Take the last 2 digits of the year.\n",
        "    *   Add one special symbol from `@#%&*` based on the ASCII value of the 1st letter.\n",
        "*   **Example:** Ali, 2001 → ALi01%.\n",
        "*   *Mixes variables, slicing, casting, operators.*\n",
        "\n"
      ]
    },
    {
      "cell_type": "code",
      "execution_count": 1,
      "metadata": {
        "colab": {
          "base_uri": "https://localhost:8080/"
        },
        "id": "078g7MXU8ABx",
        "outputId": "c2b610d5-4f0f-48d2-a00d-86ef791d1c4a"
      },
      "outputs": [
        {
          "output_type": "stream",
          "name": "stdout",
          "text": [
            "Enter a number: 23\n",
            "Type of float transformation: <class 'float'>\n",
            "Type of string transformation: <class 'str'>\n",
            "Type of complex transformation: <class 'complex'>\n",
            "Is the number divisible by 2? False\n"
          ]
        }
      ],
      "source": [
        "# Task 1: Number Transformation and Divisibility Check\n",
        "\n",
        "# Take a number as input from the user\n",
        "num_str = input(\"Enter a number: \")\n",
        "\n",
        "# Store it in a variable\n",
        "num = int(num_str)\n",
        "\n",
        "# Convert it to float, string, and complex type using casting\n",
        "num_float = float(num)\n",
        "num_string = str(num)\n",
        "num_complex = complex(num)\n",
        "\n",
        "# Print the type of each transformation\n",
        "print(f\"Type of float transformation: {type(num_float)}\")\n",
        "print(f\"Type of string transformation: {type(num_string)}\")\n",
        "print(f\"Type of complex transformation: {type(num_complex)}\")\n",
        "\n",
        "# Twist: Check if the number is divisible by 2 without using the modulo operator %\n",
        "# Hint: use subtraction or floor division creatively\n",
        "\n",
        "is_even = (num // 2) * 2 == num\n",
        "\n",
        "print(f\"Is the number divisible by 2? {is_even}\")"
      ]
    },
    {
      "cell_type": "code",
      "source": [
        "# Task 2: String Manipulation\n",
        "\n",
        "s = \"Artificial Intelligence\"\n",
        "\n",
        "# Print \"Intel\" using slicing only\n",
        "print(s[12:17])\n",
        "\n",
        "# Reverse the string without using loops\n",
        "print(s[::-1])\n",
        "\n",
        "# Print every 2nd character of the string\n",
        "print(s[::2])\n",
        "\n",
        "# Challenge: Extract the word \"Art\" without directly using the index 0:3.\n",
        "# Hint: use negative indexing smartly\n",
        "\n",
        "print(s[-23:-20]) # Using negative indexing relative to the end of the string"
      ],
      "metadata": {
        "colab": {
          "base_uri": "https://localhost:8080/"
        },
        "id": "ouc74sZg8nPn",
        "outputId": "7e8e7e98-2a2e-407b-9a66-8802d3c25fbf"
      },
      "execution_count": 2,
      "outputs": [
        {
          "output_type": "stream",
          "name": "stdout",
          "text": [
            "ntell\n",
            "ecnegilletnI laicifitrA\n",
            "Atfca nelgne\n",
            "Art\n"
          ]
        }
      ]
    },
    {
      "cell_type": "code",
      "source": [
        "# Task 3: Number Encryption (Without Libraries)\n",
        "\n",
        "# Take a 4-digit integer from the user\n",
        "num_str = input(\"Enter a 4-digit number: \")\n",
        "\n",
        "# Ensure the input is a 4-digit number\n",
        "if len(num_str) != 4 or not num_str.isdigit():\n",
        "    print(\"Invalid input. Please enter a 4-digit number.\")\n",
        "else:\n",
        "    # Convert the string to a list of integers\n",
        "    digits = [int(d) for d in num_str]\n",
        "\n",
        "    # Swap the 1st and 4th digits, and the 2nd and 3rd digits\n",
        "    encrypted_digits = [0, 0, 0, 0]\n",
        "    encrypted_digits[0] = digits[3]\n",
        "    encrypted_digits[1] = digits[2]\n",
        "    encrypted_digits[2] = digits[1]\n",
        "    encrypted_digits[3] = digits[0]\n",
        "\n",
        "    # Add 7 to each digit, then take modulo 10\n",
        "    encrypted_number = \"\"\n",
        "    for digit in encrypted_digits:\n",
        "        encrypted_number += str((digit + 7) % 10)\n",
        "\n",
        "    # Print the encrypted number\n",
        "    print(f\"Encrypted number: {encrypted_number}\")"
      ],
      "metadata": {
        "colab": {
          "base_uri": "https://localhost:8080/"
        },
        "id": "UckFuWDP9nyR",
        "outputId": "d2ad3496-426a-4162-8fe1-02d3b0af5002"
      },
      "execution_count": 3,
      "outputs": [
        {
          "output_type": "stream",
          "name": "stdout",
          "text": [
            "Enter a 4-digit number: 4567\n",
            "Encrypted number: 4321\n"
          ]
        }
      ]
    },
    {
      "cell_type": "code",
      "source": [
        "# Task 4: Variable Chain Puzzle\n",
        "\n",
        "x = 5\n",
        "\n",
        "# Create y, z, w based on the requirements without reassigning x directly\n",
        "y = x * 2\n",
        "z = y ** 3\n",
        "w = z ** 0.5 # Square root\n",
        "\n",
        "# Print all in a single line using f-string formatting\n",
        "print(f\"x: {x}, y: {y}, z: {z}, w: {w}\")"
      ],
      "metadata": {
        "colab": {
          "base_uri": "https://localhost:8080/"
        },
        "id": "vwsipCXL93Eh",
        "outputId": "47bbad6e-48c2-4cf2-8448-71bd180d7f2b"
      },
      "execution_count": 4,
      "outputs": [
        {
          "output_type": "stream",
          "name": "stdout",
          "text": [
            "x: 5, y: 10, z: 1000, w: 31.622776601683793\n"
          ]
        }
      ]
    },
    {
      "cell_type": "code",
      "source": [
        "# Task 5: Strong Password Generator (Logic-Only)\n",
        "\n",
        "import random\n",
        "\n",
        "# Input a user’s name and birth year\n",
        "name = input(\"Enter your name: \")\n",
        "birth_year = input(\"Enter your birth year (YYYY): \")\n",
        "\n",
        "# Generate a password\n",
        "# Take the first 3 letters of name (random case)\n",
        "name_part = \"\"\n",
        "for letter in name[:3]:\n",
        "    if random.random() > 0.5:\n",
        "        name_part += letter.upper()\n",
        "    else:\n",
        "        name_part += letter.lower()\n",
        "\n",
        "# Take the last 2 digits of the year\n",
        "year_part = birth_year[-2:]\n",
        "\n",
        "# Add one special symbol from @#%&* based on the ASCII value of the 1st letter\n",
        "special_symbols = \"@#%&*\"\n",
        "# Get the ASCII value of the first letter and use modulo to get an index\n",
        "symbol_index = ord(name[0]) % len(special_symbols)\n",
        "symbol_part = special_symbols[symbol_index]\n",
        "\n",
        "# Combine the parts to form the password\n",
        "password = name_part + year_part + symbol_part\n",
        "\n",
        "# Print the generated password\n",
        "print(f\"Generated Password: {password}\")"
      ],
      "metadata": {
        "colab": {
          "base_uri": "https://localhost:8080/"
        },
        "id": "4g7lcG4y991W",
        "outputId": "a0ca8586-ca97-485f-d436-ede1889b5ee5"
      },
      "execution_count": 5,
      "outputs": [
        {
          "output_type": "stream",
          "name": "stdout",
          "text": [
            "Enter your name: michael\n",
            "Enter your birth year (YYYY): 2000\n",
            "Generated Password: Mic00*\n"
          ]
        }
      ]
    }
  ]
}