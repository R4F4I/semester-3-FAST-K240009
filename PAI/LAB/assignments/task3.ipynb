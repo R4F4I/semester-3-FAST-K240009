{
  "cells": [
    {
      "cell_type": "markdown",
      "id": "85a3a302",
      "metadata": {
        "id": "85a3a302"
      },
      "source": [
        "# Lab Tasks"
      ]
    },
    {
      "cell_type": "markdown",
      "source": [
        "## Task 1\n",
        "\n",
        "Create a Python function named calculate_area that calculates the area of a rectangle. The function should take two parameters, length and width, and return the area."
      ],
      "metadata": {
        "id": "wbJFbWh8E9-Y"
      },
      "id": "wbJFbWh8E9-Y"
    },
    {
      "cell_type": "code",
      "source": [
        "def calculate_area(length, width):\n",
        "  return length*width\n",
        "\n",
        "print(calculate_area(3,2))"
      ],
      "metadata": {
        "id": "ZbClKUMAFARr",
        "outputId": "4428f437-e3c7-4443-c14a-240523228bd7",
        "colab": {
          "base_uri": "https://localhost:8080/"
        }
      },
      "id": "ZbClKUMAFARr",
      "execution_count": 1,
      "outputs": [
        {
          "output_type": "stream",
          "name": "stdout",
          "text": [
            "6\n"
          ]
        }
      ]
    },
    {
      "cell_type": "markdown",
      "source": [
        "## task 2\n",
        "\n",
        "Write a Python function to check if the last letter of a user input string is a vowel or a consonant."
      ],
      "metadata": {
        "id": "X3ik6aapIh07"
      },
      "id": "X3ik6aapIh07"
    },
    {
      "cell_type": "code",
      "source": [
        "vowel = \"aeiou\"\n",
        "\n",
        "string = input(\"enter input: \")\n",
        "lastChar = string[-1] # last val of arr using -ve indexing\n",
        "\n",
        "isVowel = False\n",
        "\n",
        "for char in vowel:\n",
        "  if lastChar == char:\n",
        "    isVowel = True\n",
        "    break\n",
        "\n",
        "if isVowel:\n",
        "  print(\"vowel\")\n",
        "else:\n",
        "  print(\"consonant\")\n"
      ],
      "metadata": {
        "id": "zxFW6bWiIjmD",
        "outputId": "edcec494-ae52-48ac-d50c-c6bde3328a2b",
        "colab": {
          "base_uri": "https://localhost:8080/"
        }
      },
      "id": "zxFW6bWiIjmD",
      "execution_count": 12,
      "outputs": [
        {
          "output_type": "stream",
          "name": "stdout",
          "text": [
            "enter input: hello\n",
            "vowel\n"
          ]
        }
      ]
    },
    {
      "cell_type": "markdown",
      "source": [
        "## task 3\n",
        "Write a program to make function employee() meeting the following\n",
        "requirements: Employee name and monthly salary will be passed to this function. This function will cut 2 percent tax from salary and display salary after tax with the name of the employee. If the salary is missing in the function call then assign default value 10,000 to salary."
      ],
      "metadata": {
        "id": "IeSE9pU1IxVL"
      },
      "id": "IeSE9pU1IxVL"
    },
    {
      "cell_type": "code",
      "source": [
        "def employee(name, salary=10_000):\n",
        "  # 2% tax cut => salary = salary - 2%*salary\n",
        "  salary *= 0.98\n",
        "  print(\"employee: \", name, \"\\nsalary: \",salary,\"\\n\")\n",
        "\n",
        "\n",
        "employee(\"john\", 12_000)\n",
        "employee(\"john\")"
      ],
      "metadata": {
        "id": "hmap3zDmJnOj",
        "outputId": "c698d547-de5e-4dd4-9558-d2435ff630c7",
        "colab": {
          "base_uri": "https://localhost:8080/"
        }
      },
      "id": "hmap3zDmJnOj",
      "execution_count": 15,
      "outputs": [
        {
          "output_type": "stream",
          "name": "stdout",
          "text": [
            "employee:  john \n",
            "salary:  11760.0 \n",
            "\n",
            "employee:  john \n",
            "salary:  9800.0 \n",
            "\n"
          ]
        }
      ]
    },
    {
      "cell_type": "markdown",
      "source": [
        "## task 4\n",
        "Write a python program that takes any two lists from a user having the same\n",
        "number of elements. Make a dictionary from these two lists in such a way that\n",
        "the first element of the first list will be key and the first element of the second\n",
        "list will be its associated value and so on. Store the dictionary in a text file.\n",
        "\n",
        "> do not use any library. Make logic yourself."
      ],
      "metadata": {
        "id": "jhj8mZtiI8K1"
      },
      "id": "jhj8mZtiI8K1"
    },
    {
      "cell_type": "code",
      "source": [
        "# 2 list with same size\n",
        "# 1st list val is \"key\", 2nd list val is \"value\"\n",
        "\n",
        "country_codes = ['US', 'CA', 'GB', 'AU', 'DE', 'FR', 'JP', 'CN', 'IN', 'BR']\n",
        "country_names = ['United States', 'Canada', 'United Kingdom', 'Australia', 'Germany', 'France', 'Japan', 'China', 'India', 'Brazil']\n",
        "\n",
        "dict = {}\n",
        "\n",
        "for i in range(len(country_codes)):\n",
        "  dict[country_codes[i]] = country_names[i]\n",
        "\n",
        "print(dict)\n"
      ],
      "metadata": {
        "id": "VWg6sGF7Jmvi",
        "outputId": "1c9a5b85-4b43-4499-975e-b0149fadd84a",
        "colab": {
          "base_uri": "https://localhost:8080/"
        }
      },
      "id": "VWg6sGF7Jmvi",
      "execution_count": 16,
      "outputs": [
        {
          "output_type": "stream",
          "name": "stdout",
          "text": [
            "{'US': 'United States', 'CA': 'Canada', 'GB': 'United Kingdom', 'AU': 'Australia', 'DE': 'Germany', 'FR': 'France', 'JP': 'Japan', 'CN': 'China', 'IN': 'India', 'BR': 'Brazil'}\n"
          ]
        }
      ]
    },
    {
      "cell_type": "markdown",
      "source": [
        "## task 5\n",
        "\n",
        "Write a Python function that checks whether a passed string is a palindrome or not. (A palindrome is a word, phrase, or sequence that reads the same backward as forward, e.g., madam)"
      ],
      "metadata": {
        "id": "9yxyQj5EJiBt"
      },
      "id": "9yxyQj5EJiBt"
    },
    {
      "cell_type": "code",
      "source": [
        "palindrome = \"racecar\"\n",
        "\n",
        "# use +ve / -ve indexing to compare the first and lst elements\n",
        "isPalindrome = True\n",
        "for i in range(len(palindrome)):\n",
        "  # -i -1 instead of -i, due to 0-indexing\n",
        "  if palindrome[i] != palindrome[-i-1]:\n",
        "    isPalindrome = False\n",
        "\n",
        "if isPalindrome:\n",
        "  print(\"palindrome\")\n",
        "else:\n",
        "  print(\"not a palindrome\")\n",
        ""
      ],
      "metadata": {
        "id": "rby-mCD7JlL_",
        "outputId": "5450a4fc-b642-499a-82b4-0a200b7f5c8f",
        "colab": {
          "base_uri": "https://localhost:8080/"
        }
      },
      "id": "rby-mCD7JlL_",
      "execution_count": 27,
      "outputs": [
        {
          "output_type": "stream",
          "name": "stdout",
          "text": [
            "palindrome\n"
          ]
        }
      ]
    }
  ],
  "metadata": {
    "language_info": {
      "name": "python"
    },
    "colab": {
      "provenance": []
    },
    "kernelspec": {
      "name": "python3",
      "display_name": "Python 3"
    }
  },
  "nbformat": 4,
  "nbformat_minor": 5
}