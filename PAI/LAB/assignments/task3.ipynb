{
 "cells": [
  {
   "cell_type": "markdown",
   "id": "85a3a302",
   "metadata": {},
   "source": [
    "# Lab Tasks\n",
    "1. Create a Python function named calculate_area that calculates the area of a\n",
    "rectangle. The function should take two parameters, length and width, and return\n",
    "the area.\n",
    "2. Write a Python function to check if the last letter of a user input string is a vowel or a consonant.\n",
    "3. Write a program to make function employee() meeting the following\n",
    "requirements: Employee name and monthly salary will be passed to this function.\n",
    "This function will cut 2 percent tax from salary and display salary after tax with\n",
    "the name of the employee. If the salary is missing in the function call then assign\n",
    "default value 10,000 to salary.\n",
    "4. Write a python program that takes any two lists from a user having the same\n",
    "number of elements. Make a dictionary from these two lists in such a way that\n",
    "the first element of the first list will be key and the first element of the second\n",
    "list will be its associated value and so on. Store the dictionary in a text file.\n",
    "Note: do not use any library. Make logic yourself.\n",
    "5. Write a Python function that checks whether a passed string is a palindrome or\n",
    "not. (A palindrome is a word, phrase, or sequence that reads the same backward\n",
    "as forward, e.g., madam)"
   ]
  }
 ],
 "metadata": {
  "language_info": {
   "name": "python"
  }
 },
 "nbformat": 4,
 "nbformat_minor": 5
}
