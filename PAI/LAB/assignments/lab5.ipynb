{
  "cells": [
    {
      "cell_type": "markdown",
      "id": "01684482",
      "metadata": {
        "id": "01684482"
      },
      "source": [
        "# Lab Tasks:\n",
        "1. Write a Python program that reads a text file, counts the number of characters in it, and\n",
        "prints the total word count. Handle all possible exceptions as well."
      ]
    },
    {
      "cell_type": "code",
      "source": [
        "with open('filing/hello.txt', 'r') as fileObj:\n",
        "  # fileObj.write('wello horld')\n",
        "  contents = fileObj.read()\n",
        "i=0\n",
        "for c in contents:\n",
        "  i+=1\n",
        "\n",
        "print(i)"
      ],
      "metadata": {
        "colab": {
          "base_uri": "https://localhost:8080/"
        },
        "id": "G-nLAraqN6oQ",
        "outputId": "334fa479-17a7-4f7c-926a-a278b473a5a9"
      },
      "id": "G-nLAraqN6oQ",
      "execution_count": 5,
      "outputs": [
        {
          "output_type": "stream",
          "name": "stdout",
          "text": [
            "174\n"
          ]
        }
      ]
    },
    {
      "cell_type": "markdown",
      "id": "08802d38",
      "metadata": {
        "id": "08802d38"
      },
      "source": [
        "2. Create a program that reads a text file, searches for a specified word or phrase, and replaces\n",
        "all occurrences with another word or phrase. Write the modified content back to the file.\n",
        "Handle all possible exceptions as well."
      ]
    },
    {
      "cell_type": "code",
      "source": [
        "# search and replace\n",
        "search = \"pythonythonava\"\n",
        "replace = \"python\"\n",
        "file_path = 'filing/hello.txt'\n",
        "\n",
        "try:\n",
        "  with open(file_path, 'r') as fileObj:\n",
        "    contents = fileObj.read()\n",
        "\n",
        "  # rather than modifying the contents directly, copy all the non search values (replacing them in the process)\n",
        "\n",
        "  modified = \"\"\n",
        "  i=0\n",
        "  while i<len(contents):\n",
        "    # if search val is found replace it\n",
        "    if contents[i:i+len(search)] == search:\n",
        "      modified +=replace\n",
        "      i+=len(search) # skip the word\n",
        "    else:\n",
        "      modified +=contents[i] # simply copy from the contents\n",
        "      i+=1 # use a while loop to make the increment conditional\n",
        "  with open(file_path, 'w') as fileObj:\n",
        "    fileObj.write(modified)\n",
        "\n",
        "  print(f\"Successfully replaced '{search}' with '{replace}' in {file_path}\")\n",
        "\n",
        "except FileNotFoundError:\n",
        "  print(f\"Error: The file '{file_path}' was not found.\")\n",
        "except Exception as e:\n",
        "  print(f\"An unexpected error occurred: {e}\")"
      ],
      "metadata": {
        "colab": {
          "base_uri": "https://localhost:8080/"
        },
        "id": "zvNPSPkvN7Ic",
        "outputId": "d328898b-5126-4b55-f98a-74d16013961b"
      },
      "id": "zvNPSPkvN7Ic",
      "execution_count": 11,
      "outputs": [
        {
          "output_type": "stream",
          "name": "stdout",
          "text": [
            "Successfully replaced 'pythonythonava' with 'python' in filing/hello.txt\n"
          ]
        }
      ]
    },
    {
      "cell_type": "markdown",
      "id": "6b231a70",
      "metadata": {
        "id": "6b231a70"
      },
      "source": [
        "3. Write a python program that takes any two lists from user having same number of elements.\n",
        "Make a dictionary from these two lists in such a way that first element of first list will be\n",
        "key and first element of second list will be its associated value and so on. Store the\n",
        "dictionary in a text file. Handle all possible exceptions as well. Note: do not use any library.\n",
        "Make logic yourself."
      ]
    },
    {
      "cell_type": "code",
      "source": [
        "# 2 list with same size\n",
        "# 1st list val is \"key\", 2nd list val is \"value\"\n",
        "\n",
        "import json\n",
        "\n",
        "country_codes = ['US', 'CA', 'GB', 'AU', 'DE', 'FR', 'JP', 'CN', 'IN', 'BR']\n",
        "country_names = ['United States', 'Canada', 'United Kingdom', 'Australia', 'Germany', 'France', 'Japan', 'China', 'India', 'Brazil']\n",
        "\n",
        "try:\n",
        "\n",
        "  dict = {}\n",
        "\n",
        "  for i in range(len(country_codes)):\n",
        "    dict[country_codes[i]] = country_names # copy the entire list as value (for testing)\n",
        "\n",
        "  print(dict)\n",
        "  with open(\"filing/country_codes.json\",\"w\") as file:\n",
        "    # file.write(dict)\n",
        "    json.dump(dict,file)\n",
        "except IndexError:\n",
        "  print(\"list dont share same size\")\n"
      ],
      "metadata": {
        "colab": {
          "base_uri": "https://localhost:8080/"
        },
        "id": "QU1Vuvy3N7jv",
        "outputId": "3c6537ca-1ba5-4371-9fe7-aed9afbc3c52"
      },
      "id": "QU1Vuvy3N7jv",
      "execution_count": 18,
      "outputs": [
        {
          "output_type": "stream",
          "name": "stdout",
          "text": [
            "{'US': ['United States', 'Canada', 'United Kingdom', 'Australia', 'Germany', 'France', 'Japan', 'China', 'India', 'Brazil'], 'CA': ['United States', 'Canada', 'United Kingdom', 'Australia', 'Germany', 'France', 'Japan', 'China', 'India', 'Brazil'], 'GB': ['United States', 'Canada', 'United Kingdom', 'Australia', 'Germany', 'France', 'Japan', 'China', 'India', 'Brazil'], 'AU': ['United States', 'Canada', 'United Kingdom', 'Australia', 'Germany', 'France', 'Japan', 'China', 'India', 'Brazil'], 'DE': ['United States', 'Canada', 'United Kingdom', 'Australia', 'Germany', 'France', 'Japan', 'China', 'India', 'Brazil'], 'FR': ['United States', 'Canada', 'United Kingdom', 'Australia', 'Germany', 'France', 'Japan', 'China', 'India', 'Brazil'], 'JP': ['United States', 'Canada', 'United Kingdom', 'Australia', 'Germany', 'France', 'Japan', 'China', 'India', 'Brazil'], 'CN': ['United States', 'Canada', 'United Kingdom', 'Australia', 'Germany', 'France', 'Japan', 'China', 'India', 'Brazil'], 'IN': ['United States', 'Canada', 'United Kingdom', 'Australia', 'Germany', 'France', 'Japan', 'China', 'India', 'Brazil'], 'BR': ['United States', 'Canada', 'United Kingdom', 'Australia', 'Germany', 'France', 'Japan', 'China', 'India', 'Brazil']}\n"
          ]
        }
      ]
    },
    {
      "cell_type": "markdown",
      "id": "dd557a8d",
      "metadata": {
        "id": "dd557a8d"
      },
      "source": [
        "4. Take biodata of employee from user as Name, cnic number, age, and salary save it in txt\n",
        "file. Now append this file to add contact number. Finally read this file. Handle all possible\n",
        "exceptions as well."
      ]
    },
    {
      "cell_type": "code",
      "source": [
        "biodata = {\n",
        "    'name':\"name\",\n",
        "    'cnic': '492875983475',\n",
        "    'age': 45,\n",
        "    'salary': 567\n",
        "}\n",
        "\n",
        "file_path = \"filing/biodata.txt\"\n",
        "\n",
        "try:\n",
        "  # Write initial biodata to the file\n",
        "  with open(file_path,\"w\") as file:\n",
        "    for key in biodata:\n",
        "      file.writelines(str(biodata[key])+\"\\n\")\n",
        "\n",
        "  # Append contact number to the file\n",
        "  contact_number = \"1234567890\"\n",
        "  with open(file_path,\"a\") as file:\n",
        "    file.writelines(contact_number + \"\\n\")\n",
        "\n",
        "  # Read the entire file and print contents\n",
        "  with open(file_path,\"r\") as file:\n",
        "    contents = file.read()\n",
        "    print(\"Contents of the file:\")\n",
        "    print(contents)\n",
        "\n",
        "except FileNotFoundError:\n",
        "  print(f\"Error: The file '{file_path}' was not found.\")\n",
        "except Exception as e:\n",
        "  print(f\"An unexpected error occurred: {e}\")"
      ],
      "metadata": {
        "colab": {
          "base_uri": "https://localhost:8080/"
        },
        "id": "VOcrtK2QN786",
        "outputId": "3ad070da-f98c-41f6-93f2-ee9f8fc65000"
      },
      "id": "VOcrtK2QN786",
      "execution_count": 38,
      "outputs": [
        {
          "output_type": "stream",
          "name": "stdout",
          "text": [
            "Contents of the file:\n",
            "name\n",
            "492875983475\n",
            "45\n",
            "567\n",
            "1234567890\n",
            "\n"
          ]
        }
      ]
    },
    {
      "cell_type": "markdown",
      "id": "e261dbf1",
      "metadata": {
        "id": "e261dbf1"
      },
      "source": [
        "5. Take input from user below dictionary having name and age pair. Save this dictionary in\n",
        "json file. Now load this json file and Print name of person having maximum age and also\n",
        "print if anyone has the same age by making logic yourself without using any library:\n",
        "dictionary = {'Ali': 23,'Saad':24,'Salman':15,'Shams':25,'Sadiq':46,'Hammad':23'} Handle all\n",
        "possible exceptions as well."
      ]
    },
    {
      "cell_type": "code",
      "source": [
        "dictionary = {\n",
        "    'Ali': 23,\n",
        "    'Saad':24,\n",
        "    'Salman':15,\n",
        "    'Shams':25,\n",
        "    'Sadiq':46,\n",
        "    'Hammad':23\n",
        "}\n",
        "\n",
        "try:\n",
        "  with open('filing/q5.json','w') as file:\n",
        "    json.dump(dictionary,file)\n",
        "except Exception as e:\n",
        "  print(\"error: \",e)"
      ],
      "metadata": {
        "id": "VuGxZU5SN8SF"
      },
      "id": "VuGxZU5SN8SF",
      "execution_count": 40,
      "outputs": []
    },
    {
      "cell_type": "markdown",
      "id": "d48a3d05",
      "metadata": {
        "id": "d48a3d05"
      },
      "source": [
        "6. Create a function that asks the user to enter a sentence then writes the sentence to a text file\n",
        "named \"questions.txt\" if it's a question. Handle all possible exceptions as well."
      ]
    },
    {
      "cell_type": "code",
      "source": [
        "try:\n",
        "\n",
        "  question = input(\"enter your question: \")\n",
        "\n",
        "  with open(\"filing/questions.txt\",\"a\") as file:\n",
        "    file.writelines(question + \"\\n\")\n",
        "\n",
        "\n",
        "except Exception as e:\n",
        "  print(\"error: \",e)"
      ],
      "metadata": {
        "colab": {
          "base_uri": "https://localhost:8080/"
        },
        "id": "MElKJcYJN83_",
        "outputId": "c861871d-8716-43b6-a935-314ca1e5ab38"
      },
      "id": "MElKJcYJN83_",
      "execution_count": 48,
      "outputs": [
        {
          "name": "stdout",
          "output_type": "stream",
          "text": [
            "enter your question: most famous computer hardware market in karachi?\n"
          ]
        }
      ]
    },
    {
      "cell_type": "markdown",
      "id": "b6a32731",
      "metadata": {
        "id": "b6a32731"
      },
      "source": [
        "7. You need to read \"replacement_needed.txt\" file. This file has one mistake. One letter needs\n",
        "to be replaced with other letter then this sentence might have some meaning. Replace this\n",
        "letter with the desired one making logic yourself without using any library. Write your code\n",
        "in function and call that function. Handle all possible exceptions as well."
      ]
    },
    {
      "cell_type": "code",
      "source": [
        "path = \"filing/replacement_needed.txt\"\n",
        "\n",
        "# writing the file\n",
        "with open(path,\"w\") as file:\n",
        "  file.write(\"thhs text has an error somewhere\")\n",
        "\n",
        "def typo():\n",
        "  # new stirng in which the correct text will be copied to\n",
        "  new = \"\"\n",
        "  # read the file\n",
        "  with open(path,\"r\") as file:\n",
        "    copied = file.read()\n",
        "    # replace the 3rd char\n",
        "    for i in range(len(copied)):\n",
        "      if i==2:\n",
        "        new +=\"i\"\n",
        "      else:\n",
        "        new +=copied[i]\n",
        "\n",
        "  print(new) # this should come out correct\n",
        "  with open(path,\"w\") as file:\n",
        "    file.write(new)\n",
        "\n",
        "typo()"
      ],
      "metadata": {
        "colab": {
          "base_uri": "https://localhost:8080/"
        },
        "id": "PYHEjJBBN9fn",
        "outputId": "aac5d009-4b01-48c1-896b-784a66cf5593"
      },
      "id": "PYHEjJBBN9fn",
      "execution_count": 54,
      "outputs": [
        {
          "output_type": "stream",
          "name": "stdout",
          "text": [
            "this text has an error somewhere\n"
          ]
        }
      ]
    },
    {
      "cell_type": "markdown",
      "id": "d4d865f0",
      "metadata": {
        "id": "d4d865f0"
      },
      "source": [
        "8. Take two integer numbers from user as input. Divide these two numbers. If one number is\n",
        "being divided by zero (another number) then handle ZeroDivisionError and if entered value\n",
        "is wrong (for example, a string) then handle ValueError."
      ]
    },
    {
      "cell_type": "code",
      "source": [
        "num1 = int(input(\"enter num1: \"))\n",
        "num2 = int(input(\"enter num2: \"))\n",
        "\n",
        "try:\n",
        "  print(num1/num2)\n",
        "except ZeroDivisionError as e:\n",
        "  print(\"error:\",e)"
      ],
      "metadata": {
        "colab": {
          "base_uri": "https://localhost:8080/"
        },
        "id": "GwjuaeZJN90V",
        "outputId": "ead5eac7-0ce4-4981-e174-d75e6c13b013"
      },
      "id": "GwjuaeZJN90V",
      "execution_count": 53,
      "outputs": [
        {
          "output_type": "stream",
          "name": "stdout",
          "text": [
            "enter num1: 1\n",
            "enter num2: 0\n",
            "error:  division by zero\n"
          ]
        }
      ]
    }
  ],
  "metadata": {
    "language_info": {
      "name": "python"
    },
    "colab": {
      "provenance": []
    },
    "kernelspec": {
      "name": "python3",
      "display_name": "Python 3"
    }
  },
  "nbformat": 4,
  "nbformat_minor": 5
}