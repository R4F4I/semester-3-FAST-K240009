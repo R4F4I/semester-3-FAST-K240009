{
 "cells": [
  {
   "cell_type": "markdown",
   "id": "01684482",
   "metadata": {},
   "source": [
    "# Lab Tasks:\n",
    "1. Write a Python program that reads a text file, counts the number of characters in it, and\n",
    "prints the total word count. Handle all possible exceptions as well."
   ]
  },
  {
   "cell_type": "markdown",
   "id": "08802d38",
   "metadata": {},
   "source": [
    "2. Create a program that reads a text file, searches for a specified word or phrase, and replaces\n",
    "all occurrences with another word or phrase. Write the modified content back to the file.\n",
    "Handle all possible exceptions as well."
   ]
  },
  {
   "cell_type": "markdown",
   "id": "6b231a70",
   "metadata": {},
   "source": [
    "3. Write a python program that takes any two lists from user having same number of elements.\n",
    "Make a dictionary from these two lists in such a way that first element of first list will be\n",
    "key and first element of second list will be its associated value and so on. Store the\n",
    "dictionary in a text file. Handle all possible exceptions as well. Note: do not use any library.\n",
    "Make logic yourself."
   ]
  },
  {
   "cell_type": "markdown",
   "id": "dd557a8d",
   "metadata": {},
   "source": [
    "4. Take biodata of employee from user as Name, cnic number, age, and salary save it in txt\n",
    "file. Now append this file to add contact number. Finally read this file. Handle all possible\n",
    "exceptions as well."
   ]
  },
  {
   "cell_type": "markdown",
   "id": "e261dbf1",
   "metadata": {},
   "source": [
    "5. Take input from user below dictionary having name and age pair. Save this dictionary in\n",
    "json file. Now load this json file and Print name of person having maximum age and also\n",
    "print if anyone has the same age by making logic yourself without using any library:\n",
    "dictionary = {'Ali': 23,'Saad':24,'Salman':15,'Shams':25,'Sadiq':46,'Hammad':23'} Handle all\n",
    "possible exceptions as well."
   ]
  },
  {
   "cell_type": "markdown",
   "id": "d48a3d05",
   "metadata": {},
   "source": [
    "6. Create a function that asks the user to enter a sentence then writes the sentence to a text file\n",
    "named \"questions.txt\" if it's a question. Handle all possible exceptions as well."
   ]
  },
  {
   "cell_type": "markdown",
   "id": "b6a32731",
   "metadata": {},
   "source": [
    "7. You need to read \"replacement_needed.txt\" file. This file has one mistake. One letter needs\n",
    "to be replaced with other letter then this sentence might have some meaning. Replace this\n",
    "letter with the desired one making logic yourself without using any library. Write your code\n",
    "in function and call that function. Handle all possible exceptions as well."
   ]
  },
  {
   "cell_type": "markdown",
   "id": "d4d865f0",
   "metadata": {},
   "source": [
    "8. Take two integer numbers from user as input. Divide these two numbers. If one number is\n",
    "being divided by zero (another number) then handle ZeroDivisionError and if entered value\n",
    "is wrong (for example, a string) then handle ValueError."
   ]
  }
 ],
 "metadata": {
  "language_info": {
   "name": "python"
  }
 },
 "nbformat": 4,
 "nbformat_minor": 5
}
