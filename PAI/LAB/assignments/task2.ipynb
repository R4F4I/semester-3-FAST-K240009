{
 "cells": [
  {
   "cell_type": "markdown",
   "id": "1275fd7b",
   "metadata": {},
   "source": [
    "# Tasks\n",
    "\n",
    "1. Create a program that checks whether a given string is a valid password:\n",
    "- At least 8 characters long\n",
    "- Contains both letters and digits\n",
    "- Contains at least one special character (@, #, $, %)\n",
    "\n",
    "2. Implement matrix addition and multiplication using nested lists.\n",
    "\n",
    "3. Given a list of student records stored as tuples (name, marks), write a\n",
    "program to:\n",
    "- Sort students by marks in descending order\n",
    "- Print the top 3 students\n",
    "4. Write a program that finds the pair of numbers in a tuple whose sum is closest\n",
    "to zero.\n",
    "5. Create a student management system where you can:\n",
    "- Add student name + marks in a dictionary\n",
    "- Update marks\n",
    "- Delete a student\n",
    "- Find the topper\n",
    "6. Given a dictionary of countries and their populations, write a program to find the\n",
    "top 3 most populated countries without using sorted()."
   ]
  }
 ],
 "metadata": {
  "language_info": {
   "name": "python"
  }
 },
 "nbformat": 4,
 "nbformat_minor": 5
}
