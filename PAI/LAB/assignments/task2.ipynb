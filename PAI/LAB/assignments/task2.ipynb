{
 "cells": [
  {
   "cell_type": "markdown",
   "id": "1275fd7b",
   "metadata": {},
   "source": [
    "# Tasks\n",
    "\n",
    "1. Create a program that checks whether a given string is a valid password:\n",
    "- At least 8 characters long\n",
    "- Contains both letters and digits\n",
    "- Contains at least one special character (@, #, $, %)\n",
    "\n",
    "2. Implement matrix addition and multiplication using nested lists.\n",
    "\n",
    "3. Given a list of student records stored as tuples (name, marks), write a\n",
    "program to:\n",
    "- Sort students by marks in descending order\n",
    "- Print the top 3 students\n",
    "4. Write a program that finds the pair of numbers in a tuple whose sum is closest\n",
    "to zero.\n",
    "5. Create a student management system where you can:\n",
    "- Add student name + marks in a dictionary\n",
    "- Update marks\n",
    "- Delete a student\n",
    "- Find the topper\n",
    "6. Given a dictionary of countries and their populations, write a program to find the\n",
    "top 3 most populated countries without using sorted()."
   ]
  },
  {
   "cell_type": "markdown",
   "id": "d3a43f94",
   "metadata": {},
   "source": [
    "## task1"
   ]
  },
  {
   "cell_type": "code",
   "execution_count": null,
   "id": "d1c1a716",
   "metadata": {
    "vscode": {
     "languageId": "plaintext"
    }
   },
   "outputs": [],
   "source": [
    "password = input(\"enter password: \")\n",
    "specialChars = '@#$%'\n",
    "letters = \"qwertyuiopasdfghjklzxcvbnmQWERTYUIOPASDFGHJKLZXCVBNM\"\n",
    "numbers = \"1234567890\"\n",
    "\n",
    "if len(password) < 8:\n",
    "  print(\"password must be at least 8 characters long\")\n",
    "else:\n",
    "  has_letter = False\n",
    "  has_digit = False\n",
    "  has_special = False\n",
    "  for char in password:\n",
    "    if char in specialChars:\n",
    "      has_special = True\n",
    "    if char in letters:\n",
    "      has_letter = True\n",
    "    if char in numbers:\n",
    "      has_digit = True\n",
    "  if has_special and has_digit and has_letter:\n",
    "    print(\"password is valid\")\n",
    "  else:\n",
    "    print(\"password is invalid\")"
   ]
  },
  {
   "cell_type": "markdown",
   "id": "abda6442",
   "metadata": {},
   "source": [
    "## task 3"
   ]
  },
  {
   "cell_type": "code",
   "execution_count": null,
   "id": "2584986a",
   "metadata": {
    "vscode": {
     "languageId": "plaintext"
    }
   },
   "outputs": [],
   "source": [
    "records = (\n",
    "    ('a', 60),\n",
    "    ('b', 90),\n",
    "    ('c', 85),\n",
    "    ('d', 23),\n",
    "    ('e', 45),\n",
    "    ('f', 143),\n",
    "    ('g', 13),\n",
    "    ('h', 113),\n",
    ")\n",
    "\n",
    "myList = list(records)\n",
    "myList.sort(reverse=True)\n",
    "#records=tuple(myList)\n",
    "\n",
    "for i in range(3):\n",
    "  print(myList[i])\n",
    "\n",
    "\n"
   ]
  }
 ],
 "metadata": {
  "language_info": {
   "name": "python"
  }
 },
 "nbformat": 4,
 "nbformat_minor": 5
}
