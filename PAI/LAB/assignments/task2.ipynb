{
  "cells": [
    {
      "cell_type": "markdown",
      "id": "1275fd7b",
      "metadata": {
        "id": "1275fd7b"
      },
      "source": [
        "# Tasks\n",
        "\n",
        "1. Create a program that checks whether a given string is a valid password:\n",
        "- At least 8 characters long\n",
        "- Contains both letters and digits\n",
        "- Contains at least one special character (@, #, $, %)\n",
        "\n",
        "2. Implement matrix addition and multiplication using nested lists.\n",
        "\n",
        "3. Given a list of student records stored as tuples (name, marks), write a\n",
        "program to:\n",
        "- Sort students by marks in descending order\n",
        "- Print the top 3 students\n",
        "4. Write a program that finds the pair of numbers in a tuple whose sum is closest\n",
        "to zero.\n",
        "5. Create a student management system where you can:\n",
        "- Add student name + marks in a dictionary\n",
        "- Update marks\n",
        "- Delete a student\n",
        "- Find the topper\n",
        "6. Given a dictionary of countries and their populations, write a program to find the\n",
        "top 3 most populated countries without using sorted()."
      ]
    },
    {
      "cell_type": "markdown",
      "id": "d3a43f94",
      "metadata": {
        "id": "d3a43f94"
      },
      "source": [
        "## task1"
      ]
    },
    {
      "cell_type": "code",
      "execution_count": null,
      "id": "d1c1a716",
      "metadata": {
        "vscode": {
          "languageId": "plaintext"
        },
        "id": "d1c1a716"
      },
      "outputs": [],
      "source": [
        "password = input(\"enter password: \")\n",
        "specialChars = '@#$%'\n",
        "letters = \"qwertyuiopasdfghjklzxcvbnmQWERTYUIOPASDFGHJKLZXCVBNM\"\n",
        "numbers = \"1234567890\"\n",
        "\n",
        "if len(password) < 8:\n",
        "  print(\"password must be at least 8 characters long\")\n",
        "else:\n",
        "  has_letter = False\n",
        "  has_digit = False\n",
        "  has_special = False\n",
        "  for char in password:\n",
        "    if char in specialChars:\n",
        "      has_special = True\n",
        "    if char in letters:\n",
        "      has_letter = True\n",
        "    if char in numbers:\n",
        "      has_digit = True\n",
        "  if has_special and has_digit and has_letter:\n",
        "    print(\"password is valid\")\n",
        "  else:\n",
        "    print(\"password is invalid\")"
      ]
    },
    {
      "cell_type": "markdown",
      "source": [
        "## task 2"
      ],
      "metadata": {
        "id": "L-Y1z_xYnfYb"
      },
      "id": "L-Y1z_xYnfYb"
    },
    {
      "cell_type": "code",
      "source": [
        "matrix1 = [\n",
        "    [1, 2, 3],\n",
        "    [4, 5, 6],\n",
        "    [7, 8, 9]\n",
        "]\n",
        "\n",
        "# mat[i][j] i refers to row, j refers to col\n",
        "\n",
        "matrix2 = [\n",
        "    [9, 8, 7],\n",
        "    [6, 5, 4],\n",
        "    [3, 2, 1]\n",
        "]\n",
        "\n",
        "# print(len(matrix1[0]))\n",
        "\n",
        "# ASSUME THAT BOTH MATRICES ARE SAME\n",
        "def mat_add(mat1, mat2):\n",
        "  result = []\n",
        "  for i in range(len(mat1)): # mat1's rows = a\n",
        "    row = []\n",
        "    for j in range(len(mat1[0])):  # mat2'2 col = c\n",
        "      row.append(mat1[i][j]+mat2[i][j])\n",
        "    result.append(row)\n",
        "  return result\n",
        "\n",
        "\n",
        "# helpers\n",
        "# for i in range(len(matrix1)):\n",
        "#     for j in range(len(matrix1[0])):\n",
        "#       # print(\"i:\",i,\" j:\",j)\n",
        "#       print(matrix1[i][j])\n",
        "# print(\"then\")\n",
        "# for i in range(len(matrix2)):\n",
        "#     for j in range(len(matrix2[0])):\n",
        "#       # print(\"j:\",j,\" i:\",i)\n",
        "#       print(matrix2[j][i])\n",
        "\n",
        "def print_col(mat,num):\n",
        "  print(\"[\", end='')\n",
        "  for i in range(len(mat)):\n",
        "    print(mat[i][num], end=' ')\n",
        "  print(\"]\", end='')\n",
        "\n",
        "\n",
        "#######################################################\n",
        "# MATRIX MULTIPLICATION\n",
        "# for 2 matrices axb and bxc the resultant is axc, hence the nested loop takes in the 2nd matrix's col\n",
        "# and the dot product being performaed is dependant on 1st matrix's col\n",
        "# in this loop, i is row=a, j is col=b for mat1\n",
        "\n",
        "def mat_mult(mat1, mat2):\n",
        "  result = []\n",
        "  for i in range(len(mat1)): # mat1's rows = a\n",
        "    row = []\n",
        "    for j in range(len(mat2[0])):  # mat2'2 col = c\n",
        "      dotproduct = 0\n",
        "      for k in range(len(mat1)): # dot product calc, dependant on mat1's cols = b\n",
        "        # print(\"i:\",i,\"j:\",j,\"k:\",k)\n",
        "        dotproduct += mat1[i][k]*mat2[k][j]\n",
        "\n",
        "      # FOR DEBUGGING\n",
        "      # look at the above multiplication like this (mat[r][c])\n",
        "      #\n",
        "      # print(\"result[\",i,\",\",j,\"] = \",dotproduct, \" = mat1_row\",mat1[i], \". mat2_col\", end='')\n",
        "      # print_col(mat2,j)\n",
        "      # print(end='\\n')\n",
        "\n",
        "      row.append(dotproduct)\n",
        "    result.append(row)\n",
        "\n",
        "  return result\n",
        "\n",
        "\n",
        "\n",
        "print(mat_add(matrix1, matrix2))\n",
        "print(mat_mult(matrix1,matrix2))"
      ],
      "metadata": {
        "colab": {
          "base_uri": "https://localhost:8080/"
        },
        "id": "1bPsS_o6ne-k",
        "outputId": "eeac5e56-1441-4c8b-89ad-ee359f12f7f6"
      },
      "id": "1bPsS_o6ne-k",
      "execution_count": null,
      "outputs": [
        {
          "output_type": "stream",
          "name": "stdout",
          "text": [
            "[[10, 10, 10], [10, 10, 10], [10, 10, 10]]\n",
            "result[ 0 , 0 ] =  30  = mat1_row [1, 2, 3] . mat2_col[9 6 3 ]\n",
            "result[ 0 , 1 ] =  24  = mat1_row [1, 2, 3] . mat2_col[8 5 2 ]\n",
            "result[ 0 , 2 ] =  18  = mat1_row [1, 2, 3] . mat2_col[7 4 1 ]\n",
            "result[ 1 , 0 ] =  84  = mat1_row [4, 5, 6] . mat2_col[9 6 3 ]\n",
            "result[ 1 , 1 ] =  69  = mat1_row [4, 5, 6] . mat2_col[8 5 2 ]\n",
            "result[ 1 , 2 ] =  54  = mat1_row [4, 5, 6] . mat2_col[7 4 1 ]\n",
            "result[ 2 , 0 ] =  138  = mat1_row [7, 8, 9] . mat2_col[9 6 3 ]\n",
            "result[ 2 , 1 ] =  114  = mat1_row [7, 8, 9] . mat2_col[8 5 2 ]\n",
            "result[ 2 , 2 ] =  90  = mat1_row [7, 8, 9] . mat2_col[7 4 1 ]\n",
            "[[30, 24, 18], [84, 69, 54], [138, 114, 90]]\n"
          ]
        }
      ]
    },
    {
      "cell_type": "markdown",
      "id": "abda6442",
      "metadata": {
        "id": "abda6442"
      },
      "source": [
        "## task 3"
      ]
    },
    {
      "cell_type": "code",
      "execution_count": null,
      "id": "2584986a",
      "metadata": {
        "vscode": {
          "languageId": "plaintext"
        },
        "id": "2584986a"
      },
      "outputs": [],
      "source": [
        "records = (\n",
        "    ('a', 60),\n",
        "    ('b', 90),\n",
        "    ('c', 85),\n",
        "    ('d', 23),\n",
        "    ('e', 45),\n",
        "    ('f', 143),\n",
        "    ('g', 13),\n",
        "    ('h', 113),\n",
        ")\n",
        "\n",
        "myList = list(records)\n",
        "myList.sort(reverse=True)\n",
        "#records=tuple(myList)\n",
        "\n",
        "for i in range(3):\n",
        "  print(myList[i])\n",
        "\n",
        "\n"
      ]
    },
    {
      "cell_type": "markdown",
      "source": [
        "## task 4"
      ],
      "metadata": {
        "id": "rLBy1rjFbsCC"
      },
      "id": "rLBy1rjFbsCC"
    },
    {
      "cell_type": "code",
      "source": [
        "tuple = (\n",
        "    (4,3),\n",
        "    (1,2),\n",
        "    (3,4),\n",
        "    (5,6),\n",
        "    (7,8),\n",
        ")\n",
        "\n",
        "# tuple with least sum\n",
        "least = 999999\n",
        "for list in tuple:\n",
        "  sum = list[0] + list[1]\n",
        "\n",
        "  if sum < least:\n",
        "    least = sum\n",
        "    pair = list\n",
        "\n",
        "# final smallest pair will be printed\n",
        "\n",
        "print(pair)\n",
        "\n"
      ],
      "metadata": {
        "id": "d1xSJ2Twbt_C"
      },
      "id": "d1xSJ2Twbt_C",
      "execution_count": null,
      "outputs": []
    },
    {
      "cell_type": "markdown",
      "source": [
        "## task 5"
      ],
      "metadata": {
        "id": "Y4b4Em7o8HhA"
      },
      "id": "Y4b4Em7o8HhA"
    },
    {
      "cell_type": "code",
      "source": [
        "students = [\n",
        "    {\n",
        "      \"id\": \"S001\",\n",
        "      \"name\": \"Alice Johnson\",\n",
        "      \"total_marks\": 343\n",
        "    },\n",
        "    {\n",
        "      \"id\": \"S002\",\n",
        "      \"name\": \"Bob Williams\",\n",
        "      \"total_marks\": 338\n",
        "    },\n",
        "    {\n",
        "      \"id\": \"S003\",\n",
        "      \"name\": \"Charlie Brown\",\n",
        "      \"total_marks\": 356\n",
        "    },\n",
        "    {\n",
        "      \"id\": \"S004\",\n",
        "      \"name\": \"Diana Miller\",\n",
        "      \"total_marks\": 278\n",
        "    },\n",
        "    {\n",
        "      \"id\": \"S005\",\n",
        "      \"name\": \"Eva Davis\",\n",
        "      \"total_marks\": 366\n",
        "    },\n",
        "    {\n",
        "      \"id\": \"S006\",\n",
        "      \"name\": \"Frank White\",\n",
        "      \"total_marks\": 326\n",
        "    },\n",
        "    {\n",
        "      \"id\": \"S007\",\n",
        "      \"name\": \"Grace Wilson\",\n",
        "      \"total_marks\": 338\n",
        "    },\n",
        "    {\n",
        "      \"id\": \"S008\",\n",
        "      \"name\": \"Henry Taylor\",\n",
        "      \"total_marks\": 364\n",
        "    },\n",
        "    {\n",
        "      \"id\": \"S009\",\n",
        "      \"name\": \"Ivy Moore\",\n",
        "      \"total_marks\": 285\n",
        "    },\n",
        "    {\n",
        "      \"id\": \"S010\",\n",
        "      \"name\": \"Jack Harris\",\n",
        "      \"total_marks\": 353\n",
        "    }\n",
        "  ]\n",
        "\n",
        "def update_marks(name, marks):\n",
        "  for student in students:\n",
        "    if student[\"name\"] == name:\n",
        "      student[\"total_marks\"] = marks\n",
        "\n",
        "def remove_student(name):\n",
        "  for student in students:\n",
        "    if student[\"name\"] == name:\n",
        "      students.remove(student)\n",
        "\n",
        "def topper(list):\n",
        "  greatest = 0\n",
        "  for student in list:\n",
        "    if student[\"total_marks\"] > greatest:\n",
        "      greatest = student[\"total_marks\"]\n",
        "      best_student = student\n",
        "  print(best_student)\n",
        "\n",
        "\n",
        "print(students)\n",
        "update_marks(\"Alice Johnson\",345)\n",
        "print(students)\n",
        "remove_student(\"Alice Johnson\")\n",
        "print(students)\n",
        "topper(students)"
      ],
      "metadata": {
        "id": "QMHXkS7B8Jkn",
        "outputId": "aeb277e5-52d1-4f50-f960-ee6a3a48023a",
        "colab": {
          "base_uri": "https://localhost:8080/"
        }
      },
      "id": "QMHXkS7B8Jkn",
      "execution_count": null,
      "outputs": [
        {
          "output_type": "stream",
          "name": "stdout",
          "text": [
            "[{'id': 'S001', 'name': 'Alice Johnson', 'total_marks': 343}, {'id': 'S002', 'name': 'Bob Williams', 'total_marks': 338}, {'id': 'S003', 'name': 'Charlie Brown', 'total_marks': 356}, {'id': 'S004', 'name': 'Diana Miller', 'total_marks': 278}, {'id': 'S005', 'name': 'Eva Davis', 'total_marks': 366}, {'id': 'S006', 'name': 'Frank White', 'total_marks': 326}, {'id': 'S007', 'name': 'Grace Wilson', 'total_marks': 338}, {'id': 'S008', 'name': 'Henry Taylor', 'total_marks': 364}, {'id': 'S009', 'name': 'Ivy Moore', 'total_marks': 285}, {'id': 'S010', 'name': 'Jack Harris', 'total_marks': 353}]\n",
            "[{'id': 'S001', 'name': 'Alice Johnson', 'total_marks': 345}, {'id': 'S002', 'name': 'Bob Williams', 'total_marks': 338}, {'id': 'S003', 'name': 'Charlie Brown', 'total_marks': 356}, {'id': 'S004', 'name': 'Diana Miller', 'total_marks': 278}, {'id': 'S005', 'name': 'Eva Davis', 'total_marks': 366}, {'id': 'S006', 'name': 'Frank White', 'total_marks': 326}, {'id': 'S007', 'name': 'Grace Wilson', 'total_marks': 338}, {'id': 'S008', 'name': 'Henry Taylor', 'total_marks': 364}, {'id': 'S009', 'name': 'Ivy Moore', 'total_marks': 285}, {'id': 'S010', 'name': 'Jack Harris', 'total_marks': 353}]\n",
            "[{'id': 'S002', 'name': 'Bob Williams', 'total_marks': 338}, {'id': 'S003', 'name': 'Charlie Brown', 'total_marks': 356}, {'id': 'S004', 'name': 'Diana Miller', 'total_marks': 278}, {'id': 'S005', 'name': 'Eva Davis', 'total_marks': 366}, {'id': 'S006', 'name': 'Frank White', 'total_marks': 326}, {'id': 'S007', 'name': 'Grace Wilson', 'total_marks': 338}, {'id': 'S008', 'name': 'Henry Taylor', 'total_marks': 364}, {'id': 'S009', 'name': 'Ivy Moore', 'total_marks': 285}, {'id': 'S010', 'name': 'Jack Harris', 'total_marks': 353}]\n",
            "{'id': 'S005', 'name': 'Eva Davis', 'total_marks': 366}\n"
          ]
        }
      ]
    },
    {
      "cell_type": "markdown",
      "source": [
        "## task 6"
      ],
      "metadata": {
        "id": "h6_I3sUvb6I-"
      },
      "id": "h6_I3sUvb6I-"
    },
    {
      "cell_type": "code",
      "source": [
        "countries = [\n",
        "    {\n",
        "        \"country\": \"China\",\n",
        "        \"population\": 1425671352\n",
        "    },\n",
        "    {\n",
        "        \"country\": \"India\",\n",
        "        \"population\": 1417173173\n",
        "    },\n",
        "    {\n",
        "        \"country\": \"Indonesia\",\n",
        "        \"population\": 275501339\n",
        "    },\n",
        "    {\n",
        "        \"country\": \"United States\",\n",
        "        \"population\": 333287557\n",
        "    },\n",
        "    {\n",
        "        \"country\": \"Pakistan\",\n",
        "        \"population\": 235824862\n",
        "    },\n",
        "    {\n",
        "        \"country\": \"Nigeria\",\n",
        "        \"population\": 218541212\n",
        "    },\n",
        "    {\n",
        "        \"country\": \"Brazil\",\n",
        "        \"population\": 215313498\n",
        "    },\n",
        "    {\n",
        "        \"country\": \"Bangladesh\",\n",
        "        \"population\": 171186372\n",
        "    },\n",
        "    {\n",
        "        \"country\": \"Russia\",\n",
        "        \"population\": 144713314\n",
        "    },\n",
        "    {\n",
        "        \"country\": \"Mexico\",\n",
        "        \"population\": 127504125\n",
        "    },\n",
        "    {\n",
        "        \"country\": \"Japan\",\n",
        "        \"population\": 123951692\n",
        "    },\n",
        "    {\n",
        "        \"country\": \"Philippines\",\n",
        "        \"population\": 115559009\n",
        "    },\n",
        "    {\n",
        "        \"country\": \"Ethiopia\",\n",
        "        \"population\": 123379924\n",
        "    },\n",
        "    {\n",
        "        \"country\": \"Egypt\",\n",
        "        \"population\": 110990103\n",
        "    },\n",
        "]\n",
        "\n",
        "# fetch the 3 largest population without sort\n",
        "# a new list of 3 for all the top countries\n",
        "# if the largest population is found move to the next the index in list\n",
        "# in this index find the largest population less than the prev index val\n",
        "\n",
        "pop_list = []\n",
        "\n",
        "print(countries)\n",
        "for i in range(3):\n",
        "  largest = 0\n",
        "  for country in countries:\n",
        "    if country[\"population\"]>largest:\n",
        "      largest = country[\"population\"]\n",
        "      greatest_country = country\n",
        "\n",
        "  if greatest_country:\n",
        "    pop_list.append(greatest_country)\n",
        "    countries.remove(greatest_country) # to prevent duplication\n",
        "\n",
        "print(\"###################\")\n",
        "print(pop_list)\n"
      ],
      "metadata": {
        "id": "ATTq8SiKHWbP",
        "outputId": "949fbcd7-f335-4680-e95b-b80b52f8f765",
        "colab": {
          "base_uri": "https://localhost:8080/"
        }
      },
      "id": "ATTq8SiKHWbP",
      "execution_count": 3,
      "outputs": [
        {
          "output_type": "stream",
          "name": "stdout",
          "text": [
            "[{'country': 'China', 'population': 1425671352}, {'country': 'India', 'population': 1417173173}, {'country': 'Indonesia', 'population': 275501339}, {'country': 'United States', 'population': 333287557}, {'country': 'Pakistan', 'population': 235824862}, {'country': 'Nigeria', 'population': 218541212}, {'country': 'Brazil', 'population': 215313498}, {'country': 'Bangladesh', 'population': 171186372}, {'country': 'Russia', 'population': 144713314}, {'country': 'Mexico', 'population': 127504125}, {'country': 'Japan', 'population': 123951692}, {'country': 'Philippines', 'population': 115559009}, {'country': 'Ethiopia', 'population': 123379924}, {'country': 'Egypt', 'population': 110990103}]\n",
            "###################\n",
            "[{'country': 'China', 'population': 1425671352}, {'country': 'India', 'population': 1417173173}, {'country': 'United States', 'population': 333287557}]\n"
          ]
        }
      ]
    }
  ],
  "metadata": {
    "language_info": {
      "name": "python"
    },
    "colab": {
      "provenance": []
    },
    "kernelspec": {
      "name": "python3",
      "display_name": "Python 3"
    }
  },
  "nbformat": 4,
  "nbformat_minor": 5
}