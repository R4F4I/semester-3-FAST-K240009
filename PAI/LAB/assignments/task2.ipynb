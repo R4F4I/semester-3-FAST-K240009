{
  "cells": [
    {
      "cell_type": "markdown",
      "metadata": {
        "id": "view-in-github",
        "colab_type": "text"
      },
      "source": [
        "<a href=\"https://colab.research.google.com/github/R4F4I/semester-3-FAST-K240009/blob/master/PAI/LAB/assignments/task2.ipynb\" target=\"_parent\"><img src=\"https://colab.research.google.com/assets/colab-badge.svg\" alt=\"Open In Colab\"/></a>"
      ]
    },
    {
      "cell_type": "markdown",
      "id": "1275fd7b",
      "metadata": {
        "id": "1275fd7b"
      },
      "source": [
        "# Tasks\n",
        "\n",
        "1. Create a program that checks whether a given string is a valid password:\n",
        "- At least 8 characters long\n",
        "- Contains both letters and digits\n",
        "- Contains at least one special character (@, #, $, %)\n",
        "\n",
        "2. Implement matrix addition and multiplication using nested lists.\n",
        "\n",
        "3. Given a list of student records stored as tuples (name, marks), write a\n",
        "program to:\n",
        "- Sort students by marks in descending order\n",
        "- Print the top 3 students\n",
        "4. Write a program that finds the pair of numbers in a tuple whose sum is closest\n",
        "to zero.\n",
        "5. Create a student management system where you can:\n",
        "- Add student name + marks in a dictionary\n",
        "- Update marks\n",
        "- Delete a student\n",
        "- Find the topper\n",
        "6. Given a dictionary of countries and their populations, write a program to find the\n",
        "top 3 most populated countries without using sorted()."
      ]
    },
    {
      "cell_type": "markdown",
      "id": "d3a43f94",
      "metadata": {
        "id": "d3a43f94"
      },
      "source": [
        "## task1"
      ]
    },
    {
      "cell_type": "code",
      "execution_count": null,
      "id": "d1c1a716",
      "metadata": {
        "vscode": {
          "languageId": "plaintext"
        },
        "id": "d1c1a716"
      },
      "outputs": [],
      "source": [
        "password = input(\"enter password: \")\n",
        "specialChars = '@#$%'\n",
        "letters = \"qwertyuiopasdfghjklzxcvbnmQWERTYUIOPASDFGHJKLZXCVBNM\"\n",
        "numbers = \"1234567890\"\n",
        "\n",
        "if len(password) < 8:\n",
        "  print(\"password must be at least 8 characters long\")\n",
        "else:\n",
        "  has_letter = False\n",
        "  has_digit = False\n",
        "  has_special = False\n",
        "  for char in password:\n",
        "    if char in specialChars:\n",
        "      has_special = True\n",
        "    if char in letters:\n",
        "      has_letter = True\n",
        "    if char in numbers:\n",
        "      has_digit = True\n",
        "  if has_special and has_digit and has_letter:\n",
        "    print(\"password is valid\")\n",
        "  else:\n",
        "    print(\"password is invalid\")"
      ]
    },
    {
      "cell_type": "markdown",
      "source": [
        "## task 2"
      ],
      "metadata": {
        "id": "L-Y1z_xYnfYb"
      },
      "id": "L-Y1z_xYnfYb"
    },
    {
      "cell_type": "code",
      "source": [
        "matrix1 = [\n",
        "    [1, 2, 3],\n",
        "    [4, 5, 6],\n",
        "    [7, 8, 9]\n",
        "]\n",
        "\n",
        "# mat[i][j] i refers to row, j refers to col\n",
        "\n",
        "matrix2 = [\n",
        "    [9, 8, 7],\n",
        "    [6, 5, 4],\n",
        "    [3, 2, 1]\n",
        "]\n",
        "\n",
        "# print(len(matrix1[0]))\n",
        "\n",
        "def mat_add(mat1, mat2):\n",
        "  result = []\n",
        "  for i in range(len(mat1[0])): # mat1's rows = a\n",
        "    row = []\n",
        "    for j in range(len(mat2)):  # mat2'2 col = c\n",
        "      row.append = mat1[j]+mat2[j]\n",
        "    result.append = row\n",
        "  return result\n",
        "\n",
        "# helpers\n",
        "# for i in range(len(matrix1)):\n",
        "#     for j in range(len(matrix1[0])):\n",
        "#       # print(\"i:\",i,\" j:\",j)\n",
        "#       print(matrix1[i][j])\n",
        "# print(\"then\")\n",
        "# for i in range(len(matrix2)):\n",
        "#     for j in range(len(matrix2[0])):\n",
        "#       # print(\"j:\",j,\" i:\",i)\n",
        "#       print(matrix2[j][i])\n",
        "\n",
        "\n",
        "#######################################################\n",
        "# MATRIX MULTIPLICATION\n",
        "# for 2 matrices axb and bxc the resultant is axc, hence the nested loop takes in the 2nd matrix's col\n",
        "# and the dot product being performaed is dependant on 1st matrix's col\n",
        "# in this loop, i is row=a, j is col=b for mat1\n",
        "\n",
        "def mat_mult(mat1, mat2):\n",
        "  result = [0]\n",
        "  for i in range(len(mat1[0])): # mat1's rows = a\n",
        "    for j in range(len(mat2)):  # mat2'2 col = c\n",
        "      for k in range(len(mat1)): # dot product calc, dependant on mat1's cols = b\n",
        "        result[i][j] += mat1[i][k]*mat2[k][i]\n",
        "\n",
        "  return result\n",
        "\n",
        "\n",
        "\n",
        "print(mat_add(matrix1, matrix2))\n",
        "# print (mat_mult(matrix1,matrix2))"
      ],
      "metadata": {
        "colab": {
          "base_uri": "https://localhost:8080/",
          "height": 315
        },
        "id": "1bPsS_o6ne-k",
        "outputId": "8a829276-e0f8-4cae-9765-825f70420810"
      },
      "id": "1bPsS_o6ne-k",
      "execution_count": 21,
      "outputs": [
        {
          "output_type": "error",
          "ename": "AttributeError",
          "evalue": "'list' object attribute 'append' is read-only",
          "traceback": [
            "\u001b[0;31m---------------------------------------------------------------------------\u001b[0m",
            "\u001b[0;31mAttributeError\u001b[0m                            Traceback (most recent call last)",
            "\u001b[0;32m/tmp/ipython-input-937394869.py\u001b[0m in \u001b[0;36m<cell line: 0>\u001b[0;34m()\u001b[0m\n\u001b[1;32m     53\u001b[0m \u001b[0;34m\u001b[0m\u001b[0m\n\u001b[1;32m     54\u001b[0m \u001b[0;34m\u001b[0m\u001b[0m\n\u001b[0;32m---> 55\u001b[0;31m \u001b[0mprint\u001b[0m\u001b[0;34m(\u001b[0m\u001b[0mmat_add\u001b[0m\u001b[0;34m(\u001b[0m\u001b[0mmatrix1\u001b[0m\u001b[0;34m,\u001b[0m \u001b[0mmatrix2\u001b[0m\u001b[0;34m)\u001b[0m\u001b[0;34m)\u001b[0m\u001b[0;34m\u001b[0m\u001b[0;34m\u001b[0m\u001b[0m\n\u001b[0m\u001b[1;32m     56\u001b[0m \u001b[0;31m# print (mat_mult(matrix1,matrix2))\u001b[0m\u001b[0;34m\u001b[0m\u001b[0;34m\u001b[0m\u001b[0m\n",
            "\u001b[0;32m/tmp/ipython-input-937394869.py\u001b[0m in \u001b[0;36mmat_add\u001b[0;34m(mat1, mat2)\u001b[0m\n\u001b[1;32m     20\u001b[0m     \u001b[0mrow\u001b[0m \u001b[0;34m=\u001b[0m \u001b[0;34m[\u001b[0m\u001b[0;34m]\u001b[0m\u001b[0;34m\u001b[0m\u001b[0;34m\u001b[0m\u001b[0m\n\u001b[1;32m     21\u001b[0m     \u001b[0;32mfor\u001b[0m \u001b[0mj\u001b[0m \u001b[0;32min\u001b[0m \u001b[0mrange\u001b[0m\u001b[0;34m(\u001b[0m\u001b[0mlen\u001b[0m\u001b[0;34m(\u001b[0m\u001b[0mmat2\u001b[0m\u001b[0;34m)\u001b[0m\u001b[0;34m)\u001b[0m\u001b[0;34m:\u001b[0m  \u001b[0;31m# mat2'2 col = c\u001b[0m\u001b[0;34m\u001b[0m\u001b[0;34m\u001b[0m\u001b[0m\n\u001b[0;32m---> 22\u001b[0;31m       \u001b[0mrow\u001b[0m\u001b[0;34m.\u001b[0m\u001b[0mappend\u001b[0m \u001b[0;34m=\u001b[0m \u001b[0mmat1\u001b[0m\u001b[0;34m[\u001b[0m\u001b[0mj\u001b[0m\u001b[0;34m]\u001b[0m\u001b[0;34m+\u001b[0m\u001b[0mmat2\u001b[0m\u001b[0;34m[\u001b[0m\u001b[0mj\u001b[0m\u001b[0;34m]\u001b[0m\u001b[0;34m\u001b[0m\u001b[0;34m\u001b[0m\u001b[0m\n\u001b[0m\u001b[1;32m     23\u001b[0m     \u001b[0mresult\u001b[0m\u001b[0;34m.\u001b[0m\u001b[0mappend\u001b[0m \u001b[0;34m=\u001b[0m \u001b[0mrow\u001b[0m\u001b[0;34m\u001b[0m\u001b[0;34m\u001b[0m\u001b[0m\n\u001b[1;32m     24\u001b[0m   \u001b[0;32mreturn\u001b[0m \u001b[0mresult\u001b[0m\u001b[0;34m\u001b[0m\u001b[0;34m\u001b[0m\u001b[0m\n",
            "\u001b[0;31mAttributeError\u001b[0m: 'list' object attribute 'append' is read-only"
          ]
        }
      ]
    },
    {
      "cell_type": "markdown",
      "id": "abda6442",
      "metadata": {
        "id": "abda6442"
      },
      "source": [
        "## task 3"
      ]
    },
    {
      "cell_type": "code",
      "execution_count": null,
      "id": "2584986a",
      "metadata": {
        "vscode": {
          "languageId": "plaintext"
        },
        "id": "2584986a"
      },
      "outputs": [],
      "source": [
        "records = (\n",
        "    ('a', 60),\n",
        "    ('b', 90),\n",
        "    ('c', 85),\n",
        "    ('d', 23),\n",
        "    ('e', 45),\n",
        "    ('f', 143),\n",
        "    ('g', 13),\n",
        "    ('h', 113),\n",
        ")\n",
        "\n",
        "myList = list(records)\n",
        "myList.sort(reverse=True)\n",
        "#records=tuple(myList)\n",
        "\n",
        "for i in range(3):\n",
        "  print(myList[i])\n",
        "\n",
        "\n"
      ]
    },
    {
      "cell_type": "markdown",
      "source": [
        "## task 4"
      ],
      "metadata": {
        "id": "rLBy1rjFbsCC"
      },
      "id": "rLBy1rjFbsCC"
    },
    {
      "cell_type": "code",
      "source": [
        "tuple = (\n",
        "    (4,3),\n",
        "    (1,2),\n",
        "    (3,4),\n",
        "    (5,6),\n",
        "    (7,8),\n",
        ")\n",
        "\n",
        "# tuple with least sum\n",
        "least = 999999\n",
        "for list in tuple:\n",
        "  sum = list[0] + list[1]\n",
        "\n",
        "  if sum < least:\n",
        "    least = sum\n",
        "    pair = list\n",
        "\n",
        "# final smallest pair will be printed\n",
        "\n",
        "print(pair)\n",
        "\n"
      ],
      "metadata": {
        "id": "d1xSJ2Twbt_C"
      },
      "id": "d1xSJ2Twbt_C",
      "execution_count": null,
      "outputs": []
    },
    {
      "cell_type": "markdown",
      "source": [
        "## task 6"
      ],
      "metadata": {
        "id": "h6_I3sUvb6I-"
      },
      "id": "h6_I3sUvb6I-"
    },
    {
      "cell_type": "code",
      "source": [],
      "metadata": {
        "id": "YFLVhH5eb4np"
      },
      "id": "YFLVhH5eb4np",
      "execution_count": null,
      "outputs": []
    }
  ],
  "metadata": {
    "language_info": {
      "name": "python"
    },
    "colab": {
      "provenance": [],
      "include_colab_link": true
    },
    "kernelspec": {
      "name": "python3",
      "display_name": "Python 3"
    }
  },
  "nbformat": 4,
  "nbformat_minor": 5
}