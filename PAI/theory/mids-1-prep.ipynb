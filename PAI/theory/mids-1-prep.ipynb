{
  "cells": [
    {
      "cell_type": "markdown",
      "id": "f033557f",
      "metadata": {
        "id": "f033557f"
      },
      "source": [
        "## Data Structures:\n",
        "\n",
        "- Lists\n",
        "- List of Lists\n",
        "- Dictionaries\n",
        "- Dictionaries inside a Dictionary\n",
        "- Tuples\n",
        "\n",
        "## Functions, Loops, and Decision-Making Structures\n",
        "\n",
        "- for Loop\n",
        "- while Loop\n",
        "- Nested Loops\n",
        "- if-else and nested if-else\n",
        "- User-defined Functions\n",
        "- Python Standard Functions\n",
        "\n",
        "## Object-Oriented Programming (OOP)"
      ]
    },
    {
      "cell_type": "code",
      "source": [
        "# Lists\n",
        "my_list = [1, 2, 3, 4, 5]\n",
        "print(\"List:\", my_list)\n",
        "\n",
        "# List of Lists\n",
        "list_of_lists = [[1, 2], [3, 4], [5, 6]]\n",
        "print(\"List of Lists:\", list_of_lists)\n",
        "\n",
        "# Dictionaries\n",
        "my_dict = {\"apple\": 1, \"banana\": 2, \"cherry\": 3}\n",
        "print(\"Dictionary:\", my_dict)\n",
        "\n",
        "# Dictionaries inside a Dictionary\n",
        "nested_dict = {\"dict1\": {\"a\": 1, \"b\": 2}, \"dict2\": {\"c\": 3, \"d\": 4}}\n",
        "print(\"Nested Dictionary:\", nested_dict)\n",
        "\n",
        "# Tuples\n",
        "my_tuple = (10, 20, 30)\n",
        "print(\"Tuple:\", my_tuple)"
      ],
      "metadata": {
        "colab": {
          "base_uri": "https://localhost:8080/"
        },
        "id": "Qh_uhV16nqVt",
        "outputId": "9f7033a9-4c5e-46b5-e22e-2126486f5430"
      },
      "id": "Qh_uhV16nqVt",
      "execution_count": 1,
      "outputs": [
        {
          "output_type": "stream",
          "name": "stdout",
          "text": [
            "List: [1, 2, 3, 4, 5]\n",
            "List of Lists: [[1, 2], [3, 4], [5, 6]]\n",
            "Dictionary: {'apple': 1, 'banana': 2, 'cherry': 3}\n",
            "Nested Dictionary: {'dict1': {'a': 1, 'b': 2}, 'dict2': {'c': 3, 'd': 4}}\n",
            "Tuple: (10, 20, 30)\n"
          ]
        }
      ]
    },
    {
      "cell_type": "code",
      "source": [
        "# for Loop\n",
        "print(\"for loop:\")\n",
        "for i in range(5):\n",
        "    print(i)\n",
        "print(\"Unique property: Iterates over a sequence.\")\n",
        "\n",
        "# while Loop\n",
        "print(\"\\nwhile loop:\")\n",
        "count = 0\n",
        "while count < 5:\n",
        "    print(count)\n",
        "    count += 1\n",
        "print(\"Unique property: Repeats as long as a condition is true.\")\n",
        "\n",
        "# Nested Loops\n",
        "print(\"\\nNested loops:\")\n",
        "for i in range(2):\n",
        "    for j in range(3):\n",
        "        print(f\"i={i}, j={j}\")\n",
        "print(\"Unique property: Inner loop completes all its iterations for each iteration of the outer loop.\")\n",
        "\n",
        "# if-else and nested if-else\n",
        "print(\"\\nif-else and nested if-else:\")\n",
        "x = 10\n",
        "if x > 5:\n",
        "    print(\"x is greater than 5\")\n",
        "    if x < 15:\n",
        "        print(\"x is also less than 15\")\n",
        "else:\n",
        "    print(\"x is not greater than 5\")\n",
        "print(\"Unique property: Executes different blocks of code based on conditions.\")\n",
        "\n",
        "# User-defined Functions\n",
        "print(\"\\nUser-defined function:\")\n",
        "def greet(name):\n",
        "    return f\"Hello, {name}!\"\n",
        "print(greet(\"Alice\"))\n",
        "print(\"Unique property: Reusable blocks of code that perform a specific task.\")\n",
        "\n",
        "# Python Standard Functions\n",
        "print(\"\\nPython Standard Functions:\")\n",
        "print(len(\"hello\"))\n",
        "print(max(1, 5, 2))\n",
        "print(\"Unique property: Built-in functions provided by Python for common tasks.\")"
      ],
      "metadata": {
        "colab": {
          "base_uri": "https://localhost:8080/"
        },
        "id": "vbGGuO8uoaUU",
        "outputId": "66e4ff16-b934-4044-a9df-fb63b678d8ea"
      },
      "id": "vbGGuO8uoaUU",
      "execution_count": 2,
      "outputs": [
        {
          "output_type": "stream",
          "name": "stdout",
          "text": [
            "for loop:\n",
            "0\n",
            "1\n",
            "2\n",
            "3\n",
            "4\n",
            "Unique property: Iterates over a sequence.\n",
            "\n",
            "while loop:\n",
            "0\n",
            "1\n",
            "2\n",
            "3\n",
            "4\n",
            "Unique property: Repeats as long as a condition is true.\n",
            "\n",
            "Nested loops:\n",
            "i=0, j=0\n",
            "i=0, j=1\n",
            "i=0, j=2\n",
            "i=1, j=0\n",
            "i=1, j=1\n",
            "i=1, j=2\n",
            "Unique property: Inner loop completes all its iterations for each iteration of the outer loop.\n",
            "\n",
            "if-else and nested if-else:\n",
            "x is greater than 5\n",
            "x is also less than 15\n",
            "Unique property: Executes different blocks of code based on conditions.\n",
            "\n",
            "User-defined function:\n",
            "Hello, Alice!\n",
            "Unique property: Reusable blocks of code that perform a specific task.\n",
            "\n",
            "Python Standard Functions:\n",
            "5\n",
            "5\n",
            "Unique property: Built-in functions provided by Python for common tasks.\n"
          ]
        }
      ]
    }
  ],
  "metadata": {
    "language_info": {
      "name": "python"
    },
    "colab": {
      "provenance": []
    },
    "kernelspec": {
      "name": "python3",
      "display_name": "Python 3"
    }
  },
  "nbformat": 4,
  "nbformat_minor": 5
}