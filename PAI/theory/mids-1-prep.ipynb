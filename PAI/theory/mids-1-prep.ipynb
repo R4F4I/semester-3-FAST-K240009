{
  "cells": [
    {
      "cell_type": "markdown",
      "id": "f033557f",
      "metadata": {
        "id": "f033557f"
      },
      "source": [
        "## Data Structures:\n",
        "\n",
        "- Lists\n",
        "- List of Lists\n",
        "- Dictionaries\n",
        "- Dictionaries inside a Dictionary\n",
        "- Tuples\n",
        "\n",
        "## Functions, Loops, and Decision-Making Structures\n",
        "\n",
        "- for Loop\n",
        "- while Loop\n",
        "- Nested Loops\n",
        "- if-else and nested if-else\n",
        "- User-defined Functions\n",
        "- Python Standard Functions\n",
        "\n",
        "## Object-Oriented Programming (OOP)"
      ]
    },
    {
      "cell_type": "code",
      "source": [
        "# Lists\n",
        "my_list = [1, 2, 3, 4, 5]\n",
        "print(\"List:\", my_list)\n",
        "\n",
        "# List of Lists\n",
        "list_of_lists = [[1, 2], [3, 4], [5, 6]]\n",
        "print(\"List of Lists:\", list_of_lists)\n",
        "\n",
        "# Dictionaries\n",
        "my_dict = {\"apple\": 1, \"banana\": 2, \"cherry\": 3}\n",
        "print(\"Dictionary:\", my_dict)\n",
        "\n",
        "# Dictionaries inside a Dictionary\n",
        "nested_dict = {\"dict1\": {\"a\": 1, \"b\": 2}, \"dict2\": {\"c\": 3, \"d\": 4}}\n",
        "print(\"Nested Dictionary:\", nested_dict)\n",
        "\n",
        "# Tuples\n",
        "my_tuple = (10, 20, 30)\n",
        "print(\"Tuple:\", my_tuple)"
      ],
      "metadata": {
        "colab": {
          "base_uri": "https://localhost:8080/"
        },
        "id": "Qh_uhV16nqVt",
        "outputId": "9f7033a9-4c5e-46b5-e22e-2126486f5430"
      },
      "id": "Qh_uhV16nqVt",
      "execution_count": 1,
      "outputs": [
        {
          "output_type": "stream",
          "name": "stdout",
          "text": [
            "List: [1, 2, 3, 4, 5]\n",
            "List of Lists: [[1, 2], [3, 4], [5, 6]]\n",
            "Dictionary: {'apple': 1, 'banana': 2, 'cherry': 3}\n",
            "Nested Dictionary: {'dict1': {'a': 1, 'b': 2}, 'dict2': {'c': 3, 'd': 4}}\n",
            "Tuple: (10, 20, 30)\n"
          ]
        }
      ]
    },
    {
      "cell_type": "code",
      "source": [
        "# for Loop\n",
        "print(\"for loop:\")\n",
        "for i in range(5):\n",
        "    print(i)\n",
        "print(\"Unique property: Iterates over a sequence.\")\n",
        "\n",
        "# while Loop\n",
        "print(\"\\nwhile loop:\")\n",
        "count = 0\n",
        "while count < 5:\n",
        "    print(count)\n",
        "    count += 1\n",
        "print(\"Unique property: Repeats as long as a condition is true.\")\n",
        "\n",
        "# Nested Loops\n",
        "print(\"\\nNested loops:\")\n",
        "for i in range(2):\n",
        "    for j in range(3):\n",
        "        print(f\"i={i}, j={j}\")\n",
        "print(\"Unique property: Inner loop completes all its iterations for each iteration of the outer loop.\")\n",
        "\n",
        "# if-else and nested if-else\n",
        "print(\"\\nif-else and nested if-else:\")\n",
        "x = 10\n",
        "if x > 5:\n",
        "    print(\"x is greater than 5\")\n",
        "    if x < 15:\n",
        "        print(\"x is also less than 15\")\n",
        "else:\n",
        "    print(\"x is not greater than 5\")\n",
        "print(\"Unique property: Executes different blocks of code based on conditions.\")\n",
        "\n",
        "# User-defined Functions\n",
        "print(\"\\nUser-defined function:\")\n",
        "def greet(name):\n",
        "    return f\"Hello, {name}!\"\n",
        "print(greet(\"Alice\"))\n",
        "print(\"Unique property: Reusable blocks of code that perform a specific task.\")\n",
        "\n",
        "# Python Standard Functions\n",
        "print(\"\\nPython Standard Functions:\")\n",
        "print(len(\"hello\"))\n",
        "print(max(1, 5, 2))\n",
        "print(\"Unique property: Built-in functions provided by Python for common tasks.\")"
      ],
      "metadata": {
        "colab": {
          "base_uri": "https://localhost:8080/"
        },
        "id": "vbGGuO8uoaUU",
        "outputId": "66e4ff16-b934-4044-a9df-fb63b678d8ea"
      },
      "id": "vbGGuO8uoaUU",
      "execution_count": 2,
      "outputs": [
        {
          "output_type": "stream",
          "name": "stdout",
          "text": [
            "for loop:\n",
            "0\n",
            "1\n",
            "2\n",
            "3\n",
            "4\n",
            "Unique property: Iterates over a sequence.\n",
            "\n",
            "while loop:\n",
            "0\n",
            "1\n",
            "2\n",
            "3\n",
            "4\n",
            "Unique property: Repeats as long as a condition is true.\n",
            "\n",
            "Nested loops:\n",
            "i=0, j=0\n",
            "i=0, j=1\n",
            "i=0, j=2\n",
            "i=1, j=0\n",
            "i=1, j=1\n",
            "i=1, j=2\n",
            "Unique property: Inner loop completes all its iterations for each iteration of the outer loop.\n",
            "\n",
            "if-else and nested if-else:\n",
            "x is greater than 5\n",
            "x is also less than 15\n",
            "Unique property: Executes different blocks of code based on conditions.\n",
            "\n",
            "User-defined function:\n",
            "Hello, Alice!\n",
            "Unique property: Reusable blocks of code that perform a specific task.\n",
            "\n",
            "Python Standard Functions:\n",
            "5\n",
            "5\n",
            "Unique property: Built-in functions provided by Python for common tasks.\n"
          ]
        }
      ]
    },
    {
      "cell_type": "code",
      "source": [
        "# More Python Standard Functions\n",
        "print(\"\\nMore Python Standard Functions:\")\n",
        "print(sum([1, 2, 3, 4, 5]))\n",
        "print(sorted([3, 1, 4, 1, 5, 9, 2]))\n",
        "print(abs(-10))"
      ],
      "metadata": {
        "id": "AtFPb2-vCu92"
      },
      "id": "AtFPb2-vCu92",
      "execution_count": null,
      "outputs": []
    },
    {
      "cell_type": "markdown",
      "source": [
        "## OOP"
      ],
      "metadata": {
        "id": "ZoXys9RaDCHU"
      },
      "id": "ZoXys9RaDCHU"
    },
    {
      "cell_type": "code",
      "source": [
        "# Encapsulation\n",
        "class EncapsulationExample:\n",
        "    def __init__(self):\n",
        "        self.__private_variable = 10\n",
        "\n",
        "    def get_private_variable(self):\n",
        "        return self.__private_variable\n",
        "\n",
        "obj = EncapsulationExample()\n",
        "# This would cause an error: print(obj.__private_variable)\n",
        "print(\"Encapsulation: Accessing private variable through a method:\", obj.get_private_variable())\n",
        "\n",
        "\n",
        "# Abstraction\n",
        "from abc import ABC, abstractmethod\n",
        "\n",
        "class AbstractShape(ABC):\n",
        "    @abstractmethod\n",
        "    def area(self):\n",
        "        pass\n",
        "\n",
        "class Circle(AbstractShape):\n",
        "    def __init__(self, radius):\n",
        "        self.radius = radius\n",
        "\n",
        "    def area(self):\n",
        "        return 3.14 * self.radius * self.radius\n",
        "\n",
        "# This would cause an error: abstract_shape = AbstractShape()\n",
        "circle = Circle(5)\n",
        "print(\"\\nAbstraction: Calculating area of a circle:\", circle.area())\n",
        "\n",
        "\n",
        "# Inheritance\n",
        "class Animal:\n",
        "    def speak(self):\n",
        "        print(\"Animal speaks\")\n",
        "\n",
        "class Dog(Animal):\n",
        "    def speak(self):\n",
        "        print(\"Dog barks\")\n",
        "\n",
        "animal = Animal()\n",
        "dog = Dog()\n",
        "\n",
        "print(\"\\nInheritance:\")\n",
        "animal.speak()\n",
        "dog.speak()\n",
        "\n",
        "\n",
        "# Polymorphism\n",
        "class Cat:\n",
        "    def speak(self):\n",
        "        print(\"Cat meows\")\n",
        "\n",
        "def animal_sound(animal):\n",
        "    animal.speak()\n",
        "\n",
        "print(\"\\nPolymorphism:\")\n",
        "animal_sound(dog)\n",
        "animal_sound(Cat())"
      ],
      "metadata": {
        "colab": {
          "base_uri": "https://localhost:8080/"
        },
        "id": "6XRLkWFuC5qC",
        "outputId": "41f73086-d5ec-420d-dcfd-9245f99cb8d9"
      },
      "id": "6XRLkWFuC5qC",
      "execution_count": 3,
      "outputs": [
        {
          "output_type": "stream",
          "name": "stdout",
          "text": [
            "Encapsulation: Accessing private variable through a method: 10\n",
            "\n",
            "Abstraction: Calculating area of a circle: 78.5\n",
            "\n",
            "Inheritance:\n",
            "Animal speaks\n",
            "Dog barks\n",
            "\n",
            "Polymorphism:\n",
            "Dog barks\n",
            "Cat meows\n"
          ]
        }
      ]
    }
  ],
  "metadata": {
    "language_info": {
      "name": "python"
    },
    "colab": {
      "provenance": []
    },
    "kernelspec": {
      "name": "python3",
      "display_name": "Python 3"
    }
  },
  "nbformat": 4,
  "nbformat_minor": 5
}