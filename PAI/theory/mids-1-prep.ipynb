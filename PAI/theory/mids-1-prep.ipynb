{
 "cells": [
  {
   "cell_type": "markdown",
   "id": "f033557f",
   "metadata": {},
   "source": [
    "## Data Structures:\n",
    "\n",
    "- Lists\n",
    "- List of Lists\n",
    "- Dictionaries\n",
    "- Dictionaries inside a Dictionary\n",
    "- Tuples\n",
    "\n",
    "## Functions, Loops, and Decision-Making Structures\n",
    "\n",
    "- for Loop\n",
    "- while Loop\n",
    "- Nested Loops\n",
    "- if-else and nested if-else\n",
    "- User-defined Functions\n",
    "- Python Standard Functions\n",
    "\n",
    "## Object-Oriented Programming (OOP)"
   ]
  }
 ],
 "metadata": {
  "language_info": {
   "name": "python"
  }
 },
 "nbformat": 4,
 "nbformat_minor": 5
}
