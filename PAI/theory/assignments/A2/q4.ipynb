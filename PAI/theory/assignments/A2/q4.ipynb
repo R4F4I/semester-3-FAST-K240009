{
 "cells": [
  {
   "cell_type": "markdown",
   "id": "1174a8cc",
   "metadata": {},
   "source": [
    "## 📊 Question 04: Titanic Hypothesis Testing with Pandas\n",
    "\n",
    "**Goal:** Test two hypotheses about the Titanic disaster using the cleaned data and Pandas grouping and merging capabilities.\n",
    "**Topics:** Pandas Merging, Grouping (`groupby` or `pivot_table`), Binning (`pd.cut`, `pd.qcut`), Hypothesis Conclusion.\n",
    "\n",
    "### Hypotheses to Test:\n",
    "1.  \"Women and children first.\"\n",
    "2.  \"The wealthy had a higher survival rate.\"\n",
    "\n",
    "### Your Task (using `titanic_cleaned.csv`):\n",
    "\n",
    "1.  **Load Data:** Load both **`titanic_cleaned.csv`** and **`ticket_fares.csv`** into two separate DataFrames.\n",
    "2.  **Merge Data:** Perform a **merge operation** to combine the two DataFrames, using the **`'Ticket'` column as the common key**.\n",
    "3.  **Test Hypothesis 1 (Women and Children):**\n",
    "    * Create a new categorical column **`AgeGroup`**. **Bin the `'Age'` column** into logical groups: `['Child', 'Teen', 'Adult', 'Senior']`. (You decide the age brackets, e.g., 0-12, 13-19, 20-59, 60+).\n",
    "    * Use `groupby()` or a `pivot_table` to calculate the **mean survival rate (`Survived` column)** broken down by both **`'Sex'` and `'AgeGroup'`**.\n",
    "    * Write a **one-paragraph conclusion** to a **`report.txt`** file: does the data support the \"women and children first\" hypothesis? Justify with your numbers.\n",
    "4.  **Test Hypothesis 2 (Wealth):**\n",
    "    * **Method A (Class):** Calculate the **mean survival rate grouped by `'Pclass'`** (1st, 2nd, 3rd).\n",
    "    * **Method B (Fare):** Bin the `'Fare'` column into **4 equal-sized quantile groups** (e.g., 'Low', 'Medium', 'High', 'VeryHigh') using **`pd.qcut()`**. Name this new column **`FareBin`**.\n",
    "    * Calculate the **mean survival rate grouped by your new `FareBin` column**.\n",
    "    * Append a **second paragraph** to `report.txt`: does the data support the \"wealth\" hypothesis? Compare the results from Method A and Method B."
   ]
  }
 ],
 "metadata": {
  "language_info": {
   "name": "python"
  }
 },
 "nbformat": 4,
 "nbformat_minor": 5
}
