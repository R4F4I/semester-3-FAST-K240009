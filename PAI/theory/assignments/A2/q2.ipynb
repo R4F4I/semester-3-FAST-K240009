{
 "cells": [
  {
   "cell_type": "markdown",
   "id": "99111728",
   "metadata": {},
   "source": [
    "## 🌾 Question 02: NumPy Data Cleaning and Normalization\n",
    "\n",
    "**Goal:** Clean and normalize a large, messy CSV file of soil moisture sensor readings using the high-performance capabilities of NumPy.\n",
    "**Topics:** File I/O, NumPy Arrays, Vectorized Operations, Boolean Indexing, Axis Operations, Broadcasting, Min-Max Normalization.\n",
    "\n",
    "### Data Overview\n",
    "* The `sensor_data.csv` file has **100 columns** (one per sensor) and **720 rows** (one per hour).\n",
    "* The data contains missing values (`\"-999\"`), impossible values (negative or greater than 100), and is stored as strings.\n",
    "\n",
    "### Your Task:\n",
    "\n",
    "1.  **Load Data:** Use **standard Python file I/O** (no Pandas) to read `sensor_data.csv` line-by-line, split the commas, and load it into a Python list of lists.\n",
    "2.  **NumPy Conversion:** Convert this nested list into a **2D NumPy array**.\n",
    "3.  **Data Cleaning (Vectorized):** Use NumPy's vectorized operations (no for loops) to:\n",
    "    * Replace all occurrences of `\"-999\"` with **`np.nan`**.\n",
    "    * Use **Boolean indexing** to find and replace all values **less than 0** and all values **greater than 100** with **`np.nan`**.\n",
    "4.  **Data Analysis (Axis Operations):**\n",
    "    * Calculate the **average (mean) moisture** for each sensor (**column-wise**), **ignoring `np.nan` values**.\n",
    "    * Calculate the **median moisture** for each hour (**row-wise**), **ignoring `np.nan` values**.\n",
    "    * Identify the sensor (**column index**) with the **highest number of invalid readings** (the `np.nan` values you just set).\n",
    "5.  **Normalization (Broadcasting):**\n",
    "    * Find the minimum ($X_{min}$) and maximum ($X_{max}$) valid reading across the **entire dataset**.\n",
    "    * Use **NumPy broadcasting** to perform **Min-Max Normalization** on the entire array, scaling all data to be between 0 and 1. The formula is:\n",
    "        $$X_{norm}=\\frac{X-X_{min}}{X_{max}-X_{min}}$$\n",
    "6.  **Save Output:** Write the final, cleaned, and normalized NumPy array to a new CSV file named **`sensor_data_normalized.csv`**."
   ]
  }
 ],
 "metadata": {
  "language_info": {
   "name": "python"
  }
 },
 "nbformat": 4,
 "nbformat_minor": 5
}
