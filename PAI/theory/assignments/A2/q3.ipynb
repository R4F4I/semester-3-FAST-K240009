{
 "cells": [
  {
   "cell_type": "markdown",
   "id": "4ada7a10",
   "metadata": {},
   "source": [
    "\n",
    "## 🚢 Question 03: Pandas Data Cleaning and Feature Engineering\n",
    "\n",
    "**Goal:** Clean and transform the Titanic dataset (`Titanic-Dataset.csv`) using Pandas, handling missing values and creating new features.\n",
    "**Topics:** Pandas DataFrame operations, Missing Data Imputation (`fillna`), Grouping, Feature Engineering.\n",
    "\n",
    "### Your Task:\n",
    "\n",
    "1.  **Load and Inspect:**\n",
    "    * Load `Titanic-Dataset.csv` into a DataFrame.\n",
    "    * Programmatically generate a report that lists **each column**, its **data type** (e.g., `int64`, `object`), and the **percentage of missing (null) values**.\n",
    "2.  **Handle Missing Data (Imputation):**\n",
    "    * **'Age'**: Fill the missing `'Age'` values using the **median age** of passengers in the **same 'Pclass' (Passenger Class) and 'Sex' group**.\n",
    "    * **'Embarked'**: Fill the two missing values with the **mode** (most common value) of the `'Embarked'` column.\n",
    "    * **'Cabin'**: This column is missing over 70% of its data. **Drop the entire 'Cabin' column** from the DataFrame.\n",
    "3.  **Feature Engineering:**\n",
    "    * Create a new column **`FamilySize`** by adding the `'SibSp'` (siblings/spouses) and `'Parch'` (parents/children) columns together.\n",
    "    * Create a second new column **`IsAlone`** that contains a 1 if `FamilySize` is 0, and a 0 otherwise.\n",
    "4.  **Type Conversion:** Convert the `'Age'` column to an **integer type (`int64`)**.\n",
    "5.  **Save Clean Data:** Save your cleaned, imputed, and feature-engineered DataFrame to a new file, **`titanic_cleaned.csv`**."
   ]
  }
 ],
 "metadata": {
  "language_info": {
   "name": "python"
  }
 },
 "nbformat": 4,
 "nbformat_minor": 5
}
