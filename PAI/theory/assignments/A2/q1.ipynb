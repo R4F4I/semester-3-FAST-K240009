{
  "cells": [
    {
      "cell_type": "markdown",
      "id": "d9739e2f",
      "metadata": {
        "id": "d9739e2f"
      },
      "source": [
        "## 🏏 Question 01: Robust Cricket API Tool\n",
        "\n",
        "**Goal:** Build a robust, command-line tool to fetch and display a summary of live cricket matches from the `cricketdata.org` API.\n",
        "**Topics:** File I/O, Error Handling (`try...except`), API Consumption (`requests`, `json`), Data Parsing, Dictionary/List operations.\n",
        "\n",
        "### Technical Specifications:\n",
        "\n",
        "1.  **Configurable Endpoint:** The script must **read the API URL from a local text file named `api.txt`**; it cannot hardcode the URL.\n",
        "2.  **Robust Error Handling:** Use `try...except` blocks to handle:\n",
        "    * **Network Errors:** Gracefully handle `requests.exceptions.RequestException` (e.g., no internet) and print a user-friendly error.\n",
        "    * **HTTP Errors:** If the API returns a non-200 status code (e.g., 401, 404), the script must print the error `status_code` and the raw `response.text` for debugging.\n",
        "3.  **API Status First:** The script must first parse the JSON and print a summary of the API's own status metadata.\n",
        "    * Print **all top-level keys** except for the `'data'` key (too large) and the `'apikey'` key (for security).\n",
        "4.  **Graceful API Failures:**\n",
        "    * Check that the JSON's `\"status\"` key is `\"success\"` and that a `\"data\"` key exists and is not empty.\n",
        "    * If the status is not `\"success\"`, print the error message provided in the API's **`\"reason\"`** key.\n",
        "5.  **Formatted Match Display:** If all checks pass, loop through the list of matches in the `\"data\"` key and print a clearly formatted summary showing the:\n",
        "    * Match Name (`name`)\n",
        "    * Match Status (`status`)\n",
        "    * Venue (`venue`)\n",
        "    * Date (`date`)\n",
        "6.  **Nested Score Details:** Inside the match loop, check if a `'score'` key exists and contains data. If it does, loop through the nested list of scores and print the details for each inning:\n",
        "    * Inning (`inning`)\n",
        "    * Runs (`r`)\n",
        "    * Wickets (`w`)\n",
        "    * Overs (`o`)\n",
        "\n",
        "Your final output should be a clean, readable report printed directly to the console.\n"
      ]
    },
    {
      "cell_type": "code",
      "source": [
        "import requests, json\n",
        "\n",
        "try:\n",
        "  with open('api.txt','r') as obj:\n",
        "    api_url = obj.read()\n",
        "\n",
        "\n",
        "\n",
        "  response = requests.get(api_url)\n",
        "  response.raise_for_status()\n",
        "\n",
        "  # metaStatus = response.\n",
        "\n",
        "  json = response.json()\n",
        "\n",
        "  dataList = json['data']\n",
        "\n",
        "  # print(type(json))\n",
        "  # print(metaData)\n",
        "\n",
        "  # print(type(dataList[2]))\n",
        "\n",
        "\n",
        "  #  API STATUS\n",
        "\n",
        "  metaData = json.items()\n",
        "  for key, value in metaData:\n",
        "    if key not in ['apikey','data']:\n",
        "      print(f\"{key}: {value}\")\n",
        "\n",
        "  #  API STATUS\n",
        "\n",
        "  matches = []\n",
        "\n",
        "  for data in dataList:\n",
        "    tempDict = {}\n",
        "    tempDict['name'] = data['name']\n",
        "    tempDict['status'] = data['status']\n",
        "    tempDict['venue'] = data['venue']\n",
        "    tempDict['date'] = data['date']\n",
        "\n",
        "\n",
        "    matches.append(tempDict)\n",
        "\n",
        "\n",
        "  with open('matches.json','w') as obj:\n",
        "    obj.write(str(matches))\n",
        "\n",
        "  with open('rawData.json','w') as obj:\n",
        "    obj.write(str(dataList))\n",
        "\n",
        "\n",
        "\n",
        "except Exception as e:\n",
        "  with open('response.txt','w') as obj:\n",
        "    obj.write(str(response))\n",
        "  print(e)\n",
        "\n"
      ],
      "metadata": {
        "id": "C7gx9zTOTSWV",
        "outputId": "c0eef2fc-ed66-4e2d-fd89-8e590b7075bd",
        "colab": {
          "base_uri": "https://localhost:8080/"
        }
      },
      "id": "C7gx9zTOTSWV",
      "execution_count": 50,
      "outputs": [
        {
          "output_type": "stream",
          "name": "stdout",
          "text": [
            "'data'\n"
          ]
        }
      ]
    },
    {
      "cell_type": "code",
      "source": [
        "import pandas as pd\n",
        "\n",
        "# Creating a DataFrame\n",
        "data = {\n",
        "    'City': ['London', 'Paris', 'Tokyo'],\n",
        "    'Population': [8982000, 2141000, 13960000]\n",
        "  }\n",
        "df = pd.DataFrame(data)\n",
        "\n",
        "print(df) #\n",
        "# Basic Operations\n",
        "print(df.head(1)) # First row\n",
        "print(df['City']) # Access a Series (column)\n",
        "\n",
        "# Filtering/Selection\n",
        "large_cities = df[df['Population'] > 5000000]\n",
        "print(large_cities)\n",
        "\n",
        "print(df.describe())\n",
        "\n",
        "# Grouping\n",
        "# df.groupby('City')['Population'].sum()"
      ],
      "metadata": {
        "id": "rVskjTvMuQwi",
        "outputId": "f2b8bd81-362a-4035-c817-93ea62f23fc7",
        "colab": {
          "base_uri": "https://localhost:8080/"
        }
      },
      "id": "rVskjTvMuQwi",
      "execution_count": 41,
      "outputs": [
        {
          "output_type": "stream",
          "name": "stdout",
          "text": [
            "     City  Population\n",
            "0  London     8982000\n",
            "1   Paris     2141000\n",
            "2   Tokyo    13960000\n",
            "     City  Population\n",
            "0  London     8982000\n",
            "0    London\n",
            "1     Paris\n",
            "2     Tokyo\n",
            "Name: City, dtype: object\n",
            "     City  Population\n",
            "0  London     8982000\n",
            "2   Tokyo    13960000\n",
            "         Population\n",
            "count  3.000000e+00\n",
            "mean   8.361000e+06\n",
            "std    5.933921e+06\n",
            "min    2.141000e+06\n",
            "25%    5.561500e+06\n",
            "50%    8.982000e+06\n",
            "75%    1.147100e+07\n",
            "max    1.396000e+07\n"
          ]
        }
      ]
    }
  ],
  "metadata": {
    "language_info": {
      "name": "python"
    },
    "colab": {
      "provenance": []
    },
    "kernelspec": {
      "name": "python3",
      "display_name": "Python 3"
    }
  },
  "nbformat": 4,
  "nbformat_minor": 5
}