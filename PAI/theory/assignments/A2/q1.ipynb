{
 "cells": [
  {
   "cell_type": "markdown",
   "id": "d9739e2f",
   "metadata": {},
   "source": [
    "## 🏏 Question 01: Robust Cricket API Tool\n",
    "\n",
    "**Goal:** Build a robust, command-line tool to fetch and display a summary of live cricket matches from the `cricketdata.org` API.\n",
    "**Topics:** File I/O, Error Handling (`try...except`), API Consumption (`requests`, `json`), Data Parsing, Dictionary/List operations.\n",
    "\n",
    "### Technical Specifications:\n",
    "\n",
    "1.  **Configurable Endpoint:** The script must **read the API URL from a local text file named `api.txt`**; it cannot hardcode the URL.\n",
    "2.  **Robust Error Handling:** Use `try...except` blocks to handle:\n",
    "    * **Network Errors:** Gracefully handle `requests.exceptions.RequestException` (e.g., no internet) and print a user-friendly error.\n",
    "    * **HTTP Errors:** If the API returns a non-200 status code (e.g., 401, 404), the script must print the error `status_code` and the raw `response.text` for debugging.\n",
    "3.  **API Status First:** The script must first parse the JSON and print a summary of the API's own status metadata.\n",
    "    * Print **all top-level keys** except for the `'data'` key (too large) and the `'apikey'` key (for security).\n",
    "4.  **Graceful API Failures:**\n",
    "    * Check that the JSON's `\"status\"` key is `\"success\"` and that a `\"data\"` key exists and is not empty.\n",
    "    * If the status is not `\"success\"`, print the error message provided in the API's **`\"reason\"`** key.\n",
    "5.  **Formatted Match Display:** If all checks pass, loop through the list of matches in the `\"data\"` key and print a clearly formatted summary showing the:\n",
    "    * Match Name (`name`)\n",
    "    * Match Status (`status`)\n",
    "    * Venue (`venue`)\n",
    "    * Date (`date`)\n",
    "6.  **Nested Score Details:** Inside the match loop, check if a `'score'` key exists and contains data. If it does, loop through the nested list of scores and print the details for each inning:\n",
    "    * Inning (`inning`)\n",
    "    * Runs (`r`)\n",
    "    * Wickets (`w`)\n",
    "    * Overs (`o`)\n",
    "\n",
    "Your final output should be a clean, readable report printed directly to the console.\n"
   ]
  }
 ],
 "metadata": {
  "language_info": {
   "name": "python"
  }
 },
 "nbformat": 4,
 "nbformat_minor": 5
}
