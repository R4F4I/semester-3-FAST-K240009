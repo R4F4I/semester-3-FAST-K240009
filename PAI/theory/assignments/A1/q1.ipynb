{
 "cells": [
  {
   "cell_type": "markdown",
   "id": "fddcbc80",
   "metadata": {},
   "source": [
    "## 💻 Question 01: E-commerce Recommendation System (KarachiDeals)\n",
    "\n",
    "**Goal:** Implement a \"Customers Who Bought This Also Bought\" feature by finding which products are most frequently purchased together.\n",
    "**Topics:** Data Structures (Lists, Dictionaries, Sets, Tuples), Functions, Loops, `zip`, `enumerate`.\n",
    "\n",
    "### Provided Data\n",
    "\n",
    "```python\n",
    "transactionLog = [\n",
    "    {'orderId': 1001, 'customerId': 'cust_Ahmed', 'productId': 'prod_10'},\n",
    "    {'orderId': 1001, 'customerId': 'cust_Ahmed', 'productId': 'prod_12'},\n",
    "    {'orderId': 1002, 'customerId': 'cust_Bisma', 'productId': 'prod_10'},\n",
    "    {'orderId': 1002, 'customerId': 'cust_Bisma', 'productId': 'prod_15'},\n",
    "    {'orderId': 1003, 'customerId': 'cust_Ahmed', 'productId': 'prod_15'},\n",
    "    {'orderId': 1004, 'customerId': 'cust_Faisal', 'productId': 'prod_12'},\n",
    "    {'orderId': 1004, 'customerId': 'cust_Faisal', 'productId': 'prod_10'},\n",
    "]\n",
    "\n",
    "productCatalog = {\n",
    "    'prod_10': 'Wireless Mouse',\n",
    "    'prod_12': 'Keyboard',\n",
    "    'prod_15': 'USB-C Hub',\n",
    "}\n",
    "```\n",
    "\n",
    "### Tasks\n",
    "\n",
    "1.  **Transform Data:** Write a function `processTransactions(transactionsList)` that returns a dictionary where keys are **customerIds** and values are a **set of their purchased productIds**.\n",
    "2.  **Find Pairs:** Write a function `findFrequentPairs(customerData)` to count how many times any two products were bought together.\n",
    "      * Use a dictionary for tracking co-purchases.\n",
    "      * The key for a pair must be immutable and order-independent (e.g., `('prod_10', 'prod_12')` is the same as `('prod_12', 'prod_10')`).\n",
    "3.  **Get Recommendation:** Write a function `getRecommendations(targetProductId, frequentPairs)`.\n",
    "      * Iterate through the pairs map and find all pairs that include the `targetProductId`.\n",
    "      * Return a **ranked list of the other products**, sorted by their co-purchase count (highest first).\n",
    "4.  **Generate Report:** Write a function `generateReport(targetProductId, recommendations, catalog)`.\n",
    "      * Use `zip` and `enumerate` to align the ranked recommendation data with their product names from the catalog.\n",
    "      * Print a clean, **1-indexed report**.\n",
    "\n"
   ]
  }
 ],
 "metadata": {
  "language_info": {
   "name": "python"
  }
 },
 "nbformat": 4,
 "nbformat_minor": 5
}
