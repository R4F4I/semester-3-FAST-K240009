{
  "cells": [
    {
      "cell_type": "markdown",
      "id": "fddcbc80",
      "metadata": {
        "id": "fddcbc80"
      },
      "source": [
        "## 💻 Question 01: E-commerce Recommendation System (KarachiDeals)\n",
        "\n",
        "**Goal:** Implement a \"Customers Who Bought This Also Bought\" feature by finding which products are most frequently purchased together.\n",
        "**Topics:** Data Structures (Lists, Dictionaries, Sets, Tuples), Functions, Loops, `zip`, `enumerate`.\n",
        "\n",
        "### Provided Data\n",
        "\n"
      ]
    },
    {
      "cell_type": "code",
      "source": [
        "transactionLog = [\n",
        "    {'orderId': 1001, 'customerId': 'cust_Ahmed', 'productId': 'prod_10'},\n",
        "    {'orderId': 1001, 'customerId': 'cust_Ahmed', 'productId': 'prod_12'},\n",
        "    {'orderId': 1002, 'customerId': 'cust_Bisma', 'productId': 'prod_10'},\n",
        "    {'orderId': 1002, 'customerId': 'cust_Bisma', 'productId': 'prod_15'},\n",
        "    {'orderId': 1003, 'customerId': 'cust_Ahmed', 'productId': 'prod_15'},\n",
        "    {'orderId': 1004, 'customerId': 'cust_Faisal', 'productId': 'prod_12'},\n",
        "    {'orderId': 1004, 'customerId': 'cust_Faisal', 'productId': 'prod_10'},\n",
        "]\n",
        "\n",
        "productCatalog = {\n",
        "    'prod_10': 'Wireless Mouse',\n",
        "    'prod_12': 'Keyboard',\n",
        "    'prod_15': 'USB-C Hub',\n",
        "}"
      ],
      "metadata": {
        "id": "H5CfrvO8srw4"
      },
      "id": "H5CfrvO8srw4",
      "execution_count": 1,
      "outputs": []
    },
    {
      "cell_type": "markdown",
      "source": [
        "### Tasks\n",
        "1.  **Transform Data:** Write a function `processTransactions(transactionsList)` that returns a dictionary where keys are **customerIds** and values are a **set of their purchased productIds**.\n"
      ],
      "metadata": {
        "id": "jdDjr1UosaTw"
      },
      "id": "jdDjr1UosaTw"
    },
    {
      "cell_type": "code",
      "source": [
        "def processTransactions(transactionsList):\n",
        "    \"\"\"\n",
        "    Transforms a list of transaction dictionaries into a dictionary where keys are\n",
        "    customerIds and values are a set of their purchased productIds.\n",
        "    \"\"\"\n",
        "    customer_data = {}\n",
        "    for transaction in transactionsList:\n",
        "        customerId = transaction['customerId']\n",
        "        productId = transaction['productId']\n",
        "        if customerId not in customer_data:\n",
        "            customer_data[customerId] = set()\n",
        "        customer_data[customerId].add(productId)\n",
        "    return customer_data\n",
        "\n",
        "# Example usage\n",
        "customer_purchases = processTransactions(transactionLog)\n",
        "print(\"Customer Purchase Data:\")\n",
        "print(customer_purchases)"
      ],
      "metadata": {
        "colab": {
          "base_uri": "https://localhost:8080/"
        },
        "id": "8kDShe36szow",
        "outputId": "ac3b44a7-c4a0-4908-84b5-3eeecfc3018e"
      },
      "id": "8kDShe36szow",
      "execution_count": 2,
      "outputs": [
        {
          "output_type": "stream",
          "name": "stdout",
          "text": [
            "Customer Purchase Data:\n",
            "{'cust_Ahmed': {'prod_15', 'prod_10', 'prod_12'}, 'cust_Bisma': {'prod_15', 'prod_10'}, 'cust_Faisal': {'prod_10', 'prod_12'}}\n"
          ]
        }
      ]
    },
    {
      "cell_type": "markdown",
      "source": [
        "2.  **Find Pairs:** Write a function `findFrequentPairs(customerData)` to count how many times any two products were bought together.\n",
        "      * Use a dictionary for tracking co-purchases.\n",
        "      * The key for a pair must be immutable and order-independent (e.g., `('prod_10', 'prod_12')` is the same as `('prod_12', 'prod_10')`).\n"
      ],
      "metadata": {
        "id": "EkhOT8zNsZ1I"
      },
      "id": "EkhOT8zNsZ1I"
    },
    {
      "cell_type": "code",
      "source": [
        "def findFrequentPairs(customerData):\n",
        "    \"\"\"\n",
        "    Counts how many times any two products were bought together.\n",
        "\n",
        "    Args:\n",
        "        customerData: A dictionary where keys are customerIds and values are\n",
        "                      a set of their purchased productIds.\n",
        "\n",
        "    Returns:\n",
        "        A dictionary where keys are frozensets of two productIds and values are\n",
        "        the co-purchase count.\n",
        "    \"\"\"\n",
        "    frequent_pairs = {}\n",
        "    for products in customerData.values():\n",
        "        product_list = sorted(list(products)) # Sort to ensure order-independence\n",
        "        for i in range(len(product_list)):\n",
        "            for j in range(i + 1, len(product_list)):\n",
        "                pair = frozenset({product_list[i], product_list[j]})\n",
        "                if pair not in frequent_pairs:\n",
        "                    frequent_pairs[pair] = 0\n",
        "                frequent_pairs[pair] += 1\n",
        "    return frequent_pairs\n",
        "\n",
        "# Example usage\n",
        "frequent_itemsets = findFrequentPairs(customer_purchases)\n",
        "print(\"\\nFrequent Item Pairs:\")\n",
        "print(frequent_itemsets)"
      ],
      "metadata": {
        "colab": {
          "base_uri": "https://localhost:8080/"
        },
        "id": "aw1IXbISs0JQ",
        "outputId": "71dbf611-9fc7-404e-bd95-f209f679f246"
      },
      "id": "aw1IXbISs0JQ",
      "execution_count": 3,
      "outputs": [
        {
          "output_type": "stream",
          "name": "stdout",
          "text": [
            "\n",
            "Frequent Item Pairs:\n",
            "{frozenset({'prod_10', 'prod_12'}): 2, frozenset({'prod_15', 'prod_10'}): 2, frozenset({'prod_15', 'prod_12'}): 1}\n"
          ]
        }
      ]
    },
    {
      "cell_type": "markdown",
      "source": [
        "3.  **Get Recommendation:** Write a function `getRecommendations(targetProductId, frequentPairs)`.\n",
        "      * Iterate through the pairs map and find all pairs that include the `targetProductId`.\n",
        "      * Return a **ranked list of the other products**, sorted by their co-purchase count (highest first).\n"
      ],
      "metadata": {
        "id": "6o_k7PjLsZcY"
      },
      "id": "6o_k7PjLsZcY"
    },
    {
      "cell_type": "code",
      "metadata": {
        "colab": {
          "base_uri": "https://localhost:8080/"
        },
        "id": "aeac7332",
        "outputId": "d117b395-91b6-42eb-a151-3a96398a4086"
      },
      "source": [
        "def getRecommendations(targetProductId, frequentPairs):\n",
        "    \"\"\"\n",
        "    Finds all pairs that include the targetProductId and returns a ranked list\n",
        "    of the other products, sorted by their co-purchase count (highest first).\n",
        "\n",
        "    Args:\n",
        "        targetProductId: The product ID for which to find recommendations.\n",
        "        frequentPairs: A dictionary where keys are frozensets of two productIds\n",
        "                       and values are the co-purchase count.\n",
        "\n",
        "    Returns:\n",
        "        A list of tuples, where each tuple contains (recommended_productId, count),\n",
        "        sorted in descending order of count.\n",
        "    \"\"\"\n",
        "    recommendations = []\n",
        "    for pair, count in frequentPairs.items():\n",
        "        if targetProductId in pair:\n",
        "            # Find the other product in the pair\n",
        "            other_product = list(pair - {targetProductId})[0]\n",
        "            recommendations.append((other_product, count))\n",
        "\n",
        "    # Sort recommendations by count in descending order\n",
        "    recommendations.sort(key=lambda item: item[1], reverse=True)\n",
        "    return recommendations\n",
        "\n",
        "# Example usage\n",
        "target_product = 'prod_10'\n",
        "recommendations = getRecommendations(target_product, frequent_itemsets)\n",
        "print(f\"\\nRecommendations for {target_product}:\")\n",
        "print(recommendations)"
      ],
      "id": "aeac7332",
      "execution_count": 4,
      "outputs": [
        {
          "output_type": "stream",
          "name": "stdout",
          "text": [
            "\n",
            "Recommendations for prod_10:\n",
            "[('prod_12', 2), ('prod_15', 2)]\n"
          ]
        }
      ]
    },
    {
      "cell_type": "markdown",
      "source": [
        "4.  **Generate Report:** Write a function `generateReport(targetProductId, recommendations, catalog)`.\n",
        "      * Use `zip` and `enumerate` to align the ranked recommendation data with their product names from the catalog.\n",
        "      * Print a clean, **1-indexed report**."
      ],
      "metadata": {
        "id": "b0EPdBvFsZNg"
      },
      "id": "b0EPdBvFsZNg"
    },
    {
      "cell_type": "code",
      "metadata": {
        "colab": {
          "base_uri": "https://localhost:8080/"
        },
        "id": "28693fed",
        "outputId": "544ebe74-73f9-4a26-f9be-9c33a38ecea0"
      },
      "source": [
        "def generateReport(targetProductId, recommendations, catalog):\n",
        "    \"\"\"\n",
        "    Prints a 1-indexed report of recommendations, aligning recommendation data\n",
        "    with product names from the catalog.\n",
        "\n",
        "    Args:\n",
        "        targetProductId: The product ID for which recommendations were generated.\n",
        "        recommendations: A list of tuples (recommended_productId, count).\n",
        "        catalog: A dictionary mapping productIds to product names.\n",
        "    \"\"\"\n",
        "    print(f\"\\nReport for recommendations for {catalog.get(targetProductId, targetProductId)}:\")\n",
        "    print(\"----------------------------------------------------\")\n",
        "    if not recommendations:\n",
        "        print(\"No recommendations found for this product.\")\n",
        "    else:\n",
        "        for index, (recommended_productId, count) in enumerate(zip(recommendations, [rec[1] for rec in recommendations])):\n",
        "            product_name = catalog.get(recommended_productId[0], recommended_productId[0])\n",
        "            print(f\"{index + 1}. {product_name} (Co-purchased {count} times)\")\n",
        "    print(\"----------------------------------------------------\")\n",
        "\n",
        "# Example usage\n",
        "target_product = 'prod_10'\n",
        "recommendations = getRecommendations(target_product, frequent_itemsets)\n",
        "generateReport(target_product, recommendations, productCatalog)"
      ],
      "id": "28693fed",
      "execution_count": 5,
      "outputs": [
        {
          "output_type": "stream",
          "name": "stdout",
          "text": [
            "\n",
            "Report for recommendations for Wireless Mouse:\n",
            "----------------------------------------------------\n",
            "1. Keyboard (Co-purchased 2 times)\n",
            "2. USB-C Hub (Co-purchased 2 times)\n",
            "----------------------------------------------------\n"
          ]
        }
      ]
    },
    {
      "cell_type": "code",
      "metadata": {
        "id": "9fffe5dc"
      },
      "source": [],
      "id": "9fffe5dc",
      "execution_count": 4,
      "outputs": []
    }
  ],
  "metadata": {
    "language_info": {
      "name": "python"
    },
    "colab": {
      "provenance": []
    },
    "kernelspec": {
      "name": "python3",
      "display_name": "Python 3"
    }
  },
  "nbformat": 4,
  "nbformat_minor": 5
}