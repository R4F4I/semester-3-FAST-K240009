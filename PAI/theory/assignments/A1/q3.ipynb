{
  "cells": [
    {
      "cell_type": "markdown",
      "id": "89d97656",
      "metadata": {
        "id": "89d97656"
      },
      "source": [
        "\n",
        "## 🚁 Question 03: Drone Delivery System (LahoreLogistics)\n",
        "\n",
        "**Goal:** Model a drone delivery system using Object-Oriented Programming (OOP) to simulate package assignments and status updates.\n",
        "**Topics:** OOP (Classes, Encapsulation, Composition, Aggregation).\n",
        "\n",
        "### Tasks\n"
      ]
    },
    {
      "cell_type": "markdown",
      "source": [
        "\n",
        "1.  **Entity Classes:**\n",
        "      * Create a **`Package` class** (with `packageId`, `weightInKg`).\n",
        "      * Create a **`Drone` class** (with `droneId`, `maxLoadInKg`).\n"
      ],
      "metadata": {
        "id": "nJH7WcF8zfzV"
      },
      "id": "nJH7WcF8zfzV"
    },
    {
      "cell_type": "code",
      "metadata": {
        "id": "a2cb5132"
      },
      "source": [
        "class Package:\n",
        "    def __init__(self, packageId, weightInKg):\n",
        "        self.packageId = packageId\n",
        "        self.weightInKg = weightInKg"
      ],
      "id": "a2cb5132",
      "execution_count": 11,
      "outputs": []
    },
    {
      "cell_type": "markdown",
      "source": [
        "2.  **Encapsulation:**\n",
        "      * The `Drone` must protect its internal state by using a **\"private\" `_status` attribute**.\n",
        "      * This attribute should only be changeable via public methods: `getStatus()` and `setStatus(newStatus)`.\n",
        "      * The setter must validate that the `newStatus` is one of `('idle', 'delivering', 'charging')`.\n"
      ],
      "metadata": {
        "id": "DfQUEtF4zhqN"
      },
      "id": "DfQUEtF4zhqN"
    },
    {
      "cell_type": "code",
      "metadata": {
        "id": "2d33eaba"
      },
      "source": [
        "class Drone:\n",
        "    def __init__(self, droneId, maxLoadInKg):\n",
        "        self.droneId = droneId\n",
        "        self.maxLoadInKg = maxLoadInKg\n",
        "        self._status = 'idle'  # Private attribute\n",
        "        self.current_package = None # Attribute to hold the assigned package\n",
        "\n",
        "    def getStatus(self):\n",
        "        return self._status\n",
        "\n",
        "    def setStatus(self, newStatus):\n",
        "        valid_statuses = ('idle', 'delivering', 'charging')\n",
        "        if newStatus in valid_statuses:\n",
        "            self._status = newStatus\n",
        "        else:\n",
        "            print(f\"Invalid status: {newStatus}. Status must be one of {valid_statuses}\")\n",
        "\n",
        "    def assignPackage(self, packageObj):\n",
        "        if self._status == 'idle' and packageObj.weightInKg <= self.maxLoadInKg:\n",
        "            self.current_package = packageObj\n",
        "            self.setStatus('delivering')\n",
        "            print(f\"Package {packageObj.packageId} assigned to Drone {self.droneId}\")\n",
        "            return True\n",
        "        elif self._status != 'idle':\n",
        "            print(f\"Drone {self.droneId} is not idle. Cannot assign package.\")\n",
        "            return False\n",
        "        else: # packageObj.weightInKg > self.maxLoadInKg\n",
        "            print(f\"Package {packageObj.packageId} exceeds Drone {self.droneId}'s max load.\")\n",
        "            return False"
      ],
      "id": "2d33eaba",
      "execution_count": 12,
      "outputs": []
    },
    {
      "cell_type": "markdown",
      "source": [
        "3.  **Aggregation:**\n",
        "      * A Drone carries a `Package` for a temporary delivery, but the `Package` exists independently of the drone.\n",
        "      * Implement `Drone.assignPackage(packageObj)`.\n",
        "      * This method should only succeed if the drone's status is **'idle'** AND the package's weight is **within the drone's `maxLoadInKg`**.\n"
      ],
      "metadata": {
        "id": "UJAUtpMHzjUV"
      },
      "id": "UJAUtpMHzjUV"
    },
    {
      "cell_type": "code",
      "metadata": {
        "colab": {
          "base_uri": "https://localhost:8080/"
        },
        "id": "569692bc",
        "outputId": "740c87b1-812b-4b39-e53b-d7c9d1f2eff9"
      },
      "source": [
        "# Create a Package and a Drone object\n",
        "package1 = Package(packageId=\"P001\", weightInKg=5)\n",
        "drone1 = Drone(droneId=\"D001\", maxLoadInKg=10)\n",
        "\n",
        "# Attempt to assign the package to the drone\n",
        "drone1.assignPackage(package1)\n",
        "\n",
        "# Create a heavier package and another drone\n",
        "package2 = Package(packageId=\"P002\", weightInKg=15)\n",
        "drone2 = Drone(droneId=\"D002\", maxLoadInKg=10)\n",
        "\n",
        "# Attempt to assign the heavier package\n",
        "drone2.assignPackage(package2)\n",
        "\n",
        "# Create an idle drone and a package\n",
        "drone3 = Drone(droneId=\"D003\", maxLoadInKg=20)\n",
        "package3 = Package(packageId=\"P003\", weightInKg=10)\n",
        "\n",
        "# Assign the package to the idle drone\n",
        "drone3.assignPackage(package3)\n",
        "\n",
        "# Attempt to assign another package to the busy drone3\n",
        "package4 = Package(packageId=\"P004\", weightInKg=5)\n",
        "drone3.assignPackage(package4)\n",
        "\n",
        "# Display the state of the drones\n",
        "print(drone1.getStatus())\n",
        "print(drone2.getStatus())\n",
        "print(drone3.getStatus())"
      ],
      "id": "569692bc",
      "execution_count": 13,
      "outputs": [
        {
          "output_type": "stream",
          "name": "stdout",
          "text": [
            "Package P001 assigned to Drone D001\n",
            "Package P002 exceeds Drone D002's max load.\n",
            "Package P003 assigned to Drone D003\n",
            "Drone D003 is not idle. Cannot assign package.\n",
            "delivering\n",
            "idle\n",
            "delivering\n"
          ]
        }
      ]
    },
    {
      "cell_type": "markdown",
      "source": [
        "4.  **Composition:**\n",
        "      * A **`FleetManager` class** owns its fleet of `Drones`. If the manager is shut down, its Drones are part of that shutdown.\n",
        "      * The `__init__` method should create a dictionary to store and manage the lifecycle of its `Drone` objects.\n",
        "      * It should also have a list to track pending `Packages`.\n"
      ],
      "metadata": {
        "id": "QGYiqGgkzk2d"
      },
      "id": "QGYiqGgkzk2d"
    },
    {
      "cell_type": "code",
      "metadata": {
        "id": "b90b9286"
      },
      "source": [
        "class FleetManager:\n",
        "    def __init__(self):\n",
        "        self.drones = {}  # Composition: FleetManager owns Drone objects\n",
        "        self.pending_packages = [] # Aggregation: FleetManager has a list of pending Packages\n",
        "        self.simulation_time = 0\n",
        "\n",
        "    def add_drone(self, drone):\n",
        "        if isinstance(drone, Drone):\n",
        "            self.drones[drone.droneId] = drone\n",
        "            print(f\"Drone {drone.droneId} added to the fleet.\")\n",
        "        else:\n",
        "            print(\"Invalid object. Only Drone objects can be added to the fleet.\")\n",
        "\n",
        "    def add_package_to_pending(self, package):\n",
        "        if isinstance(package, Package):\n",
        "            self.pending_packages.append(package)\n",
        "            print(f\"Package {package.packageId} added to pending list.\")\n",
        "        else:\n",
        "            print(\"Invalid object. Only Package objects can be added to the pending list.\")\n",
        "\n",
        "    def dispatchJobs(self):\n",
        "        \"\"\"Assigns pending packages to idle drones.\"\"\"\n",
        "        idle_drones = [drone for drone in self.drones.values() if drone.getStatus() == 'idle']\n",
        "        assigned_packages = []\n",
        "\n",
        "        for package in self.pending_packages:\n",
        "            for drone in idle_drones:\n",
        "                if drone.assignPackage(package):\n",
        "                    assigned_packages.append(package)\n",
        "                    idle_drones.remove(drone) # Remove the drone from the available list\n",
        "                    break # Move to the next package\n",
        "\n",
        "        # Remove assigned packages from the pending list\n",
        "        for package in assigned_packages:\n",
        "            self.pending_packages.remove(package)\n",
        "\n",
        "    def simulationTick(self):\n",
        "        \"\"\"Simulates one time step, updating drone states.\"\"\"\n",
        "        self.simulation_time += 1\n",
        "        print(f\"\\n--- Simulation Tick: {self.simulation_time} ---\")\n",
        "        for drone in self.drones.values():\n",
        "            if drone.getStatus() == 'delivering':\n",
        "                # Simple simulation: a delivering drone becomes charging after 2 ticks\n",
        "                if hasattr(drone, 'delivery_time') and self.simulation_time - drone.delivery_time >= 2:\n",
        "                    drone.setStatus('charging')\n",
        "                    print(f\"Drone {drone.droneId} finished delivery and is now charging.\")\n",
        "                    drone.current_package = None # Package is delivered\n",
        "                elif not hasattr(drone, 'delivery_time'):\n",
        "                    # Record the start time of delivery for this tick\n",
        "                    drone.delivery_time = self.simulation_time\n",
        "                    print(f\"Drone {drone.droneId} is delivering package {drone.current_package.packageId}.\")\n",
        "                else:\n",
        "                     print(f\"Drone {drone.droneId} is delivering package {drone.current_package.packageId}.\")\n",
        "\n",
        "            elif drone.getStatus() == 'charging':\n",
        "                # Simple simulation: a charging drone becomes idle after 3 ticks\n",
        "                 if hasattr(drone, 'charging_time') and self.simulation_time - drone.charging_time >= 3:\n",
        "                    drone.setStatus('idle')\n",
        "                    print(f\"Drone {drone.droneId} finished charging and is now idle.\")\n",
        "                    del drone.charging_time # Remove charging time attribute\n",
        "                 elif not hasattr(drone, 'charging_time'):\n",
        "                    # Record the start time of charging for this tick\n",
        "                    drone.charging_time = self.simulation_time\n",
        "                    print(f\"Drone {drone.droneId} is charging.\")\n",
        "                 else:\n",
        "                     print(f\"Drone {drone.droneId} is charging.\")\n",
        "\n",
        "            elif drone.getStatus() == 'idle':\n",
        "                print(f\"Drone {drone.droneId} is idle.\")\n",
        "\n",
        "\n",
        "    def __repr__(self):\n",
        "        return f\"FleetManager(num_drones={len(self.drones)}, num_pending_packages={len(self.pending_packages)})\""
      ],
      "id": "b90b9286",
      "execution_count": 14,
      "outputs": []
    },
    {
      "cell_type": "markdown",
      "source": [
        "5.  **Simulation:**\n",
        "      * Implement `FleetManager.dispatchJobs()`, which assigns packages to idle drones.\n",
        "      * Implement `simulationTick()`, which loops through all drones and deterministically updates their state (e.g., a 'delivering' drone with a timer of 2 will become 'charging' after 2 ticks).\n",
        "\n"
      ],
      "metadata": {
        "id": "BbsJtFquzmRV"
      },
      "id": "BbsJtFquzmRV"
    },
    {
      "cell_type": "code",
      "metadata": {
        "colab": {
          "base_uri": "https://localhost:8080/"
        },
        "id": "3dfcc40b",
        "outputId": "3eda039c-41af-450f-8e3b-143f0dab3afb"
      },
      "source": [
        "# Create a FleetManager\n",
        "manager = FleetManager()\n",
        "\n",
        "# Add some drones to the fleet\n",
        "manager.add_drone(Drone(droneId=\"D001\", maxLoadInKg=10))\n",
        "manager.add_drone(Drone(droneId=\"D002\", maxLoadInKg=15))\n",
        "manager.add_drone(Drone(droneId=\"D003\", maxLoadInKg=12))\n",
        "\n",
        "# Add some packages to the pending list\n",
        "manager.add_package_to_pending(Package(packageId=\"P001\", weightInKg=8))\n",
        "manager.add_package_to_pending(Package(packageId=\"P002\", weightInKg=10))\n",
        "manager.add_package_to_pending(Package(packageId=\"P003\", weightInKg=5))\n",
        "manager.add_package_to_pending(Package(packageId=\"P004\", weightInKg=18)) # Too heavy for any drone\n",
        "\n",
        "# Run the simulation for a few ticks\n",
        "for _ in range(10):\n",
        "    manager.dispatchJobs()\n",
        "    manager.simulationTick()"
      ],
      "id": "3dfcc40b",
      "execution_count": 15,
      "outputs": [
        {
          "output_type": "stream",
          "name": "stdout",
          "text": [
            "Drone D001 added to the fleet.\n",
            "Drone D002 added to the fleet.\n",
            "Drone D003 added to the fleet.\n",
            "Package P001 added to pending list.\n",
            "Package P002 added to pending list.\n",
            "Package P003 added to pending list.\n",
            "Package P004 added to pending list.\n",
            "Package P001 assigned to Drone D001\n",
            "Package P002 assigned to Drone D002\n",
            "Package P003 assigned to Drone D003\n",
            "\n",
            "--- Simulation Tick: 1 ---\n",
            "Drone D001 is delivering package P001.\n",
            "Drone D002 is delivering package P002.\n",
            "Drone D003 is delivering package P003.\n",
            "\n",
            "--- Simulation Tick: 2 ---\n",
            "Drone D001 is delivering package P001.\n",
            "Drone D002 is delivering package P002.\n",
            "Drone D003 is delivering package P003.\n",
            "\n",
            "--- Simulation Tick: 3 ---\n",
            "Drone D001 finished delivery and is now charging.\n",
            "Drone D002 finished delivery and is now charging.\n",
            "Drone D003 finished delivery and is now charging.\n",
            "\n",
            "--- Simulation Tick: 4 ---\n",
            "Drone D001 is charging.\n",
            "Drone D002 is charging.\n",
            "Drone D003 is charging.\n",
            "\n",
            "--- Simulation Tick: 5 ---\n",
            "Drone D001 is charging.\n",
            "Drone D002 is charging.\n",
            "Drone D003 is charging.\n",
            "\n",
            "--- Simulation Tick: 6 ---\n",
            "Drone D001 is charging.\n",
            "Drone D002 is charging.\n",
            "Drone D003 is charging.\n",
            "\n",
            "--- Simulation Tick: 7 ---\n",
            "Drone D001 finished charging and is now idle.\n",
            "Drone D002 finished charging and is now idle.\n",
            "Drone D003 finished charging and is now idle.\n",
            "Package P004 exceeds Drone D001's max load.\n",
            "Package P004 exceeds Drone D002's max load.\n",
            "Package P004 exceeds Drone D003's max load.\n",
            "\n",
            "--- Simulation Tick: 8 ---\n",
            "Drone D001 is idle.\n",
            "Drone D002 is idle.\n",
            "Drone D003 is idle.\n",
            "Package P004 exceeds Drone D001's max load.\n",
            "Package P004 exceeds Drone D002's max load.\n",
            "Package P004 exceeds Drone D003's max load.\n",
            "\n",
            "--- Simulation Tick: 9 ---\n",
            "Drone D001 is idle.\n",
            "Drone D002 is idle.\n",
            "Drone D003 is idle.\n",
            "Package P004 exceeds Drone D001's max load.\n",
            "Package P004 exceeds Drone D002's max load.\n",
            "Package P004 exceeds Drone D003's max load.\n",
            "\n",
            "--- Simulation Tick: 10 ---\n",
            "Drone D001 is idle.\n",
            "Drone D002 is idle.\n",
            "Drone D003 is idle.\n"
          ]
        }
      ]
    }
  ],
  "metadata": {
    "language_info": {
      "name": "python"
    },
    "colab": {
      "provenance": []
    },
    "kernelspec": {
      "name": "python3",
      "display_name": "Python 3"
    }
  },
  "nbformat": 4,
  "nbformat_minor": 5
}