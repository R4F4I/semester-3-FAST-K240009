{
 "cells": [
  {
   "cell_type": "markdown",
   "id": "89d97656",
   "metadata": {},
   "source": [
    "\n",
    "## 🚁 Question 03: Drone Delivery System (LahoreLogistics)\n",
    "\n",
    "**Goal:** Model a drone delivery system using Object-Oriented Programming (OOP) to simulate package assignments and status updates.\n",
    "**Topics:** OOP (Classes, Encapsulation, Composition, Aggregation).\n",
    "\n",
    "### Tasks\n",
    "\n",
    "1.  **Entity Classes:**\n",
    "      * Create a **`Package` class** (with `packageId`, `weightInKg`).\n",
    "      * Create a **`Drone` class** (with `droneId`, `maxLoadInKg`).\n",
    "2.  **Encapsulation:**\n",
    "      * The `Drone` must protect its internal state by using a **\"private\" `_status` attribute**.\n",
    "      * This attribute should only be changeable via public methods: `getStatus()` and `setStatus(newStatus)`.\n",
    "      * The setter must validate that the `newStatus` is one of `('idle', 'delivering', 'charging')`.\n",
    "3.  **Aggregation:**\n",
    "      * A Drone carries a `Package` for a temporary delivery, but the `Package` exists independently of the drone.\n",
    "      * Implement `Drone.assignPackage(packageObj)`.\n",
    "      * This method should only succeed if the drone's status is **'idle'** AND the package's weight is **within the drone's `maxLoadInKg`**.\n",
    "4.  **Composition:**\n",
    "      * A **`FleetManager` class** owns its fleet of `Drones`. If the manager is shut down, its Drones are part of that shutdown.\n",
    "      * The `__init__` method should create a dictionary to store and manage the lifecycle of its `Drone` objects.\n",
    "      * It should also have a list to track pending `Packages`.\n",
    "5.  **Simulation:**\n",
    "      * Implement `FleetManager.dispatchJobs()`, which assigns packages to idle drones.\n",
    "      * Implement `simulationTick()`, which loops through all drones and deterministically updates their state (e.g., a 'delivering' drone with a timer of 2 will become 'charging' after 2 ticks).\n",
    "\n"
   ]
  }
 ],
 "metadata": {
  "language_info": {
   "name": "python"
  }
 },
 "nbformat": 4,
 "nbformat_minor": 5
}
