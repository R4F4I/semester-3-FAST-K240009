{
  "cells": [
    {
      "cell_type": "markdown",
      "id": "41fc40ae",
      "metadata": {
        "id": "41fc40ae"
      },
      "source": [
        "## 🖼️ Question 04: Image Augmentation Pipeline\n",
        "\n",
        "**Goal:** Build a flexible \"pipeline\" to apply a series of transformations (like flip and adjust brightness) to simulate image data augmentation for an AI training team.\n",
        "**Topics:** OOP (Classes, Objects), Functions as Arguments, `lambda`, List Comprehensions.\n",
        "\n",
        "### Provided Data\n",
        "\n",
        "A sample 2x3 image represented as a 2D list:\n"
      ]
    },
    {
      "cell_type": "code",
      "source": [
        "originalPixels = [\n",
        "    [10, 20, 30],\n",
        "    [40, 50, 60]\n",
        "]"
      ],
      "metadata": {
        "id": "iUP2r-Pw42af"
      },
      "id": "iUP2r-Pw42af",
      "execution_count": 6,
      "outputs": []
    },
    {
      "cell_type": "markdown",
      "source": [
        "\n",
        "### Tasks\n",
        "\n",
        "1.  **Image Class:**\n",
        "      * Create an **`Image` class** that stores a 2D list of pixels.\n",
        "      * It must have an `applyTransformation(transformationFunc)` method that accepts a function as an argument and uses it to update its own pixel data."
      ],
      "metadata": {
        "id": "whfkR-rN4zqX"
      },
      "id": "whfkR-rN4zqX"
    },
    {
      "cell_type": "markdown",
      "source": [
        "\n",
        "2.  **Manual Deep Copy:**\n",
        "      * Transformations must **not change the original image**.\n",
        "      * Implement a `getCopy()` method for your `Image` class **without using the `copy` module**.\n",
        "      * *Hint: A list comprehension can create a new, independent 2D list*.\n"
      ],
      "metadata": {
        "id": "aU5iRpRd45g2"
      },
      "id": "aU5iRpRd45g2"
    },
    {
      "cell_type": "code",
      "metadata": {
        "id": "ae900049"
      },
      "source": [
        "class Image:\n",
        "    def __init__(self, pixels):\n",
        "        self.pixels = pixels\n",
        "\n",
        "    def applyTransformation(self, transformationFunc):\n",
        "        # Assuming transformationFunc takes the pixel data and returns new pixel data\n",
        "        self.pixels = transformationFunc(self.pixels)\n",
        "\n",
        "    def getCopy(self):\n",
        "        # Manual deep copy without using the copy module\n",
        "        new_pixels = [row[:] for row in self.pixels]\n",
        "        return Image(new_pixels)"
      ],
      "id": "ae900049",
      "execution_count": 7,
      "outputs": []
    },
    {
      "cell_type": "markdown",
      "source": [
        "3.  **Transformation Functions:** Write standalone functions that each take a `pixelData` list and return a **new 2D list**:\n",
        "      * `flipHorizontal(pixelData)`\n",
        "      * `adjustBrightness(pixelData, brightnessValue)`: This one needs an extra argument.\n",
        "      * `rotateNinetyDegrees(pixelData)`\n"
      ],
      "metadata": {
        "id": "TE6XkZzl467W"
      },
      "id": "TE6XkZzl467W"
    },
    {
      "cell_type": "code",
      "metadata": {
        "id": "ae374f3d"
      },
      "source": [
        "def flipHorizontal(pixelData):\n",
        "    # Create a new list of lists by reversing each row\n",
        "    return [row[::-1] for row in pixelData]\n",
        "\n",
        "def adjustBrightness(pixelData, brightnessValue):\n",
        "    # Create a new list of lists with adjusted pixel values\n",
        "    # Ensure pixel values stay within a valid range (e.g., 0-255)\n",
        "    return [[max(0, min(255, pixel + brightnessValue)) for pixel in row] for row in pixelData]\n",
        "\n",
        "def rotateNinetyDegrees(pixelData):\n",
        "    # Get the number of rows and columns\n",
        "    rows = len(pixelData)\n",
        "    cols = len(pixelData[0]) if rows > 0 else 0\n",
        "\n",
        "    # Create a new list of lists for the rotated image\n",
        "    # The new image will have dimensions cols x rows\n",
        "    rotated_pixels = [[0 for _ in range(rows)] for _ in range(cols)]\n",
        "\n",
        "    # Populate the rotated image\n",
        "    for r in range(rows):\n",
        "        for c in range(cols):\n",
        "            rotated_pixels[c][rows - 1 - r] = pixelData[r][c]\n",
        "\n",
        "    return rotated_pixels"
      ],
      "id": "ae374f3d",
      "execution_count": 8,
      "outputs": []
    },
    {
      "cell_type": "markdown",
      "source": [
        "4.  **Pipeline Class:**\n",
        "      * Create an **`AugmentationPipeline` class**.\n",
        "      * It should have an `addStep(transformFunc)` method to store a list of functions.\n",
        "      * Its `processImage(originalImage)` method should loop through this list, apply each function to a **fresh copy** of the `originalImage`, and return a **new list of all the augmented images**.\n"
      ],
      "metadata": {
        "id": "xD2Qjl4b48Ke"
      },
      "id": "xD2Qjl4b48Ke"
    },
    {
      "cell_type": "code",
      "metadata": {
        "id": "87adaf91"
      },
      "source": [
        "class AugmentationPipeline:\n",
        "    def __init__(self):\n",
        "        self.transformations = []\n",
        "\n",
        "    def addStep(self, transformFunc):\n",
        "        self.transformations.append(transformFunc)\n",
        "\n",
        "    def processImage(self, originalImage):\n",
        "        augmented_images = []\n",
        "        for transformFunc in self.transformations:\n",
        "            # Get a fresh copy of the original image for each transformation\n",
        "            current_image = originalImage.getCopy()\n",
        "            # Apply the transformation\n",
        "            current_image.applyTransformation(transformFunc)\n",
        "            # Add the augmented image to the list\n",
        "            augmented_images.append(current_image)\n",
        "        return augmented_images"
      ],
      "id": "87adaf91",
      "execution_count": 9,
      "outputs": []
    },
    {
      "cell_type": "markdown",
      "source": [
        "5.  **Using lambda:**\n",
        "      * The `adjustBrightness` function needs two arguments, but the pipeline's `applyTransformation` method only passes one.\n",
        "      * When adding this step to your pipeline, use a **`lambda` function to wrap the `adjustBrightness` call**, \"pre-loading\" it with the `brightnessValue` you want.\n"
      ],
      "metadata": {
        "id": "16L9xptK4-C_"
      },
      "id": "16L9xptK4-C_"
    },
    {
      "cell_type": "code",
      "metadata": {
        "colab": {
          "base_uri": "https://localhost:8080/"
        },
        "id": "396e55a3",
        "outputId": "09f4b0c5-7ba4-4707-ca75-384ef00444d7"
      },
      "source": [
        "# Create an instance of the Image class\n",
        "original_image = Image(originalPixels)\n",
        "\n",
        "# Create an instance of the AugmentationPipeline class\n",
        "pipeline = AugmentationPipeline()\n",
        "\n",
        "# Add transformations to the pipeline\n",
        "pipeline.addStep(flipHorizontal)\n",
        "pipeline.addStep(rotateNinetyDegrees)\n",
        "\n",
        "# Add adjustBrightness using a lambda function to specify the brightness value\n",
        "brightness_value = 50  # Example brightness value\n",
        "pipeline.addStep(lambda pixels: adjustBrightness(pixels, brightness_value))\n",
        "\n",
        "# Process the original image through the pipeline\n",
        "augmented_images = pipeline.processImage(original_image)\n",
        "\n",
        "# Display the original and augmented images\n",
        "print(\"Original Image:\")\n",
        "print(original_image.pixels)\n",
        "\n",
        "print(\"\\nAugmented Images:\")\n",
        "for i, img in enumerate(augmented_images):\n",
        "    print(f\"Transformation {i+1}:\")\n",
        "    print(img.pixels)"
      ],
      "id": "396e55a3",
      "execution_count": 10,
      "outputs": [
        {
          "output_type": "stream",
          "name": "stdout",
          "text": [
            "Original Image:\n",
            "[[10, 20, 30], [40, 50, 60]]\n",
            "\n",
            "Augmented Images:\n",
            "Transformation 1:\n",
            "[[30, 20, 10], [60, 50, 40]]\n",
            "Transformation 2:\n",
            "[[40, 10], [50, 20], [60, 30]]\n",
            "Transformation 3:\n",
            "[[60, 70, 80], [90, 100, 110]]\n"
          ]
        }
      ]
    }
  ],
  "metadata": {
    "language_info": {
      "name": "python"
    },
    "colab": {
      "provenance": []
    },
    "kernelspec": {
      "name": "python3",
      "display_name": "Python 3"
    }
  },
  "nbformat": 4,
  "nbformat_minor": 5
}