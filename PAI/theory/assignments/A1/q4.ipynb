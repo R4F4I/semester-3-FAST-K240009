{
 "cells": [
  {
   "cell_type": "markdown",
   "id": "41fc40ae",
   "metadata": {},
   "source": [
    "## 🖼️ Question 04: Image Augmentation Pipeline\n",
    "\n",
    "**Goal:** Build a flexible \"pipeline\" to apply a series of transformations (like flip and adjust brightness) to simulate image data augmentation for an AI training team.\n",
    "**Topics:** OOP (Classes, Objects), Functions as Arguments, `lambda`, List Comprehensions.\n",
    "\n",
    "### Provided Data\n",
    "\n",
    "A sample 2x3 image represented as a 2D list:\n",
    "\n",
    "```python\n",
    "originalPixels = [\n",
    "    [10, 20, 30],\n",
    "    [40, 50, 60]\n",
    "]\n",
    "```\n",
    "\n",
    "### Tasks\n",
    "\n",
    "1.  **Image Class:**\n",
    "      * Create an **`Image` class** that stores a 2D list of pixels.\n",
    "      * It must have an `applyTransformation(transformationFunc)` method that accepts a function as an argument and uses it to update its own pixel data.\n",
    "2.  **Manual Deep Copy:**\n",
    "      * Transformations must **not change the original image**.\n",
    "      * Implement a `getCopy()` method for your `Image` class **without using the `copy` module**.\n",
    "      * *Hint: A list comprehension can create a new, independent 2D list*.\n",
    "3.  **Transformation Functions:** Write standalone functions that each take a `pixelData` list and return a **new 2D list**:\n",
    "      * `flipHorizontal(pixelData)`\n",
    "      * `adjustBrightness(pixelData, brightnessValue)`: This one needs an extra argument.\n",
    "      * `rotateNinetyDegrees(pixelData)`\n",
    "4.  **Pipeline Class:**\n",
    "      * Create an **`AugmentationPipeline` class**.\n",
    "      * It should have an `addStep(transformFunc)` method to store a list of functions.\n",
    "      * Its `processImage(originalImage)` method should loop through this list, apply each function to a **fresh copy** of the `originalImage`, and return a **new list of all the augmented images**.\n",
    "5.  **Using lambda:**\n",
    "      * The `adjustBrightness` function needs two arguments, but the pipeline's `applyTransformation` method only passes one.\n",
    "      * When adding this step to your pipeline, use a **`lambda` function to wrap the `adjustBrightness` call**, \"pre-loading\" it with the `brightnessValue` you want.\n"
   ]
  }
 ],
 "metadata": {
  "language_info": {
   "name": "python"
  }
 },
 "nbformat": 4,
 "nbformat_minor": 5
}
