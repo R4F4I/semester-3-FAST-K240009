{
  "cells": [
    {
      "cell_type": "markdown",
      "id": "e93831d4",
      "metadata": {
        "id": "e93831d4"
      },
      "source": [
        "## 💬 Question 02: Sentiment Analysis and Topic Modeling\n",
        "\n",
        "**Goal:** Process a list of social media posts, clean the text, score the sentiment, and find trending negative topics for the brand \"GulPhone\".\n",
        "**Topics:** Functions, Data Structures (Lists, Dictionaries, Sets), List Comprehensions, `map`, `lambda`.\n",
        "\n",
        "### Provided Data\n"
      ]
    },
    {
      "cell_type": "code",
      "source": [
        "allPosts = [\n",
        "    {'id': 1, 'text': 'I LOVE the new #GulPhone! Battery life is amazing.'},\n",
        "    {'id': 2, 'text': 'My #GulPhone is a total disaster. The screen is already broken!'},\n",
        "    {'id': 3, 'text': 'Worst customer service ever from @GulPhoneSupport. Avoid this.'},\n",
        "    {'id': 4, 'text': 'The @GulPhoneSupport team was helpful and resolved my issue. Great service!'},\n",
        "]\n",
        "\n",
        "PUNCTUATION_CHARS = '!\\\"#$%&\\'()*+,-./:;<=>?@[\\\\]^_^{|}~'\n",
        "STOPWORDS_SET = {'i', 'me', 'my', 'a', 'an', 'the', 'is', 'am', 'was', 'and',\n",
        "                 'but', 'if', 'or', 'to', 'of', 'at', 'by', ' ', 'for', 'with',\n",
        "                 'this', 'that'}\n",
        "POSITIVE_WORDS_SET = {'love', 'amazing', 'great', 'helpful', 'resolved'}\n",
        "NEGATIVE_WORDS_SET = {'disaster', 'broken', 'worst', 'avoid', 'bad'}"
      ],
      "metadata": {
        "id": "bRC5kjK0vn0A"
      },
      "id": "bRC5kjK0vn0A",
      "execution_count": 16,
      "outputs": []
    },
    {
      "cell_type": "markdown",
      "source": [
        "\n",
        "\n",
        "### Tasks\n",
        "\n",
        "1.  **Clean Text:** Write a reusable function `preprocessText(text, punctuationList, stopwordsSet)`.\n",
        "      * Normalize the text by converting it to **lowercase**.\n",
        "      * Remove all characters in `punctuationList`.\n",
        "      * Filter out low-value words (words in `stopwordsSet`).\n"
      ],
      "metadata": {
        "id": "3zrCORxGvja4"
      },
      "id": "3zrCORxGvja4"
    },
    {
      "cell_type": "code",
      "metadata": {
        "colab": {
          "base_uri": "https://localhost:8080/"
        },
        "id": "d1787fc3",
        "outputId": "907632d2-11c6-479c-f868-a5da84005b67"
      },
      "source": [
        "def preprocessText(text, punctuationList, stopwordsSet):\n",
        "    \"\"\"\n",
        "    Normalizes text by converting to lowercase, removing punctuation,\n",
        "    and filtering out stopwords.\n",
        "\n",
        "    Args:\n",
        "        text (str): The input text.\n",
        "        punctuationList (str): A string of characters to remove.\n",
        "        stopwordsSet (set): A set of words to filter out.\n",
        "\n",
        "    Returns:\n",
        "        list: A list of processed words.\n",
        "    \"\"\"\n",
        "    # Normalize to lowercase\n",
        "    text = text.lower()\n",
        "\n",
        "    # Remove punctuation\n",
        "    text = \"\".join([char for char in text if char not in punctuationList])\n",
        "\n",
        "    # Filter out stopwords and split into words\n",
        "    words = [word for word in text.split() if word not in stopwordsSet]\n",
        "\n",
        "    return words\n",
        "\n",
        "# Test the function\n",
        "test_text = \"I LOVE the new #GulPhone! Battery life is amazing.\"\n",
        "processed_words = preprocessText(test_text, PUNCTUATION_CHARS, STOPWORDS_SET)\n",
        "print(f\"Original text: {test_text}\")\n",
        "print(f\"Processed words: {processed_words}\")"
      ],
      "id": "d1787fc3",
      "execution_count": 17,
      "outputs": [
        {
          "output_type": "stream",
          "name": "stdout",
          "text": [
            "Original text: I LOVE the new #GulPhone! Battery life is amazing.\n",
            "Processed words: ['love', 'new', 'gulphone', 'battery', 'life', 'amazing']\n"
          ]
        }
      ]
    },
    {
      "cell_type": "markdown",
      "source": [
        "2.  **Score Sentiment:** Write a function `analyzePosts(postsList, punctuation, stopwords, positive, negative)`.\n",
        "      * Use the **`map`** function (with a `lambda`) to efficiently apply `preprocessText` to every post.\n",
        "      * Score each post: **+1** for each word in `POSITIVE_WORDS_SET`, **-1** for each word in `NEGATIVE_WORDS_SET`.\n",
        "      * Return a new list of dictionaries, each containing the **original id, text, the `processedText` list, and the final score**.\n"
      ],
      "metadata": {
        "id": "W1Q9BOmkvjL3"
      },
      "id": "W1Q9BOmkvjL3"
    },
    {
      "cell_type": "code",
      "metadata": {
        "colab": {
          "base_uri": "https://localhost:8080/",
          "height": 590
        },
        "id": "c0263b2b",
        "outputId": "658a1a78-6ef8-4eb7-d5d0-5810016edbbe"
      },
      "source": [
        "def analyzePosts(postsList, punctuation, stopwords, positive, negative):\n",
        "    \"\"\"\n",
        "    Analyzes a list of posts, preprocesses the text, scores sentiment,\n",
        "    and returns a new list of dictionaries with the results.\n",
        "\n",
        "    Args:\n",
        "        postsList (list): A list of dictionaries, each representing a post.\n",
        "        punctuation (str): A string of characters to remove during preprocessing.\n",
        "        stopwords (set): A set of stopwords to filter out during preprocessing.\n",
        "        positive (set): A set of positive words for sentiment scoring.\n",
        "        negative (set): A set of negative words for sentiment scoring.\n",
        "\n",
        "    Returns:\n",
        "        list: A list of dictionaries with original id, text, processed text, and score.\n",
        "    \"\"\"\n",
        "    def score_sentiment(processed_words, positive_set, negative_set):\n",
        "        score = 0\n",
        "        for word in processed_words:\n",
        "            if word in positive_set:\n",
        "                score += 1\n",
        "            elif word in negative_set:\n",
        "                score -= 1\n",
        "        return score\n",
        "\n",
        "    analyzed_posts = list(map(lambda post: {\n",
        "        'id': post['id'],\n",
        "        'text': post['text'],\n",
        "        'processedText': preprocessText(post['text'], punctuation, stopwords),\n",
        "        'score': score_sentiment(preprocessText(post['text'], punctuation, stopwords), positive, negative)\n",
        "    }, postsList))\n",
        "\n",
        "    return analyzed_posts\n",
        "\n",
        "# Test the function\n",
        "analyzed_results = analyzePosts(allPosts, PUNCTUATION_CHARS, STOPWORDS_SET, POSITIVE_WORDS_SET, NEGATIVE_WORDS_SET)\n",
        "display(analyzed_results)"
      ],
      "id": "c0263b2b",
      "execution_count": 18,
      "outputs": [
        {
          "output_type": "display_data",
          "data": {
            "text/plain": [
              "[{'id': 1,\n",
              "  'text': 'I LOVE the new #GulPhone! Battery life is amazing.',\n",
              "  'processedText': ['love', 'new', 'gulphone', 'battery', 'life', 'amazing'],\n",
              "  'score': 2},\n",
              " {'id': 2,\n",
              "  'text': 'My #GulPhone is a total disaster. The screen is already broken!',\n",
              "  'processedText': ['gulphone',\n",
              "   'total',\n",
              "   'disaster',\n",
              "   'screen',\n",
              "   'already',\n",
              "   'broken'],\n",
              "  'score': -2},\n",
              " {'id': 3,\n",
              "  'text': 'Worst customer service ever from @GulPhoneSupport. Avoid this.',\n",
              "  'processedText': ['worst',\n",
              "   'customer',\n",
              "   'service',\n",
              "   'ever',\n",
              "   'from',\n",
              "   'gulphonesupport',\n",
              "   'avoid'],\n",
              "  'score': -2},\n",
              " {'id': 4,\n",
              "  'text': 'The @GulPhoneSupport team was helpful and resolved my issue. Great service!',\n",
              "  'processedText': ['gulphonesupport',\n",
              "   'team',\n",
              "   'helpful',\n",
              "   'resolved',\n",
              "   'issue',\n",
              "   'great',\n",
              "   'service'],\n",
              "  'score': 3}]"
            ]
          },
          "metadata": {}
        }
      ]
    },
    {
      "cell_type": "markdown",
      "source": [
        "3.  **Flag Posts:** Write a function `getFlaggedPosts(scoredPosts, sentimentThreshold=-1)`.\n",
        "      * Use a **single-line list comprehension** to return a new list containing only the posts at or below the `sentimentThreshold`.\n"
      ],
      "metadata": {
        "id": "Y77ADtjOvi8f"
      },
      "id": "Y77ADtjOvi8f"
    },
    {
      "cell_type": "code",
      "metadata": {
        "colab": {
          "base_uri": "https://localhost:8080/",
          "height": 347
        },
        "id": "90d18b90",
        "outputId": "96dba9fe-d008-494a-84c2-3c588e056288"
      },
      "source": [
        "def getFlaggedPosts(scoredPosts, sentimentThreshold=-1):\n",
        "    \"\"\"\n",
        "    Filters a list of scored posts to return only those at or below a given sentiment threshold.\n",
        "\n",
        "    Args:\n",
        "        scoredPosts (list): A list of dictionaries, each representing a scored post.\n",
        "        sentimentThreshold (int): The threshold score. Posts with scores at or below this will be flagged.\n",
        "\n",
        "    Returns:\n",
        "        list: A list of dictionaries containing only the flagged posts.\n",
        "    \"\"\"\n",
        "    return [post for post in scoredPosts if post['score'] <= sentimentThreshold]\n",
        "\n",
        "# Test the function\n",
        "flagged_posts = getFlaggedPosts(analyzed_results)\n",
        "display(flagged_posts)"
      ],
      "id": "90d18b90",
      "execution_count": 19,
      "outputs": [
        {
          "output_type": "display_data",
          "data": {
            "text/plain": [
              "[{'id': 2,\n",
              "  'text': 'My #GulPhone is a total disaster. The screen is already broken!',\n",
              "  'processedText': ['gulphone',\n",
              "   'total',\n",
              "   'disaster',\n",
              "   'screen',\n",
              "   'already',\n",
              "   'broken'],\n",
              "  'score': -2},\n",
              " {'id': 3,\n",
              "  'text': 'Worst customer service ever from @GulPhoneSupport. Avoid this.',\n",
              "  'processedText': ['worst',\n",
              "   'customer',\n",
              "   'service',\n",
              "   'ever',\n",
              "   'from',\n",
              "   'gulphonesupport',\n",
              "   'avoid'],\n",
              "  'score': -2}]"
            ]
          },
          "metadata": {}
        }
      ]
    },
    {
      "cell_type": "markdown",
      "source": [
        "4.  **Find Topics:** Write a function `findNegativeTopics(flaggedPosts)`.\n",
        "      * Iterate only through the list of negative posts from Task 3 to find all **hashtags (\\#) and mentions (@)**.\n",
        "      * Return a dictionary that counts the **frequency** of each negative topic."
      ],
      "metadata": {
        "id": "Oh_nkFYwvigw"
      },
      "id": "Oh_nkFYwvigw"
    },
    {
      "cell_type": "code",
      "metadata": {
        "colab": {
          "base_uri": "https://localhost:8080/",
          "height": 34
        },
        "id": "24b790a4",
        "outputId": "a61f1eb5-6e1f-465c-f57a-d59ae6880dd8"
      },
      "source": [
        "import re\n",
        "\n",
        "def findNegativeTopics(flaggedPosts):\n",
        "    \"\"\"\n",
        "    Finds and counts hashtags and mentions from a list of flagged posts\n",
        "    by examining the original text.\n",
        "\n",
        "    Args:\n",
        "        flaggedPosts (list): A list of dictionaries containing flagged posts.\n",
        "\n",
        "    Returns:\n",
        "        dict: A dictionary with the frequency of each hashtag and mention.\n",
        "    \"\"\"\n",
        "    negative_topics = {}\n",
        "    for post in flaggedPosts:\n",
        "        # Examine the original text to find hashtags and mentions\n",
        "        words = post['text'].lower().split()\n",
        "        for word in words:\n",
        "            if word.startswith('#') or word.startswith('@'):\n",
        "                # Clean the word to remove trailing punctuation\n",
        "                cleaned_word = \"\".join([char for char in word if char.isalnum() or char in ['#', '@']])\n",
        "                if cleaned_word: # Ensure the cleaned word is not empty\n",
        "                    if cleaned_word in negative_topics:\n",
        "                        negative_topics[cleaned_word] += 1\n",
        "                    else:\n",
        "                        negative_topics[cleaned_word] = 1\n",
        "    return negative_topics\n",
        "\n",
        "# Test the function\n",
        "negative_topics = findNegativeTopics(flagged_posts)\n",
        "display(negative_topics)"
      ],
      "id": "24b790a4",
      "execution_count": 21,
      "outputs": [
        {
          "output_type": "display_data",
          "data": {
            "text/plain": [
              "{'#gulphone': 1, '@gulphonesupport': 1}"
            ]
          },
          "metadata": {}
        }
      ]
    },
    {
      "cell_type": "code",
      "source": [],
      "metadata": {
        "id": "DEAh3vUHvzqH"
      },
      "id": "DEAh3vUHvzqH",
      "execution_count": 20,
      "outputs": []
    }
  ],
  "metadata": {
    "language_info": {
      "name": "python"
    },
    "colab": {
      "provenance": []
    },
    "kernelspec": {
      "name": "python3",
      "display_name": "Python 3"
    }
  },
  "nbformat": 4,
  "nbformat_minor": 5
}