{
 "cells": [
  {
   "cell_type": "markdown",
   "id": "e93831d4",
   "metadata": {},
   "source": [
    "## 💬 Question 02: Sentiment Analysis and Topic Modeling\n",
    "\n",
    "**Goal:** Process a list of social media posts, clean the text, score the sentiment, and find trending negative topics for the brand \"GulPhone\".\n",
    "**Topics:** Functions, Data Structures (Lists, Dictionaries, Sets), List Comprehensions, `map`, `lambda`.\n",
    "\n",
    "### Provided Data\n",
    "\n",
    "```python\n",
    "allPosts = [\n",
    "    {'id': 1, 'text': 'I LOVE the new #GulPhone! Battery life is amazing.'},\n",
    "    {'id': 2, 'text': 'My #GulPhone is a total disaster. The screen is already broken!'},\n",
    "    {'id': 3, 'text': 'Worst customer service ever from @GulPhoneSupport. Avoid this.'},\n",
    "    {'id': 4, 'text': 'The @GulPhoneSupport team was helpful and resolved my issue. Great service!'},\n",
    "]\n",
    "\n",
    "PUNCTUATION_CHARS = '!\"#\\$%&'()*+,-./:;<=>?@[\\\\]^_^{|}~'\n",
    "STOPWORDS_SET = {'i', 'me', 'my', 'a', 'an', 'the', 'is', 'am', 'was', 'and', \n",
    "                 'but', 'if', 'or', 'to', 'of', 'at', 'by', ' ', 'for', 'with', \n",
    "                 'this', 'that'}\n",
    "POSITIVE_WORDS_SET = {'love', 'amazing', 'great', 'helpful', 'resolved'}\n",
    "NEGATIVE_WORDS_SET = {'disaster', 'broken', 'worst', 'avoid', 'bad'}\n",
    "```\n",
    "\n",
    "### Tasks\n",
    "\n",
    "1.  **Clean Text:** Write a reusable function `preprocessText(text, punctuationList, stopwordsSet)`.\n",
    "      * Normalize the text by converting it to **lowercase**.\n",
    "      * Remove all characters in `punctuationList`.\n",
    "      * Filter out low-value words (words in `stopwordsSet`).\n",
    "2.  **Score Sentiment:** Write a function `analyzePosts(postsList, punctuation, stopwords, positive, negative)`.\n",
    "      * Use the **`map`** function (with a `lambda`) to efficiently apply `preprocessText` to every post.\n",
    "      * Score each post: **+1** for each word in `POSITIVE_WORDS_SET`, **-1** for each word in `NEGATIVE_WORDS_SET`.\n",
    "      * Return a new list of dictionaries, each containing the **original id, text, the `processedText` list, and the final score**.\n",
    "3.  **Flag Posts:** Write a function `getFlaggedPosts(scoredPosts, sentimentThreshold=-1)`.\n",
    "      * Use a **single-line list comprehension** to return a new list containing only the posts at or below the `sentimentThreshold`.\n",
    "4.  **Find Topics:** Write a function `findNegativeTopics(flaggedPosts)`.\n",
    "      * Iterate only through the list of negative posts from Task 3 to find all **hashtags (\\#) and mentions (@)**.\n",
    "      * Return a dictionary that counts the **frequency** of each negative topic.\n",
    "\n"
   ]
  }
 ],
 "metadata": {
  "language_info": {
   "name": "python"
  }
 },
 "nbformat": 4,
 "nbformat_minor": 5
}
